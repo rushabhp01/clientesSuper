{
 "cells": [
  {
   "cell_type": "code",
   "execution_count": 1,
   "id": "c69b2a1a",
   "metadata": {},
   "outputs": [],
   "source": [
    "import pandas as pd\n",
    "import numpy as np\n",
    "from scipy.spatial.distance import cdist\n",
    "from sklearn.cluster import KMeans\n",
    "from sklearn.metrics import confusion_matrix\n",
    "from matplotlib import pyplot as plt\n",
    "from sklearn.preprocessing import scale"
   ]
  },
  {
   "cell_type": "code",
   "execution_count": 2,
   "id": "3297b386",
   "metadata": {},
   "outputs": [
    {
     "name": "stderr",
     "output_type": "stream",
     "text": [
      "/var/folders/37/x57w4bp561x9sj71bs9nmw0w0000gn/T/ipykernel_73773/1320697883.py:1: DtypeWarning: Columns (1) have mixed types. Specify dtype option on import or set low_memory=False.\n",
      "  ventas = pd.read_csv(\"resultadosVentas.csv\", decimal=\",\")\n"
     ]
    }
   ],
   "source": [
    "ventas = pd.read_csv(\"resultadosVentas.csv\", decimal=\",\")\n",
    "df = ventas.copy()"
   ]
  },
  {
   "cell_type": "code",
   "execution_count": 3,
   "id": "6bbd7dda",
   "metadata": {},
   "outputs": [
    {
     "data": {
      "text/html": [
       "<div>\n",
       "<style scoped>\n",
       "    .dataframe tbody tr th:only-of-type {\n",
       "        vertical-align: middle;\n",
       "    }\n",
       "\n",
       "    .dataframe tbody tr th {\n",
       "        vertical-align: top;\n",
       "    }\n",
       "\n",
       "    .dataframe thead th {\n",
       "        text-align: right;\n",
       "    }\n",
       "</style>\n",
       "<table border=\"1\" class=\"dataframe\">\n",
       "  <thead>\n",
       "    <tr style=\"text-align: right;\">\n",
       "      <th></th>\n",
       "      <th>IdCliente</th>\n",
       "      <th>Provincia</th>\n",
       "      <th>Grupo</th>\n",
       "      <th>Ventas 2018</th>\n",
       "      <th>Unidades 2018</th>\n",
       "      <th>Tickets 2018</th>\n",
       "      <th>Antigüedad</th>\n",
       "      <th>Ventas 2017</th>\n",
       "      <th>Unidades 2017</th>\n",
       "      <th>Tickets 2017</th>\n",
       "      <th>Ventas 2016</th>\n",
       "      <th>Unidades 2016</th>\n",
       "      <th>Tickets 2016</th>\n",
       "      <th>Ventas 2015</th>\n",
       "      <th>Unidades 2015</th>\n",
       "      <th>Tickets 2015</th>\n",
       "      <th>Ventas 2014</th>\n",
       "      <th>Unidades 2014</th>\n",
       "      <th>Tickets 2014</th>\n",
       "    </tr>\n",
       "  </thead>\n",
       "  <tbody>\n",
       "    <tr>\n",
       "      <th>0</th>\n",
       "      <td>Cliente 1</td>\n",
       "      <td>29</td>\n",
       "      <td>Tienda/Supermercado de Alimentacion</td>\n",
       "      <td>1525.788</td>\n",
       "      <td>2213.28</td>\n",
       "      <td>46</td>\n",
       "      <td>2009-01-05 09:45:21.000</td>\n",
       "      <td>3292.9751</td>\n",
       "      <td>2307.37</td>\n",
       "      <td>38.0</td>\n",
       "      <td>3545.6107</td>\n",
       "      <td>4569.7</td>\n",
       "      <td>49.0</td>\n",
       "      <td>6306.3445</td>\n",
       "      <td>8004.09</td>\n",
       "      <td>91.0</td>\n",
       "      <td>6439.1802</td>\n",
       "      <td>8519.13</td>\n",
       "      <td>83.0</td>\n",
       "    </tr>\n",
       "    <tr>\n",
       "      <th>1</th>\n",
       "      <td>Cliente 2</td>\n",
       "      <td>29</td>\n",
       "      <td>NaN</td>\n",
       "      <td>115.8179</td>\n",
       "      <td>82.97</td>\n",
       "      <td>1</td>\n",
       "      <td>2009-01-03 10:48:33.000</td>\n",
       "      <td>286.9034</td>\n",
       "      <td>145.04</td>\n",
       "      <td>3.0</td>\n",
       "      <td>446.0571</td>\n",
       "      <td>321.39</td>\n",
       "      <td>12.0</td>\n",
       "      <td>135.4624</td>\n",
       "      <td>91.62</td>\n",
       "      <td>4.0</td>\n",
       "      <td>190.4443</td>\n",
       "      <td>175.68</td>\n",
       "      <td>7.0</td>\n",
       "    </tr>\n",
       "    <tr>\n",
       "      <th>2</th>\n",
       "      <td>Cliente 3</td>\n",
       "      <td>29</td>\n",
       "      <td>Tienda/Supermercado de Alimentacion</td>\n",
       "      <td>25670.9588</td>\n",
       "      <td>35516.11</td>\n",
       "      <td>236</td>\n",
       "      <td>2009-01-03 09:07:38.000</td>\n",
       "      <td>27947.2056</td>\n",
       "      <td>36381.85</td>\n",
       "      <td>256.0</td>\n",
       "      <td>33964.779</td>\n",
       "      <td>41264.9</td>\n",
       "      <td>257.0</td>\n",
       "      <td>36267.5888</td>\n",
       "      <td>42266.22</td>\n",
       "      <td>338.0</td>\n",
       "      <td>36096.9745</td>\n",
       "      <td>41184.69</td>\n",
       "      <td>348.0</td>\n",
       "    </tr>\n",
       "    <tr>\n",
       "      <th>3</th>\n",
       "      <td>Cliente 4</td>\n",
       "      <td>29</td>\n",
       "      <td>Tienda/Supermercado de Alimentacion</td>\n",
       "      <td>39519.3851</td>\n",
       "      <td>42299.2</td>\n",
       "      <td>358</td>\n",
       "      <td>2009-01-05 05:31:46.000</td>\n",
       "      <td>25968.0955</td>\n",
       "      <td>38376.72</td>\n",
       "      <td>231.0</td>\n",
       "      <td>14953.0722</td>\n",
       "      <td>24823.03</td>\n",
       "      <td>170.0</td>\n",
       "      <td>15524.3915</td>\n",
       "      <td>25823.11</td>\n",
       "      <td>248.0</td>\n",
       "      <td>13159.2442</td>\n",
       "      <td>21074.77</td>\n",
       "      <td>175.0</td>\n",
       "    </tr>\n",
       "    <tr>\n",
       "      <th>4</th>\n",
       "      <td>Cliente 5</td>\n",
       "      <td>29</td>\n",
       "      <td>Tienda/Supermercado de Alimentacion</td>\n",
       "      <td>2555.5218</td>\n",
       "      <td>2587.39</td>\n",
       "      <td>20</td>\n",
       "      <td>2009-01-12 11:39:56.000</td>\n",
       "      <td>3455.6742</td>\n",
       "      <td>2657.39</td>\n",
       "      <td>24.0</td>\n",
       "      <td>3335.1821</td>\n",
       "      <td>2684.27</td>\n",
       "      <td>31.0</td>\n",
       "      <td>1278.0458</td>\n",
       "      <td>950.49</td>\n",
       "      <td>10.0</td>\n",
       "      <td>1095.3949</td>\n",
       "      <td>563.89</td>\n",
       "      <td>7.0</td>\n",
       "    </tr>\n",
       "  </tbody>\n",
       "</table>\n",
       "</div>"
      ],
      "text/plain": [
       "   IdCliente Provincia                                Grupo Ventas 2018  \\\n",
       "0  Cliente 1        29  Tienda/Supermercado de Alimentacion    1525.788   \n",
       "1  Cliente 2        29                                  NaN    115.8179   \n",
       "2  Cliente 3        29  Tienda/Supermercado de Alimentacion  25670.9588   \n",
       "3  Cliente 4        29  Tienda/Supermercado de Alimentacion  39519.3851   \n",
       "4  Cliente 5        29  Tienda/Supermercado de Alimentacion   2555.5218   \n",
       "\n",
       "  Unidades 2018  Tickets 2018               Antigüedad Ventas 2017  \\\n",
       "0       2213.28            46  2009-01-05 09:45:21.000   3292.9751   \n",
       "1         82.97             1  2009-01-03 10:48:33.000    286.9034   \n",
       "2      35516.11           236  2009-01-03 09:07:38.000  27947.2056   \n",
       "3       42299.2           358  2009-01-05 05:31:46.000  25968.0955   \n",
       "4       2587.39            20  2009-01-12 11:39:56.000   3455.6742   \n",
       "\n",
       "  Unidades 2017  Tickets 2017 Ventas 2016 Unidades 2016  Tickets 2016  \\\n",
       "0       2307.37          38.0   3545.6107        4569.7          49.0   \n",
       "1        145.04           3.0    446.0571        321.39          12.0   \n",
       "2      36381.85         256.0   33964.779       41264.9         257.0   \n",
       "3      38376.72         231.0  14953.0722      24823.03         170.0   \n",
       "4       2657.39          24.0   3335.1821       2684.27          31.0   \n",
       "\n",
       "  Ventas 2015 Unidades 2015  Tickets 2015 Ventas 2014 Unidades 2014  \\\n",
       "0   6306.3445       8004.09          91.0   6439.1802       8519.13   \n",
       "1    135.4624         91.62           4.0    190.4443        175.68   \n",
       "2  36267.5888      42266.22         338.0  36096.9745      41184.69   \n",
       "3  15524.3915      25823.11         248.0  13159.2442      21074.77   \n",
       "4   1278.0458        950.49          10.0   1095.3949        563.89   \n",
       "\n",
       "   Tickets 2014  \n",
       "0          83.0  \n",
       "1           7.0  \n",
       "2         348.0  \n",
       "3         175.0  \n",
       "4           7.0  "
      ]
     },
     "execution_count": 3,
     "metadata": {},
     "output_type": "execute_result"
    }
   ],
   "source": [
    "df.head()"
   ]
  },
  {
   "cell_type": "code",
   "execution_count": 4,
   "id": "761728b3",
   "metadata": {},
   "outputs": [
    {
     "data": {
      "text/html": [
       "<div>\n",
       "<style scoped>\n",
       "    .dataframe tbody tr th:only-of-type {\n",
       "        vertical-align: middle;\n",
       "    }\n",
       "\n",
       "    .dataframe tbody tr th {\n",
       "        vertical-align: top;\n",
       "    }\n",
       "\n",
       "    .dataframe thead th {\n",
       "        text-align: right;\n",
       "    }\n",
       "</style>\n",
       "<table border=\"1\" class=\"dataframe\">\n",
       "  <thead>\n",
       "    <tr style=\"text-align: right;\">\n",
       "      <th></th>\n",
       "      <th>IdCliente</th>\n",
       "      <th>Provincia</th>\n",
       "      <th>Grupo</th>\n",
       "      <th>Ventas 2018</th>\n",
       "      <th>Unidades 2018</th>\n",
       "      <th>Tickets 2018</th>\n",
       "      <th>Antigüedad</th>\n",
       "      <th>Ventas 2017</th>\n",
       "      <th>Unidades 2017</th>\n",
       "      <th>Tickets 2017</th>\n",
       "      <th>Ventas 2016</th>\n",
       "      <th>Unidades 2016</th>\n",
       "      <th>Tickets 2016</th>\n",
       "      <th>Ventas 2015</th>\n",
       "      <th>Unidades 2015</th>\n",
       "      <th>Tickets 2015</th>\n",
       "      <th>Ventas 2014</th>\n",
       "      <th>Unidades 2014</th>\n",
       "      <th>Tickets 2014</th>\n",
       "    </tr>\n",
       "  </thead>\n",
       "  <tbody>\n",
       "    <tr>\n",
       "      <th>13466</th>\n",
       "      <td>Cliente 13467</td>\n",
       "      <td>41</td>\n",
       "      <td>Tienda/Supermercado de Alimentacion</td>\n",
       "      <td>4715.1139</td>\n",
       "      <td>4154.61</td>\n",
       "      <td>32</td>\n",
       "      <td>2009-01-03 10:29:18.000</td>\n",
       "      <td>3635.5559</td>\n",
       "      <td>3568.54</td>\n",
       "      <td>34.0</td>\n",
       "      <td>5211.3603</td>\n",
       "      <td>5654.35</td>\n",
       "      <td>47.0</td>\n",
       "      <td>8627.3295</td>\n",
       "      <td>9239.76</td>\n",
       "      <td>68.0</td>\n",
       "      <td>10106.7066</td>\n",
       "      <td>10715.08</td>\n",
       "      <td>70.0</td>\n",
       "    </tr>\n",
       "    <tr>\n",
       "      <th>5586</th>\n",
       "      <td>Cliente 5587</td>\n",
       "      <td>11</td>\n",
       "      <td>Tienda/Supermercado de Alimentacion</td>\n",
       "      <td>4928.9592</td>\n",
       "      <td>4258.51</td>\n",
       "      <td>18</td>\n",
       "      <td>2009-01-16 15:53:57.000</td>\n",
       "      <td>9412.6126</td>\n",
       "      <td>9643.3</td>\n",
       "      <td>35.0</td>\n",
       "      <td>12106.2024</td>\n",
       "      <td>12846.48</td>\n",
       "      <td>49.0</td>\n",
       "      <td>7795.4002</td>\n",
       "      <td>9103.45</td>\n",
       "      <td>37.0</td>\n",
       "      <td>9698.1674</td>\n",
       "      <td>10672.01</td>\n",
       "      <td>44.0</td>\n",
       "    </tr>\n",
       "    <tr>\n",
       "      <th>4928</th>\n",
       "      <td>Cliente 4929</td>\n",
       "      <td>23</td>\n",
       "      <td>Particulares</td>\n",
       "      <td>1786.7113</td>\n",
       "      <td>994.9</td>\n",
       "      <td>28</td>\n",
       "      <td>2009-01-13 16:21:19.000</td>\n",
       "      <td>1271.4435</td>\n",
       "      <td>657.62</td>\n",
       "      <td>26.0</td>\n",
       "      <td>2214.1334</td>\n",
       "      <td>1134.74</td>\n",
       "      <td>39.0</td>\n",
       "      <td>1528.0749</td>\n",
       "      <td>953.89</td>\n",
       "      <td>32.0</td>\n",
       "      <td>2106.8973</td>\n",
       "      <td>1269.79</td>\n",
       "      <td>36.0</td>\n",
       "    </tr>\n",
       "    <tr>\n",
       "      <th>28296</th>\n",
       "      <td>Cliente 28297</td>\n",
       "      <td>29</td>\n",
       "      <td>Tienda/Supermercado de Alimentacion</td>\n",
       "      <td>12873.3972</td>\n",
       "      <td>20993.71</td>\n",
       "      <td>153</td>\n",
       "      <td>2018-04-25 08:00:57.000</td>\n",
       "      <td>NaN</td>\n",
       "      <td>NaN</td>\n",
       "      <td>NaN</td>\n",
       "      <td>NaN</td>\n",
       "      <td>NaN</td>\n",
       "      <td>NaN</td>\n",
       "      <td>NaN</td>\n",
       "      <td>NaN</td>\n",
       "      <td>NaN</td>\n",
       "      <td>NaN</td>\n",
       "      <td>NaN</td>\n",
       "      <td>NaN</td>\n",
       "    </tr>\n",
       "    <tr>\n",
       "      <th>34629</th>\n",
       "      <td>Cliente 34630</td>\n",
       "      <td>14</td>\n",
       "      <td>Otros</td>\n",
       "      <td>1663.032</td>\n",
       "      <td>3043</td>\n",
       "      <td>12</td>\n",
       "      <td>2010-08-20 19:14:45.000</td>\n",
       "      <td>2068.957</td>\n",
       "      <td>3673</td>\n",
       "      <td>17.0</td>\n",
       "      <td>1944.87</td>\n",
       "      <td>3103</td>\n",
       "      <td>13.0</td>\n",
       "      <td>1806.803</td>\n",
       "      <td>3171</td>\n",
       "      <td>13.0</td>\n",
       "      <td>1014.0065</td>\n",
       "      <td>2045.16</td>\n",
       "      <td>9.0</td>\n",
       "    </tr>\n",
       "  </tbody>\n",
       "</table>\n",
       "</div>"
      ],
      "text/plain": [
       "           IdCliente Provincia                                Grupo  \\\n",
       "13466  Cliente 13467        41  Tienda/Supermercado de Alimentacion   \n",
       "5586    Cliente 5587        11  Tienda/Supermercado de Alimentacion   \n",
       "4928    Cliente 4929        23                         Particulares   \n",
       "28296  Cliente 28297        29  Tienda/Supermercado de Alimentacion   \n",
       "34629  Cliente 34630        14                                Otros   \n",
       "\n",
       "      Ventas 2018 Unidades 2018  Tickets 2018               Antigüedad  \\\n",
       "13466   4715.1139       4154.61            32  2009-01-03 10:29:18.000   \n",
       "5586    4928.9592       4258.51            18  2009-01-16 15:53:57.000   \n",
       "4928    1786.7113         994.9            28  2009-01-13 16:21:19.000   \n",
       "28296  12873.3972      20993.71           153  2018-04-25 08:00:57.000   \n",
       "34629    1663.032          3043            12  2010-08-20 19:14:45.000   \n",
       "\n",
       "      Ventas 2017 Unidades 2017  Tickets 2017 Ventas 2016 Unidades 2016  \\\n",
       "13466   3635.5559       3568.54          34.0   5211.3603       5654.35   \n",
       "5586    9412.6126        9643.3          35.0  12106.2024      12846.48   \n",
       "4928    1271.4435        657.62          26.0   2214.1334       1134.74   \n",
       "28296         NaN           NaN           NaN         NaN           NaN   \n",
       "34629    2068.957          3673          17.0     1944.87          3103   \n",
       "\n",
       "       Tickets 2016 Ventas 2015 Unidades 2015  Tickets 2015 Ventas 2014  \\\n",
       "13466          47.0   8627.3295       9239.76          68.0  10106.7066   \n",
       "5586           49.0   7795.4002       9103.45          37.0   9698.1674   \n",
       "4928           39.0   1528.0749        953.89          32.0   2106.8973   \n",
       "28296           NaN         NaN           NaN           NaN         NaN   \n",
       "34629          13.0    1806.803          3171          13.0   1014.0065   \n",
       "\n",
       "      Unidades 2014  Tickets 2014  \n",
       "13466      10715.08          70.0  \n",
       "5586       10672.01          44.0  \n",
       "4928        1269.79          36.0  \n",
       "28296           NaN           NaN  \n",
       "34629       2045.16           9.0  "
      ]
     },
     "execution_count": 4,
     "metadata": {},
     "output_type": "execute_result"
    }
   ],
   "source": [
    "df.sample(5)"
   ]
  },
  {
   "cell_type": "code",
   "execution_count": 5,
   "id": "e97c6d6b",
   "metadata": {},
   "outputs": [
    {
     "data": {
      "text/plain": [
       "(38787, 19)"
      ]
     },
     "execution_count": 5,
     "metadata": {},
     "output_type": "execute_result"
    }
   ],
   "source": [
    "df.shape"
   ]
  },
  {
   "cell_type": "code",
   "execution_count": 6,
   "id": "59d7db43",
   "metadata": {},
   "outputs": [
    {
     "data": {
      "text/plain": [
       "Index(['IdCliente', 'Provincia', 'Grupo', 'Ventas 2018', 'Unidades 2018',\n",
       "       'Tickets 2018', 'Antigüedad', 'Ventas 2017', 'Unidades 2017',\n",
       "       'Tickets 2017', 'Ventas 2016', 'Unidades 2016', 'Tickets 2016',\n",
       "       'Ventas 2015', 'Unidades 2015', 'Tickets 2015', 'Ventas 2014',\n",
       "       'Unidades 2014', 'Tickets 2014'],\n",
       "      dtype='object')"
      ]
     },
     "execution_count": 6,
     "metadata": {},
     "output_type": "execute_result"
    }
   ],
   "source": [
    "df.columns"
   ]
  },
  {
   "cell_type": "code",
   "execution_count": 7,
   "id": "c790bbec",
   "metadata": {},
   "outputs": [
    {
     "data": {
      "text/plain": [
       "IdCliente         object\n",
       "Provincia         object\n",
       "Grupo             object\n",
       "Ventas 2018       object\n",
       "Unidades 2018     object\n",
       "Tickets 2018       int64\n",
       "Antigüedad        object\n",
       "Ventas 2017       object\n",
       "Unidades 2017     object\n",
       "Tickets 2017     float64\n",
       "Ventas 2016       object\n",
       "Unidades 2016     object\n",
       "Tickets 2016     float64\n",
       "Ventas 2015       object\n",
       "Unidades 2015     object\n",
       "Tickets 2015     float64\n",
       "Ventas 2014       object\n",
       "Unidades 2014     object\n",
       "Tickets 2014     float64\n",
       "dtype: object"
      ]
     },
     "execution_count": 7,
     "metadata": {},
     "output_type": "execute_result"
    }
   ],
   "source": [
    "df.dtypes  #solo se salvan tickets"
   ]
  },
  {
   "cell_type": "code",
   "execution_count": 8,
   "id": "6e3d9bcc",
   "metadata": {},
   "outputs": [],
   "source": [
    "df['Antigüedad'] = pd.to_datetime(df['Antigüedad'])"
   ]
  },
  {
   "cell_type": "code",
   "execution_count": null,
   "id": "4439c6fa",
   "metadata": {},
   "outputs": [],
   "source": []
  },
  {
   "cell_type": "code",
   "execution_count": null,
   "id": "6e83f377",
   "metadata": {},
   "outputs": [],
   "source": []
  },
  {
   "cell_type": "code",
   "execution_count": 9,
   "id": "8642ed61",
   "metadata": {},
   "outputs": [
    {
     "data": {
      "text/plain": [
       "29    10457\n",
       "14     7787\n",
       "41     4668\n",
       "11     3303\n",
       "23     2696\n",
       "      ...  \n",
       "16        1\n",
       "35        1\n",
       "20        1\n",
       "32        1\n",
       "12        1\n",
       "Name: Provincia, Length: 82, dtype: int64"
      ]
     },
     "execution_count": 9,
     "metadata": {},
     "output_type": "execute_result"
    }
   ],
   "source": [
    "#Valores nulos en columnas\n",
    "df.Provincia.value_counts()"
   ]
  },
  {
   "cell_type": "code",
   "execution_count": 10,
   "id": "26ec4d0e",
   "metadata": {},
   "outputs": [
    {
     "data": {
      "text/plain": [
       "Horeca (Bares, Restaurante, Cafet.)    10246\n",
       "Tienda/Supermercado de Alimentacion     8195\n",
       "Otros                                   4802\n",
       "Particulares                            2355\n",
       "Distribuidor                            1189\n",
       "Empleados                                651\n",
       "Drogueria                                245\n",
       "Name: Grupo, dtype: int64"
      ]
     },
     "execution_count": 10,
     "metadata": {},
     "output_type": "execute_result"
    }
   ],
   "source": [
    "df.Grupo.value_counts()"
   ]
  },
  {
   "cell_type": "code",
   "execution_count": 11,
   "id": "485a4675",
   "metadata": {},
   "outputs": [
    {
     "data": {
      "text/plain": [
       "IdCliente            0\n",
       "Provincia            7\n",
       "Grupo            11104\n",
       "Ventas 2018          0\n",
       "Unidades 2018        0\n",
       "Tickets 2018         0\n",
       "Antigüedad           0\n",
       "Ventas 2017       7165\n",
       "Unidades 2017     7165\n",
       "Tickets 2017      7165\n",
       "Ventas 2016      10701\n",
       "Unidades 2016    10701\n",
       "Tickets 2016     10701\n",
       "Ventas 2015      13962\n",
       "Unidades 2015    13962\n",
       "Tickets 2015     13962\n",
       "Ventas 2014      17109\n",
       "Unidades 2014    17109\n",
       "Tickets 2014     17109\n",
       "dtype: int64"
      ]
     },
     "execution_count": 11,
     "metadata": {},
     "output_type": "execute_result"
    }
   ],
   "source": [
    "df.isna().sum()    #Analizar esto, años se ve q va decreciendo\n",
    "#vemos q coinciden entre ventas,unidades,tickets"
   ]
  },
  {
   "cell_type": "code",
   "execution_count": 12,
   "id": "b7b62ae0",
   "metadata": {},
   "outputs": [],
   "source": [
    "#Convierto solo ventas2018\n",
    "df['Ventas 2018']= df['Ventas 2018'].astype(float)"
   ]
  },
  {
   "cell_type": "code",
   "execution_count": 13,
   "id": "cbc52753",
   "metadata": {},
   "outputs": [
    {
     "data": {
      "text/plain": [
       "IdCliente                object\n",
       "Provincia                object\n",
       "Grupo                    object\n",
       "Ventas 2018             float64\n",
       "Unidades 2018            object\n",
       "Tickets 2018              int64\n",
       "Antigüedad       datetime64[ns]\n",
       "Ventas 2017              object\n",
       "Unidades 2017            object\n",
       "Tickets 2017            float64\n",
       "Ventas 2016              object\n",
       "Unidades 2016            object\n",
       "Tickets 2016            float64\n",
       "Ventas 2015              object\n",
       "Unidades 2015            object\n",
       "Tickets 2015            float64\n",
       "Ventas 2014              object\n",
       "Unidades 2014            object\n",
       "Tickets 2014            float64\n",
       "dtype: object"
      ]
     },
     "execution_count": 13,
     "metadata": {},
     "output_type": "execute_result"
    }
   ],
   "source": [
    "df.dtypes"
   ]
  },
  {
   "cell_type": "code",
   "execution_count": 14,
   "id": "b7364147",
   "metadata": {},
   "outputs": [
    {
     "data": {
      "text/plain": [
       "Grupo\n",
       "Distribuidor                           8528.932163\n",
       "Drogueria                              5026.802040\n",
       "Empleados                              1457.894711\n",
       "Horeca (Bares, Restaurante, Cafet.)    6938.108929\n",
       "Otros                                  3094.912363\n",
       "Particulares                           1533.133810\n",
       "Tienda/Supermercado de Alimentacion    9310.509890\n",
       "Name: Ventas 2018, dtype: float64"
      ]
     },
     "execution_count": 14,
     "metadata": {},
     "output_type": "execute_result"
    }
   ],
   "source": [
    "#Analizar los nan en columna grupo\n",
    "df.groupby('Grupo')['Ventas 2018'].mean()\n",
    "#podemos tener alguna idea a q grupo pertenece a partir de las ventas. \n",
    "#ML supervisado clasificacion multiclase (7Clases)"
   ]
  },
  {
   "cell_type": "code",
   "execution_count": 15,
   "id": "4f0b9c80",
   "metadata": {},
   "outputs": [
    {
     "data": {
      "text/plain": [
       "0       2009-01-05 09:45:21\n",
       "1       2009-01-03 10:48:33\n",
       "2       2009-01-03 09:07:38\n",
       "3       2009-01-05 05:31:46\n",
       "4       2009-01-12 11:39:56\n",
       "                ...        \n",
       "38782   2018-11-21 18:04:14\n",
       "38783   2018-12-13 17:23:42\n",
       "38784   2018-12-20 13:23:19\n",
       "38785   2018-12-28 19:14:02\n",
       "38786   2018-08-02 10:49:56\n",
       "Name: Antigüedad, Length: 38787, dtype: datetime64[ns]"
      ]
     },
     "execution_count": 15,
     "metadata": {},
     "output_type": "execute_result"
    }
   ],
   "source": [
    "df.Antigüedad\n",
    " "
   ]
  },
  {
   "cell_type": "code",
   "execution_count": 16,
   "id": "f7fb5787",
   "metadata": {},
   "outputs": [],
   "source": [
    "#Eliminar hora\n",
    "df[\"Antiguedad_sin_hora\"] = df['Antigüedad'].dt.date"
   ]
  },
  {
   "cell_type": "code",
   "execution_count": 17,
   "id": "6b33cb15",
   "metadata": {},
   "outputs": [
    {
     "data": {
      "text/plain": [
       "2009-01-02    1441\n",
       "2009-01-05     928\n",
       "2009-01-03     926\n",
       "2009-01-07     680\n",
       "2009-01-08     571\n",
       "              ... \n",
       "2009-11-14       1\n",
       "2010-04-24       1\n",
       "2009-09-12       1\n",
       "2013-05-25       1\n",
       "2017-06-10       1\n",
       "Name: Antiguedad_sin_hora, Length: 3007, dtype: int64"
      ]
     },
     "execution_count": 17,
     "metadata": {},
     "output_type": "execute_result"
    }
   ],
   "source": [
    "df.Antiguedad_sin_hora.value_counts()\n",
    "\n",
    "#Analizar h"
   ]
  },
  {
   "cell_type": "code",
   "execution_count": null,
   "id": "98a62ee1",
   "metadata": {},
   "outputs": [],
   "source": []
  },
  {
   "cell_type": "code",
   "execution_count": null,
   "id": "802c5072",
   "metadata": {},
   "outputs": [],
   "source": []
  },
  {
   "cell_type": "code",
   "execution_count": null,
   "id": "653d706d",
   "metadata": {},
   "outputs": [],
   "source": []
  },
  {
   "cell_type": "code",
   "execution_count": null,
   "id": "9d5f4835",
   "metadata": {},
   "outputs": [],
   "source": []
  },
  {
   "cell_type": "code",
   "execution_count": 18,
   "id": "42164f8b",
   "metadata": {},
   "outputs": [],
   "source": [
    "####################################################################################\n",
    "####################################################################################\n",
    "####################################################################################\n",
    "####################################################################################\n",
    "####################################################################################\n",
    "####################################################################################\n",
    "####################################################################################\n",
    "####################################################################################\n"
   ]
  },
  {
   "cell_type": "code",
   "execution_count": 19,
   "id": "bccf90a8",
   "metadata": {},
   "outputs": [],
   "source": [
    "##################### En sucio clase ###############################"
   ]
  },
  {
   "cell_type": "code",
   "execution_count": 20,
   "id": "d934bc63",
   "metadata": {},
   "outputs": [],
   "source": [
    "df2018 = ventas[[\"IdCliente\",\"Provincia\",\"Grupo\",\"Ventas 2018\", \"Unidades 2018\",\"Tickets 2018\"]] "
   ]
  },
  {
   "cell_type": "code",
   "execution_count": 21,
   "id": "a4ac0fcb",
   "metadata": {},
   "outputs": [],
   "source": [
    "copia = df2018"
   ]
  },
  {
   "cell_type": "code",
   "execution_count": null,
   "id": "29051d5a",
   "metadata": {},
   "outputs": [],
   "source": []
  },
  {
   "cell_type": "code",
   "execution_count": 22,
   "id": "6180276d",
   "metadata": {},
   "outputs": [
    {
     "name": "stdout",
     "output_type": "stream",
     "text": [
      "{'Tienda/Supermercado de Alimentacion', 'Particulares', 'Empleados ', 'Distribuidor', 'Horeca (Bares, Restaurante, Cafet.)', 'Drogueria', nan, 'Otros'}\n"
     ]
    }
   ],
   "source": [
    "#df2018[\"Grupo\"]\n",
    "vacio = []\n",
    "for x in df2018[\"Grupo\"]:\n",
    "    vacio.append(x)\n",
    "    \n",
    "aa = set(vacio)\n",
    "print(aa)\n",
    "    \n",
    "\n"
   ]
  },
  {
   "cell_type": "code",
   "execution_count": 23,
   "id": "61101f77",
   "metadata": {},
   "outputs": [
    {
     "name": "stderr",
     "output_type": "stream",
     "text": [
      "/var/folders/37/x57w4bp561x9sj71bs9nmw0w0000gn/T/ipykernel_73773/3985563425.py:3: SettingWithCopyWarning: \n",
      "A value is trying to be set on a copy of a slice from a DataFrame.\n",
      "Try using .loc[row_indexer,col_indexer] = value instead\n",
      "\n",
      "See the caveats in the documentation: https://pandas.pydata.org/pandas-docs/stable/user_guide/indexing.html#returning-a-view-versus-a-copy\n",
      "  df2018[\"Grupo\"] = df2018[\"Grupo\"].replace(\"Horeca (Bares, Restaurante, Cafet.)\",0 ) \\\n"
     ]
    }
   ],
   "source": [
    "import numpy as np\n",
    "\n",
    "df2018[\"Grupo\"] = df2018[\"Grupo\"].replace(\"Horeca (Bares, Restaurante, Cafet.)\",0 ) \\\n",
    "                    .replace(\"Empleados \", 1) \\\n",
    "                    .replace(\"Distribuidor\",2 ) \\\n",
    "                    .replace(\"Drogueria\", 3) \\\n",
    "                    .replace(\"Tienda/Supermercado de Alimentacion\", 4 ) \\\n",
    "                    .replace(\"Otros\",5 ) \\\n",
    "                    .replace(\"Particulares\",6 ) \\\n",
    "                    .replace(np.nan, 7) \n"
   ]
  },
  {
   "cell_type": "code",
   "execution_count": 24,
   "id": "4fb738b0",
   "metadata": {},
   "outputs": [
    {
     "name": "stdout",
     "output_type": "stream",
     "text": [
      "{0.0, 1.0, 2.0, 3.0, 4.0, 5.0, 6.0, 7.0}\n"
     ]
    }
   ],
   "source": [
    "vacio = []\n",
    "for x in df2018[\"Grupo\"]:\n",
    "    vacio.append(x)\n",
    "    \n",
    "aa = set(vacio)\n",
    "print(aa)\n",
    "    "
   ]
  },
  {
   "cell_type": "code",
   "execution_count": 25,
   "id": "eb4d84ca",
   "metadata": {},
   "outputs": [],
   "source": [
    "copia2 = df2018"
   ]
  },
  {
   "cell_type": "code",
   "execution_count": 26,
   "id": "f3fca2b3",
   "metadata": {},
   "outputs": [],
   "source": [
    "df2018 = df2018.drop(\"IdCliente\", axis= 1)"
   ]
  },
  {
   "cell_type": "code",
   "execution_count": 27,
   "id": "30a14231",
   "metadata": {},
   "outputs": [],
   "source": [
    "\n",
    "df2018[\"Provincia\"] = pd.to_numeric(df2018[\"Provincia\"], errors=\"coerce\")\n",
    "\n",
    "df2018 = df2018.dropna(subset=[\"Provincia\"])\n"
   ]
  },
  {
   "cell_type": "code",
   "execution_count": 28,
   "id": "fb31ba58",
   "metadata": {},
   "outputs": [],
   "source": [
    "#df2018[\"Grupo\"]\n",
    "vacio = []\n",
    "for x in df2018[\"Ventas 2018\"]:\n",
    "    vacio.append(x)\n",
    "    \n",
    "a2 = set(vacio)\n",
    "#print(a2)\n",
    "\n",
    "\n",
    "    "
   ]
  },
  {
   "cell_type": "code",
   "execution_count": 29,
   "id": "03c2e1f0",
   "metadata": {},
   "outputs": [],
   "source": [
    "df2018Escalado = scale(df2018)"
   ]
  },
  {
   "cell_type": "code",
   "execution_count": 30,
   "id": "97814722",
   "metadata": {},
   "outputs": [
    {
     "name": "stderr",
     "output_type": "stream",
     "text": [
      "/Users/rushabhpatel/anaconda3/lib/python3.11/site-packages/sklearn/cluster/_kmeans.py:1412: FutureWarning: The default value of `n_init` will change from 10 to 'auto' in 1.4. Set the value of `n_init` explicitly to suppress the warning\n",
      "  super()._check_params_vs_input(X, default_n_init=10)\n",
      "/Users/rushabhpatel/anaconda3/lib/python3.11/site-packages/sklearn/cluster/_kmeans.py:1412: FutureWarning: The default value of `n_init` will change from 10 to 'auto' in 1.4. Set the value of `n_init` explicitly to suppress the warning\n",
      "  super()._check_params_vs_input(X, default_n_init=10)\n",
      "/Users/rushabhpatel/anaconda3/lib/python3.11/site-packages/sklearn/cluster/_kmeans.py:1412: FutureWarning: The default value of `n_init` will change from 10 to 'auto' in 1.4. Set the value of `n_init` explicitly to suppress the warning\n",
      "  super()._check_params_vs_input(X, default_n_init=10)\n",
      "/Users/rushabhpatel/anaconda3/lib/python3.11/site-packages/sklearn/cluster/_kmeans.py:1412: FutureWarning: The default value of `n_init` will change from 10 to 'auto' in 1.4. Set the value of `n_init` explicitly to suppress the warning\n",
      "  super()._check_params_vs_input(X, default_n_init=10)\n",
      "/Users/rushabhpatel/anaconda3/lib/python3.11/site-packages/sklearn/cluster/_kmeans.py:1412: FutureWarning: The default value of `n_init` will change from 10 to 'auto' in 1.4. Set the value of `n_init` explicitly to suppress the warning\n",
      "  super()._check_params_vs_input(X, default_n_init=10)\n",
      "/Users/rushabhpatel/anaconda3/lib/python3.11/site-packages/sklearn/cluster/_kmeans.py:1412: FutureWarning: The default value of `n_init` will change from 10 to 'auto' in 1.4. Set the value of `n_init` explicitly to suppress the warning\n",
      "  super()._check_params_vs_input(X, default_n_init=10)\n",
      "/Users/rushabhpatel/anaconda3/lib/python3.11/site-packages/sklearn/cluster/_kmeans.py:1412: FutureWarning: The default value of `n_init` will change from 10 to 'auto' in 1.4. Set the value of `n_init` explicitly to suppress the warning\n",
      "  super()._check_params_vs_input(X, default_n_init=10)\n",
      "/Users/rushabhpatel/anaconda3/lib/python3.11/site-packages/sklearn/cluster/_kmeans.py:1412: FutureWarning: The default value of `n_init` will change from 10 to 'auto' in 1.4. Set the value of `n_init` explicitly to suppress the warning\n",
      "  super()._check_params_vs_input(X, default_n_init=10)\n",
      "/Users/rushabhpatel/anaconda3/lib/python3.11/site-packages/sklearn/cluster/_kmeans.py:1412: FutureWarning: The default value of `n_init` will change from 10 to 'auto' in 1.4. Set the value of `n_init` explicitly to suppress the warning\n",
      "  super()._check_params_vs_input(X, default_n_init=10)\n",
      "/Users/rushabhpatel/anaconda3/lib/python3.11/site-packages/sklearn/cluster/_kmeans.py:1412: FutureWarning: The default value of `n_init` will change from 10 to 'auto' in 1.4. Set the value of `n_init` explicitly to suppress the warning\n",
      "  super()._check_params_vs_input(X, default_n_init=10)\n",
      "/Users/rushabhpatel/anaconda3/lib/python3.11/site-packages/sklearn/cluster/_kmeans.py:1412: FutureWarning: The default value of `n_init` will change from 10 to 'auto' in 1.4. Set the value of `n_init` explicitly to suppress the warning\n",
      "  super()._check_params_vs_input(X, default_n_init=10)\n",
      "/Users/rushabhpatel/anaconda3/lib/python3.11/site-packages/sklearn/cluster/_kmeans.py:1412: FutureWarning: The default value of `n_init` will change from 10 to 'auto' in 1.4. Set the value of `n_init` explicitly to suppress the warning\n",
      "  super()._check_params_vs_input(X, default_n_init=10)\n",
      "/Users/rushabhpatel/anaconda3/lib/python3.11/site-packages/sklearn/cluster/_kmeans.py:1412: FutureWarning: The default value of `n_init` will change from 10 to 'auto' in 1.4. Set the value of `n_init` explicitly to suppress the warning\n",
      "  super()._check_params_vs_input(X, default_n_init=10)\n",
      "/Users/rushabhpatel/anaconda3/lib/python3.11/site-packages/sklearn/cluster/_kmeans.py:1412: FutureWarning: The default value of `n_init` will change from 10 to 'auto' in 1.4. Set the value of `n_init` explicitly to suppress the warning\n",
      "  super()._check_params_vs_input(X, default_n_init=10)\n"
     ]
    },
    {
     "data": {
      "text/plain": [
       "[<matplotlib.lines.Line2D at 0x12b7201d0>]"
      ]
     },
     "execution_count": 30,
     "metadata": {},
     "output_type": "execute_result"
    },
    {
     "data": {
      "image/png": "[encoded data removed]",
      "text/plain": [
       "<Figure size 640x480 with 1 Axes>"
      ]
     },
     "metadata": {},
     "output_type": "display_data"
    }
   ],
   "source": [
    "K = range(1,15)\n",
    "inercia = []\n",
    "for k in K:\n",
    "    kmeanModel = KMeans(n_clusters=k)\n",
    "    kmeanModel.fit(df2018Escalado)\n",
    "    inercia.append(kmeanModel.inertia_)\n",
    "plt.plot(inercia)"
   ]
  },
  {
   "cell_type": "code",
   "execution_count": 31,
   "id": "079c154d",
   "metadata": {},
   "outputs": [
    {
     "name": "stderr",
     "output_type": "stream",
     "text": [
      "/Users/rushabhpatel/anaconda3/lib/python3.11/site-packages/sklearn/cluster/_kmeans.py:1412: FutureWarning: The default value of `n_init` will change from 10 to 'auto' in 1.4. Set the value of `n_init` explicitly to suppress the warning\n",
      "  super()._check_params_vs_input(X, default_n_init=10)\n"
     ]
    },
    {
     "data": {
      "text/html": [
       "<style>#sk-container-id-1 {color: black;}#sk-container-id-1 pre{padding: 0;}#sk-container-id-1 div.sk-toggleable {background-color: white;}#sk-container-id-1 label.sk-toggleable__label {cursor: pointer;display: block;width: 100%;margin-bottom: 0;padding: 0.3em;box-sizing: border-box;text-align: center;}#sk-container-id-1 label.sk-toggleable__label-arrow:before {content: \"▸\";float: left;margin-right: 0.25em;color: #696969;}#sk-container-id-1 label.sk-toggleable__label-arrow:hover:before {color: black;}#sk-container-id-1 div.sk-estimator:hover label.sk-toggleable__label-arrow:before {color: black;}#sk-container-id-1 div.sk-toggleable__content {max-height: 0;max-width: 0;overflow: hidden;text-align: left;background-color: #f0f8ff;}#sk-container-id-1 div.sk-toggleable__content pre {margin: 0.2em;color: black;border-radius: 0.25em;background-color: #f0f8ff;}#sk-container-id-1 input.sk-toggleable__control:checked~div.sk-toggleable__content {max-height: 200px;max-width: 100%;overflow: auto;}#sk-container-id-1 input.sk-toggleable__control:checked~label.sk-toggleable__label-arrow:before {content: \"▾\";}#sk-container-id-1 div.sk-estimator input.sk-toggleable__control:checked~label.sk-toggleable__label {background-color: #d4ebff;}#sk-container-id-1 div.sk-label input.sk-toggleable__control:checked~label.sk-toggleable__label {background-color: #d4ebff;}#sk-container-id-1 input.sk-hidden--visually {border: 0;clip: rect(1px 1px 1px 1px);clip: rect(1px, 1px, 1px, 1px);height: 1px;margin: -1px;overflow: hidden;padding: 0;position: absolute;width: 1px;}#sk-container-id-1 div.sk-estimator {font-family: monospace;background-color: #f0f8ff;border: 1px dotted black;border-radius: 0.25em;box-sizing: border-box;margin-bottom: 0.5em;}#sk-container-id-1 div.sk-estimator:hover {background-color: #d4ebff;}#sk-container-id-1 div.sk-parallel-item::after {content: \"\";width: 100%;border-bottom: 1px solid gray;flex-grow: 1;}#sk-container-id-1 div.sk-label:hover label.sk-toggleable__label {background-color: #d4ebff;}#sk-container-id-1 div.sk-serial::before {content: \"\";position: absolute;border-left: 1px solid gray;box-sizing: border-box;top: 0;bottom: 0;left: 50%;z-index: 0;}#sk-container-id-1 div.sk-serial {display: flex;flex-direction: column;align-items: center;background-color: white;padding-right: 0.2em;padding-left: 0.2em;position: relative;}#sk-container-id-1 div.sk-item {position: relative;z-index: 1;}#sk-container-id-1 div.sk-parallel {display: flex;align-items: stretch;justify-content: center;background-color: white;position: relative;}#sk-container-id-1 div.sk-item::before, #sk-container-id-1 div.sk-parallel-item::before {content: \"\";position: absolute;border-left: 1px solid gray;box-sizing: border-box;top: 0;bottom: 0;left: 50%;z-index: -1;}#sk-container-id-1 div.sk-parallel-item {display: flex;flex-direction: column;z-index: 1;position: relative;background-color: white;}#sk-container-id-1 div.sk-parallel-item:first-child::after {align-self: flex-end;width: 50%;}#sk-container-id-1 div.sk-parallel-item:last-child::after {align-self: flex-start;width: 50%;}#sk-container-id-1 div.sk-parallel-item:only-child::after {width: 0;}#sk-container-id-1 div.sk-dashed-wrapped {border: 1px dashed gray;margin: 0 0.4em 0.5em 0.4em;box-sizing: border-box;padding-bottom: 0.4em;background-color: white;}#sk-container-id-1 div.sk-label label {font-family: monospace;font-weight: bold;display: inline-block;line-height: 1.2em;}#sk-container-id-1 div.sk-label-container {text-align: center;}#sk-container-id-1 div.sk-container {/* jupyter's `normalize.less` sets `[hidden] { display: none; }` but bootstrap.min.css set `[hidden] { display: none !important; }` so we also need the `!important` here to be able to override the default hidden behavior on the sphinx rendered scikit-learn.org. See: https://github.com/scikit-learn/scikit-learn/issues/21755 */display: inline-block !important;position: relative;}#sk-container-id-1 div.sk-text-repr-fallback {display: none;}</style><div id=\"sk-container-id-1\" class=\"sk-top-container\"><div class=\"sk-text-repr-fallback\"><pre>KMeans(n_clusters=7)</pre><b>In a Jupyter environment, please rerun this cell to show the HTML representation or trust the notebook. <br />On GitHub, the HTML representation is unable to render, please try loading this page with nbviewer.org.</b></div><div class=\"sk-container\" hidden><div class=\"sk-item\"><div class=\"sk-estimator sk-toggleable\"><input class=\"sk-toggleable__control sk-hidden--visually\" id=\"sk-estimator-id-1\" type=\"checkbox\" checked><label for=\"sk-estimator-id-1\" class=\"sk-toggleable__label sk-toggleable__label-arrow\">KMeans</label><div class=\"sk-toggleable__content\"><pre>KMeans(n_clusters=7)</pre></div></div></div></div></div>"
      ],
      "text/plain": [
       "KMeans(n_clusters=7)"
      ]
     },
     "execution_count": 31,
     "metadata": {},
     "output_type": "execute_result"
    }
   ],
   "source": [
    "km = KMeans(n_clusters = 7)\n",
    "km.fit(df2018Escalado)"
   ]
  },
  {
   "cell_type": "code",
   "execution_count": 32,
   "id": "43c1412e",
   "metadata": {},
   "outputs": [
    {
     "data": {
      "text/plain": [
       "array([4, 4, 3, ..., 2, 2, 2], dtype=int32)"
      ]
     },
     "execution_count": 32,
     "metadata": {},
     "output_type": "execute_result"
    }
   ],
   "source": [
    "km.labels_"
   ]
  },
  {
   "cell_type": "code",
   "execution_count": null,
   "id": "305ed8ec",
   "metadata": {},
   "outputs": [],
   "source": []
  },
  {
   "cell_type": "code",
   "execution_count": 33,
   "id": "5209a363",
   "metadata": {},
   "outputs": [],
   "source": [
    "df2018[\"Ventas 2018\"] = df2018[\"Ventas 2018\"].astype(\"float64\")"
   ]
  },
  {
   "cell_type": "code",
   "execution_count": 34,
   "id": "cf93924e",
   "metadata": {},
   "outputs": [],
   "source": [
    "df2018[\"cluster\"] = km.labels_"
   ]
  },
  {
   "cell_type": "code",
   "execution_count": null,
   "id": "db0171ee",
   "metadata": {},
   "outputs": [],
   "source": []
  },
  {
   "cell_type": "code",
   "execution_count": 35,
   "id": "ff0faca9",
   "metadata": {},
   "outputs": [
    {
     "data": {
      "text/html": [
       "<div>\n",
       "<style scoped>\n",
       "    .dataframe tbody tr th:only-of-type {\n",
       "        vertical-align: middle;\n",
       "    }\n",
       "\n",
       "    .dataframe tbody tr th {\n",
       "        vertical-align: top;\n",
       "    }\n",
       "\n",
       "    .dataframe thead th {\n",
       "        text-align: right;\n",
       "    }\n",
       "</style>\n",
       "<table border=\"1\" class=\"dataframe\">\n",
       "  <thead>\n",
       "    <tr style=\"text-align: right;\">\n",
       "      <th></th>\n",
       "      <th>Provincia</th>\n",
       "      <th>Grupo</th>\n",
       "      <th>Ventas 2018</th>\n",
       "      <th>Unidades 2018</th>\n",
       "      <th>Tickets 2018</th>\n",
       "      <th>cluster</th>\n",
       "    </tr>\n",
       "  </thead>\n",
       "  <tbody>\n",
       "    <tr>\n",
       "      <th>0</th>\n",
       "      <td>29.0</td>\n",
       "      <td>4.0</td>\n",
       "      <td>1525.7880</td>\n",
       "      <td>2213.28</td>\n",
       "      <td>46</td>\n",
       "      <td>4</td>\n",
       "    </tr>\n",
       "    <tr>\n",
       "      <th>1</th>\n",
       "      <td>29.0</td>\n",
       "      <td>7.0</td>\n",
       "      <td>115.8179</td>\n",
       "      <td>82.97</td>\n",
       "      <td>1</td>\n",
       "      <td>4</td>\n",
       "    </tr>\n",
       "    <tr>\n",
       "      <th>2</th>\n",
       "      <td>29.0</td>\n",
       "      <td>4.0</td>\n",
       "      <td>25670.9588</td>\n",
       "      <td>35516.11</td>\n",
       "      <td>236</td>\n",
       "      <td>3</td>\n",
       "    </tr>\n",
       "    <tr>\n",
       "      <th>3</th>\n",
       "      <td>29.0</td>\n",
       "      <td>4.0</td>\n",
       "      <td>39519.3851</td>\n",
       "      <td>42299.2</td>\n",
       "      <td>358</td>\n",
       "      <td>3</td>\n",
       "    </tr>\n",
       "    <tr>\n",
       "      <th>4</th>\n",
       "      <td>29.0</td>\n",
       "      <td>4.0</td>\n",
       "      <td>2555.5218</td>\n",
       "      <td>2587.39</td>\n",
       "      <td>20</td>\n",
       "      <td>4</td>\n",
       "    </tr>\n",
       "    <tr>\n",
       "      <th>...</th>\n",
       "      <td>...</td>\n",
       "      <td>...</td>\n",
       "      <td>...</td>\n",
       "      <td>...</td>\n",
       "      <td>...</td>\n",
       "      <td>...</td>\n",
       "    </tr>\n",
       "    <tr>\n",
       "      <th>38782</th>\n",
       "      <td>4.0</td>\n",
       "      <td>4.0</td>\n",
       "      <td>971.5203</td>\n",
       "      <td>1479.77</td>\n",
       "      <td>12</td>\n",
       "      <td>2</td>\n",
       "    </tr>\n",
       "    <tr>\n",
       "      <th>38783</th>\n",
       "      <td>4.0</td>\n",
       "      <td>0.0</td>\n",
       "      <td>52.2100</td>\n",
       "      <td>22</td>\n",
       "      <td>1</td>\n",
       "      <td>6</td>\n",
       "    </tr>\n",
       "    <tr>\n",
       "      <th>38784</th>\n",
       "      <td>4.0</td>\n",
       "      <td>7.0</td>\n",
       "      <td>53.5920</td>\n",
       "      <td>50</td>\n",
       "      <td>1</td>\n",
       "      <td>2</td>\n",
       "    </tr>\n",
       "    <tr>\n",
       "      <th>38785</th>\n",
       "      <td>18.0</td>\n",
       "      <td>4.0</td>\n",
       "      <td>173.0500</td>\n",
       "      <td>170</td>\n",
       "      <td>1</td>\n",
       "      <td>2</td>\n",
       "    </tr>\n",
       "    <tr>\n",
       "      <th>38786</th>\n",
       "      <td>23.0</td>\n",
       "      <td>5.0</td>\n",
       "      <td>205.5830</td>\n",
       "      <td>252</td>\n",
       "      <td>7</td>\n",
       "      <td>2</td>\n",
       "    </tr>\n",
       "  </tbody>\n",
       "</table>\n",
       "<p>38778 rows × 6 columns</p>\n",
       "</div>"
      ],
      "text/plain": [
       "       Provincia  Grupo  Ventas 2018 Unidades 2018  Tickets 2018  cluster\n",
       "0           29.0    4.0    1525.7880       2213.28            46        4\n",
       "1           29.0    7.0     115.8179         82.97             1        4\n",
       "2           29.0    4.0   25670.9588      35516.11           236        3\n",
       "3           29.0    4.0   39519.3851       42299.2           358        3\n",
       "4           29.0    4.0    2555.5218       2587.39            20        4\n",
       "...          ...    ...          ...           ...           ...      ...\n",
       "38782        4.0    4.0     971.5203       1479.77            12        2\n",
       "38783        4.0    0.0      52.2100            22             1        6\n",
       "38784        4.0    7.0      53.5920            50             1        2\n",
       "38785       18.0    4.0     173.0500           170             1        2\n",
       "38786       23.0    5.0     205.5830           252             7        2\n",
       "\n",
       "[38778 rows x 6 columns]"
      ]
     },
     "execution_count": 35,
     "metadata": {},
     "output_type": "execute_result"
    }
   ],
   "source": [
    "df2018"
   ]
  },
  {
   "cell_type": "code",
   "execution_count": 36,
   "id": "8ac9faf1",
   "metadata": {},
   "outputs": [],
   "source": [
    "df2018[\"Ventas 2018\"] = df2018[\"Ventas 2018\"].astype(\"float64\")"
   ]
  },
  {
   "cell_type": "code",
   "execution_count": 37,
   "id": "451836fc",
   "metadata": {},
   "outputs": [
    {
     "data": {
      "text/html": [
       "<div>\n",
       "<style scoped>\n",
       "    .dataframe tbody tr th:only-of-type {\n",
       "        vertical-align: middle;\n",
       "    }\n",
       "\n",
       "    .dataframe tbody tr th {\n",
       "        vertical-align: top;\n",
       "    }\n",
       "\n",
       "    .dataframe thead th {\n",
       "        text-align: right;\n",
       "    }\n",
       "</style>\n",
       "<table border=\"1\" class=\"dataframe\">\n",
       "  <thead>\n",
       "    <tr style=\"text-align: right;\">\n",
       "      <th></th>\n",
       "      <th>Provincia</th>\n",
       "      <th>Grupo</th>\n",
       "      <th>Ventas 2018</th>\n",
       "      <th>Unidades 2018</th>\n",
       "      <th>Tickets 2018</th>\n",
       "      <th>cluster</th>\n",
       "    </tr>\n",
       "  </thead>\n",
       "  <tbody>\n",
       "    <tr>\n",
       "      <th>0</th>\n",
       "      <td>29.0</td>\n",
       "      <td>4.0</td>\n",
       "      <td>1525.7880</td>\n",
       "      <td>2213.28</td>\n",
       "      <td>46</td>\n",
       "      <td>4</td>\n",
       "    </tr>\n",
       "    <tr>\n",
       "      <th>1</th>\n",
       "      <td>29.0</td>\n",
       "      <td>7.0</td>\n",
       "      <td>115.8179</td>\n",
       "      <td>82.97</td>\n",
       "      <td>1</td>\n",
       "      <td>4</td>\n",
       "    </tr>\n",
       "    <tr>\n",
       "      <th>2</th>\n",
       "      <td>29.0</td>\n",
       "      <td>4.0</td>\n",
       "      <td>25670.9588</td>\n",
       "      <td>35516.11</td>\n",
       "      <td>236</td>\n",
       "      <td>3</td>\n",
       "    </tr>\n",
       "    <tr>\n",
       "      <th>3</th>\n",
       "      <td>29.0</td>\n",
       "      <td>4.0</td>\n",
       "      <td>39519.3851</td>\n",
       "      <td>42299.2</td>\n",
       "      <td>358</td>\n",
       "      <td>3</td>\n",
       "    </tr>\n",
       "    <tr>\n",
       "      <th>4</th>\n",
       "      <td>29.0</td>\n",
       "      <td>4.0</td>\n",
       "      <td>2555.5218</td>\n",
       "      <td>2587.39</td>\n",
       "      <td>20</td>\n",
       "      <td>4</td>\n",
       "    </tr>\n",
       "    <tr>\n",
       "      <th>...</th>\n",
       "      <td>...</td>\n",
       "      <td>...</td>\n",
       "      <td>...</td>\n",
       "      <td>...</td>\n",
       "      <td>...</td>\n",
       "      <td>...</td>\n",
       "    </tr>\n",
       "    <tr>\n",
       "      <th>38782</th>\n",
       "      <td>4.0</td>\n",
       "      <td>4.0</td>\n",
       "      <td>971.5203</td>\n",
       "      <td>1479.77</td>\n",
       "      <td>12</td>\n",
       "      <td>2</td>\n",
       "    </tr>\n",
       "    <tr>\n",
       "      <th>38783</th>\n",
       "      <td>4.0</td>\n",
       "      <td>0.0</td>\n",
       "      <td>52.2100</td>\n",
       "      <td>22</td>\n",
       "      <td>1</td>\n",
       "      <td>6</td>\n",
       "    </tr>\n",
       "    <tr>\n",
       "      <th>38784</th>\n",
       "      <td>4.0</td>\n",
       "      <td>7.0</td>\n",
       "      <td>53.5920</td>\n",
       "      <td>50</td>\n",
       "      <td>1</td>\n",
       "      <td>2</td>\n",
       "    </tr>\n",
       "    <tr>\n",
       "      <th>38785</th>\n",
       "      <td>18.0</td>\n",
       "      <td>4.0</td>\n",
       "      <td>173.0500</td>\n",
       "      <td>170</td>\n",
       "      <td>1</td>\n",
       "      <td>2</td>\n",
       "    </tr>\n",
       "    <tr>\n",
       "      <th>38786</th>\n",
       "      <td>23.0</td>\n",
       "      <td>5.0</td>\n",
       "      <td>205.5830</td>\n",
       "      <td>252</td>\n",
       "      <td>7</td>\n",
       "      <td>2</td>\n",
       "    </tr>\n",
       "  </tbody>\n",
       "</table>\n",
       "<p>38778 rows × 6 columns</p>\n",
       "</div>"
      ],
      "text/plain": [
       "       Provincia  Grupo  Ventas 2018 Unidades 2018  Tickets 2018  cluster\n",
       "0           29.0    4.0    1525.7880       2213.28            46        4\n",
       "1           29.0    7.0     115.8179         82.97             1        4\n",
       "2           29.0    4.0   25670.9588      35516.11           236        3\n",
       "3           29.0    4.0   39519.3851       42299.2           358        3\n",
       "4           29.0    4.0    2555.5218       2587.39            20        4\n",
       "...          ...    ...          ...           ...           ...      ...\n",
       "38782        4.0    4.0     971.5203       1479.77            12        2\n",
       "38783        4.0    0.0      52.2100            22             1        6\n",
       "38784        4.0    7.0      53.5920            50             1        2\n",
       "38785       18.0    4.0     173.0500           170             1        2\n",
       "38786       23.0    5.0     205.5830           252             7        2\n",
       "\n",
       "[38778 rows x 6 columns]"
      ]
     },
     "execution_count": 37,
     "metadata": {},
     "output_type": "execute_result"
    }
   ],
   "source": [
    "df2018"
   ]
  },
  {
   "cell_type": "code",
   "execution_count": 38,
   "id": "17179a71",
   "metadata": {},
   "outputs": [
    {
     "data": {
      "text/html": [
       "<div>\n",
       "<style scoped>\n",
       "    .dataframe tbody tr th:only-of-type {\n",
       "        vertical-align: middle;\n",
       "    }\n",
       "\n",
       "    .dataframe tbody tr th {\n",
       "        vertical-align: top;\n",
       "    }\n",
       "\n",
       "    .dataframe thead th {\n",
       "        text-align: right;\n",
       "    }\n",
       "</style>\n",
       "<table border=\"1\" class=\"dataframe\">\n",
       "  <thead>\n",
       "    <tr style=\"text-align: right;\">\n",
       "      <th></th>\n",
       "      <th>Provincia</th>\n",
       "      <th>Grupo</th>\n",
       "      <th>Ventas 2018</th>\n",
       "      <th>Tickets 2018</th>\n",
       "      <th>cluster</th>\n",
       "    </tr>\n",
       "  </thead>\n",
       "  <tbody>\n",
       "    <tr>\n",
       "      <th>count</th>\n",
       "      <td>150.000000</td>\n",
       "      <td>150.000000</td>\n",
       "      <td>150.000000</td>\n",
       "      <td>150.000000</td>\n",
       "      <td>150.0</td>\n",
       "    </tr>\n",
       "    <tr>\n",
       "      <th>mean</th>\n",
       "      <td>22.886667</td>\n",
       "      <td>3.400000</td>\n",
       "      <td>102952.402630</td>\n",
       "      <td>436.686667</td>\n",
       "      <td>1.0</td>\n",
       "    </tr>\n",
       "    <tr>\n",
       "      <th>std</th>\n",
       "      <td>8.859482</td>\n",
       "      <td>1.305641</td>\n",
       "      <td>39669.184868</td>\n",
       "      <td>294.182593</td>\n",
       "      <td>0.0</td>\n",
       "    </tr>\n",
       "    <tr>\n",
       "      <th>min</th>\n",
       "      <td>4.000000</td>\n",
       "      <td>0.000000</td>\n",
       "      <td>56685.323500</td>\n",
       "      <td>101.000000</td>\n",
       "      <td>1.0</td>\n",
       "    </tr>\n",
       "    <tr>\n",
       "      <th>25%</th>\n",
       "      <td>18.000000</td>\n",
       "      <td>4.000000</td>\n",
       "      <td>80263.043125</td>\n",
       "      <td>306.750000</td>\n",
       "      <td>1.0</td>\n",
       "    </tr>\n",
       "    <tr>\n",
       "      <th>50%</th>\n",
       "      <td>29.000000</td>\n",
       "      <td>4.000000</td>\n",
       "      <td>90157.966650</td>\n",
       "      <td>394.500000</td>\n",
       "      <td>1.0</td>\n",
       "    </tr>\n",
       "    <tr>\n",
       "      <th>75%</th>\n",
       "      <td>29.000000</td>\n",
       "      <td>4.000000</td>\n",
       "      <td>111916.526925</td>\n",
       "      <td>508.250000</td>\n",
       "      <td>1.0</td>\n",
       "    </tr>\n",
       "    <tr>\n",
       "      <th>max</th>\n",
       "      <td>41.000000</td>\n",
       "      <td>5.000000</td>\n",
       "      <td>286945.168300</td>\n",
       "      <td>2487.000000</td>\n",
       "      <td>1.0</td>\n",
       "    </tr>\n",
       "  </tbody>\n",
       "</table>\n",
       "</div>"
      ],
      "text/plain": [
       "        Provincia       Grupo    Ventas 2018  Tickets 2018  cluster\n",
       "count  150.000000  150.000000     150.000000    150.000000    150.0\n",
       "mean    22.886667    3.400000  102952.402630    436.686667      1.0\n",
       "std      8.859482    1.305641   39669.184868    294.182593      0.0\n",
       "min      4.000000    0.000000   56685.323500    101.000000      1.0\n",
       "25%     18.000000    4.000000   80263.043125    306.750000      1.0\n",
       "50%     29.000000    4.000000   90157.966650    394.500000      1.0\n",
       "75%     29.000000    4.000000  111916.526925    508.250000      1.0\n",
       "max     41.000000    5.000000  286945.168300   2487.000000      1.0"
      ]
     },
     "execution_count": 38,
     "metadata": {},
     "output_type": "execute_result"
    }
   ],
   "source": [
    "df2018[df2018[\"cluster\"] ==1].describe()"
   ]
  },
  {
   "cell_type": "code",
   "execution_count": 39,
   "id": "cfaed9d5",
   "metadata": {},
   "outputs": [
    {
     "data": {
      "text/html": [
       "<div>\n",
       "<style scoped>\n",
       "    .dataframe tbody tr th:only-of-type {\n",
       "        vertical-align: middle;\n",
       "    }\n",
       "\n",
       "    .dataframe tbody tr th {\n",
       "        vertical-align: top;\n",
       "    }\n",
       "\n",
       "    .dataframe thead th {\n",
       "        text-align: right;\n",
       "    }\n",
       "</style>\n",
       "<table border=\"1\" class=\"dataframe\">\n",
       "  <thead>\n",
       "    <tr style=\"text-align: right;\">\n",
       "      <th></th>\n",
       "      <th>Provincia</th>\n",
       "      <th>Grupo</th>\n",
       "      <th>Ventas 2018</th>\n",
       "      <th>Tickets 2018</th>\n",
       "      <th>cluster</th>\n",
       "    </tr>\n",
       "  </thead>\n",
       "  <tbody>\n",
       "    <tr>\n",
       "      <th>count</th>\n",
       "      <td>13211.000000</td>\n",
       "      <td>13211.000000</td>\n",
       "      <td>13211.000000</td>\n",
       "      <td>13211.000000</td>\n",
       "      <td>13211.0</td>\n",
       "    </tr>\n",
       "    <tr>\n",
       "      <th>mean</th>\n",
       "      <td>14.573386</td>\n",
       "      <td>5.739838</td>\n",
       "      <td>1572.972106</td>\n",
       "      <td>16.472258</td>\n",
       "      <td>2.0</td>\n",
       "    </tr>\n",
       "    <tr>\n",
       "      <th>std</th>\n",
       "      <td>4.596164</td>\n",
       "      <td>1.242474</td>\n",
       "      <td>2165.027105</td>\n",
       "      <td>19.596769</td>\n",
       "      <td>0.0</td>\n",
       "    </tr>\n",
       "    <tr>\n",
       "      <th>min</th>\n",
       "      <td>0.000000</td>\n",
       "      <td>3.000000</td>\n",
       "      <td>-184.930200</td>\n",
       "      <td>1.000000</td>\n",
       "      <td>2.0</td>\n",
       "    </tr>\n",
       "    <tr>\n",
       "      <th>25%</th>\n",
       "      <td>11.000000</td>\n",
       "      <td>5.000000</td>\n",
       "      <td>184.475550</td>\n",
       "      <td>3.000000</td>\n",
       "      <td>2.0</td>\n",
       "    </tr>\n",
       "    <tr>\n",
       "      <th>50%</th>\n",
       "      <td>14.000000</td>\n",
       "      <td>6.000000</td>\n",
       "      <td>729.984000</td>\n",
       "      <td>9.000000</td>\n",
       "      <td>2.0</td>\n",
       "    </tr>\n",
       "    <tr>\n",
       "      <th>75%</th>\n",
       "      <td>18.000000</td>\n",
       "      <td>7.000000</td>\n",
       "      <td>2082.455500</td>\n",
       "      <td>23.000000</td>\n",
       "      <td>2.0</td>\n",
       "    </tr>\n",
       "    <tr>\n",
       "      <th>max</th>\n",
       "      <td>24.000000</td>\n",
       "      <td>7.000000</td>\n",
       "      <td>20879.801600</td>\n",
       "      <td>169.000000</td>\n",
       "      <td>2.0</td>\n",
       "    </tr>\n",
       "  </tbody>\n",
       "</table>\n",
       "</div>"
      ],
      "text/plain": [
       "          Provincia         Grupo   Ventas 2018  Tickets 2018  cluster\n",
       "count  13211.000000  13211.000000  13211.000000  13211.000000  13211.0\n",
       "mean      14.573386      5.739838   1572.972106     16.472258      2.0\n",
       "std        4.596164      1.242474   2165.027105     19.596769      0.0\n",
       "min        0.000000      3.000000   -184.930200      1.000000      2.0\n",
       "25%       11.000000      5.000000    184.475550      3.000000      2.0\n",
       "50%       14.000000      6.000000    729.984000      9.000000      2.0\n",
       "75%       18.000000      7.000000   2082.455500     23.000000      2.0\n",
       "max       24.000000      7.000000  20879.801600    169.000000      2.0"
      ]
     },
     "execution_count": 39,
     "metadata": {},
     "output_type": "execute_result"
    }
   ],
   "source": [
    "df2018[df2018[\"cluster\"] ==2].describe()"
   ]
  },
  {
   "cell_type": "code",
   "execution_count": 40,
   "id": "d31e1e15",
   "metadata": {},
   "outputs": [
    {
     "data": {
      "text/html": [
       "<div>\n",
       "<style scoped>\n",
       "    .dataframe tbody tr th:only-of-type {\n",
       "        vertical-align: middle;\n",
       "    }\n",
       "\n",
       "    .dataframe tbody tr th {\n",
       "        vertical-align: top;\n",
       "    }\n",
       "\n",
       "    .dataframe thead th {\n",
       "        text-align: right;\n",
       "    }\n",
       "</style>\n",
       "<table border=\"1\" class=\"dataframe\">\n",
       "  <thead>\n",
       "    <tr style=\"text-align: right;\">\n",
       "      <th></th>\n",
       "      <th>Provincia</th>\n",
       "      <th>Grupo</th>\n",
       "      <th>Ventas 2018</th>\n",
       "      <th>Tickets 2018</th>\n",
       "      <th>cluster</th>\n",
       "    </tr>\n",
       "  </thead>\n",
       "  <tbody>\n",
       "    <tr>\n",
       "      <th>count</th>\n",
       "      <td>934.000000</td>\n",
       "      <td>934.000000</td>\n",
       "      <td>934.000000</td>\n",
       "      <td>934.000000</td>\n",
       "      <td>934.0</td>\n",
       "    </tr>\n",
       "    <tr>\n",
       "      <th>mean</th>\n",
       "      <td>23.786938</td>\n",
       "      <td>3.108137</td>\n",
       "      <td>40078.365288</td>\n",
       "      <td>233.478587</td>\n",
       "      <td>3.0</td>\n",
       "    </tr>\n",
       "    <tr>\n",
       "      <th>std</th>\n",
       "      <td>10.800967</td>\n",
       "      <td>1.659065</td>\n",
       "      <td>13434.150133</td>\n",
       "      <td>103.920785</td>\n",
       "      <td>0.0</td>\n",
       "    </tr>\n",
       "    <tr>\n",
       "      <th>min</th>\n",
       "      <td>0.000000</td>\n",
       "      <td>0.000000</td>\n",
       "      <td>5984.626500</td>\n",
       "      <td>20.000000</td>\n",
       "      <td>3.0</td>\n",
       "    </tr>\n",
       "    <tr>\n",
       "      <th>25%</th>\n",
       "      <td>14.000000</td>\n",
       "      <td>2.000000</td>\n",
       "      <td>30544.969075</td>\n",
       "      <td>158.250000</td>\n",
       "      <td>3.0</td>\n",
       "    </tr>\n",
       "    <tr>\n",
       "      <th>50%</th>\n",
       "      <td>29.000000</td>\n",
       "      <td>4.000000</td>\n",
       "      <td>38129.813800</td>\n",
       "      <td>217.000000</td>\n",
       "      <td>3.0</td>\n",
       "    </tr>\n",
       "    <tr>\n",
       "      <th>75%</th>\n",
       "      <td>29.000000</td>\n",
       "      <td>4.000000</td>\n",
       "      <td>48250.671750</td>\n",
       "      <td>283.750000</td>\n",
       "      <td>3.0</td>\n",
       "    </tr>\n",
       "    <tr>\n",
       "      <th>max</th>\n",
       "      <td>99.000000</td>\n",
       "      <td>6.000000</td>\n",
       "      <td>92693.391200</td>\n",
       "      <td>661.000000</td>\n",
       "      <td>3.0</td>\n",
       "    </tr>\n",
       "  </tbody>\n",
       "</table>\n",
       "</div>"
      ],
      "text/plain": [
       "        Provincia       Grupo   Ventas 2018  Tickets 2018  cluster\n",
       "count  934.000000  934.000000    934.000000    934.000000    934.0\n",
       "mean    23.786938    3.108137  40078.365288    233.478587      3.0\n",
       "std     10.800967    1.659065  13434.150133    103.920785      0.0\n",
       "min      0.000000    0.000000   5984.626500     20.000000      3.0\n",
       "25%     14.000000    2.000000  30544.969075    158.250000      3.0\n",
       "50%     29.000000    4.000000  38129.813800    217.000000      3.0\n",
       "75%     29.000000    4.000000  48250.671750    283.750000      3.0\n",
       "max     99.000000    6.000000  92693.391200    661.000000      3.0"
      ]
     },
     "execution_count": 40,
     "metadata": {},
     "output_type": "execute_result"
    }
   ],
   "source": [
    "df2018[df2018[\"cluster\"] ==3].describe()"
   ]
  },
  {
   "cell_type": "code",
   "execution_count": 41,
   "id": "51409726",
   "metadata": {
    "scrolled": true
   },
   "outputs": [
    {
     "data": {
      "text/html": [
       "<div>\n",
       "<style scoped>\n",
       "    .dataframe tbody tr th:only-of-type {\n",
       "        vertical-align: middle;\n",
       "    }\n",
       "\n",
       "    .dataframe tbody tr th {\n",
       "        vertical-align: top;\n",
       "    }\n",
       "\n",
       "    .dataframe thead th {\n",
       "        text-align: right;\n",
       "    }\n",
       "</style>\n",
       "<table border=\"1\" class=\"dataframe\">\n",
       "  <thead>\n",
       "    <tr style=\"text-align: right;\">\n",
       "      <th></th>\n",
       "      <th>Provincia</th>\n",
       "      <th>Grupo</th>\n",
       "      <th>Ventas 2018</th>\n",
       "      <th>Tickets 2018</th>\n",
       "      <th>cluster</th>\n",
       "    </tr>\n",
       "  </thead>\n",
       "  <tbody>\n",
       "    <tr>\n",
       "      <th>count</th>\n",
       "      <td>10771.000000</td>\n",
       "      <td>10771.000000</td>\n",
       "      <td>10771.000000</td>\n",
       "      <td>10771.000000</td>\n",
       "      <td>10771.0</td>\n",
       "    </tr>\n",
       "    <tr>\n",
       "      <th>mean</th>\n",
       "      <td>33.209173</td>\n",
       "      <td>5.793055</td>\n",
       "      <td>1512.284953</td>\n",
       "      <td>15.276390</td>\n",
       "      <td>4.0</td>\n",
       "    </tr>\n",
       "    <tr>\n",
       "      <th>std</th>\n",
       "      <td>6.890197</td>\n",
       "      <td>1.315705</td>\n",
       "      <td>2230.512321</td>\n",
       "      <td>19.231218</td>\n",
       "      <td>0.0</td>\n",
       "    </tr>\n",
       "    <tr>\n",
       "      <th>min</th>\n",
       "      <td>24.000000</td>\n",
       "      <td>3.000000</td>\n",
       "      <td>-2932.611900</td>\n",
       "      <td>1.000000</td>\n",
       "      <td>4.0</td>\n",
       "    </tr>\n",
       "    <tr>\n",
       "      <th>25%</th>\n",
       "      <td>29.000000</td>\n",
       "      <td>4.000000</td>\n",
       "      <td>158.803000</td>\n",
       "      <td>2.000000</td>\n",
       "      <td>4.0</td>\n",
       "    </tr>\n",
       "    <tr>\n",
       "      <th>50%</th>\n",
       "      <td>29.000000</td>\n",
       "      <td>7.000000</td>\n",
       "      <td>603.968300</td>\n",
       "      <td>7.000000</td>\n",
       "      <td>4.0</td>\n",
       "    </tr>\n",
       "    <tr>\n",
       "      <th>75%</th>\n",
       "      <td>41.000000</td>\n",
       "      <td>7.000000</td>\n",
       "      <td>1895.229900</td>\n",
       "      <td>21.000000</td>\n",
       "      <td>4.0</td>\n",
       "    </tr>\n",
       "    <tr>\n",
       "      <th>max</th>\n",
       "      <td>99.000000</td>\n",
       "      <td>7.000000</td>\n",
       "      <td>36278.869500</td>\n",
       "      <td>144.000000</td>\n",
       "      <td>4.0</td>\n",
       "    </tr>\n",
       "  </tbody>\n",
       "</table>\n",
       "</div>"
      ],
      "text/plain": [
       "          Provincia         Grupo   Ventas 2018  Tickets 2018  cluster\n",
       "count  10771.000000  10771.000000  10771.000000  10771.000000  10771.0\n",
       "mean      33.209173      5.793055   1512.284953     15.276390      4.0\n",
       "std        6.890197      1.315705   2230.512321     19.231218      0.0\n",
       "min       24.000000      3.000000  -2932.611900      1.000000      4.0\n",
       "25%       29.000000      4.000000    158.803000      2.000000      4.0\n",
       "50%       29.000000      7.000000    603.968300      7.000000      4.0\n",
       "75%       41.000000      7.000000   1895.229900     21.000000      4.0\n",
       "max       99.000000      7.000000  36278.869500    144.000000      4.0"
      ]
     },
     "execution_count": 41,
     "metadata": {},
     "output_type": "execute_result"
    }
   ],
   "source": [
    "df2018[df2018[\"cluster\"] ==4].describe()"
   ]
  },
  {
   "cell_type": "code",
   "execution_count": null,
   "id": "d6b40b5d",
   "metadata": {},
   "outputs": [],
   "source": []
  },
  {
   "cell_type": "code",
   "execution_count": 42,
   "id": "40285cd3",
   "metadata": {},
   "outputs": [],
   "source": [
    "####################################################################################\n",
    "####################################################################################\n",
    "####################################################################################\n",
    "####################################################################################\n",
    "####################################################################################\n",
    "####################################################################################\n",
    "####################################################################################\n",
    "####################################################################################\n"
   ]
  },
  {
   "cell_type": "code",
   "execution_count": null,
   "id": "02c01c7f",
   "metadata": {},
   "outputs": [],
   "source": []
  },
  {
   "cell_type": "code",
   "execution_count": null,
   "id": "38db002f",
   "metadata": {},
   "outputs": [],
   "source": []
  },
  {
   "cell_type": "code",
   "execution_count": null,
   "id": "63b996f6",
   "metadata": {},
   "outputs": [],
   "source": []
  },
  {
   "cell_type": "code",
   "execution_count": null,
   "id": "a0987c48",
   "metadata": {},
   "outputs": [],
   "source": []
  },
  {
   "cell_type": "code",
   "execution_count": null,
   "id": "456822c7",
   "metadata": {},
   "outputs": [],
   "source": []
  },
  {
   "cell_type": "code",
   "execution_count": null,
   "id": "bdda15cf",
   "metadata": {},
   "outputs": [],
   "source": []
  },
  {
   "cell_type": "code",
   "execution_count": null,
   "id": "a1a51818",
   "metadata": {},
   "outputs": [],
   "source": []
  },
  {
   "cell_type": "code",
   "execution_count": null,
   "id": "a01e42c1",
   "metadata": {},
   "outputs": [],
   "source": []
  }
 ],
 "metadata": {
  "kernelspec": {
   "display_name": "Python 3 (ipykernel)",
   "language": "python",
   "name": "python3"
  },
  "language_info": {
   "codemirror_mode": {
    "name": "ipython",
    "version": 3
   },
   "file_extension": ".py",
   "mimetype": "text/x-python",
   "name": "python",
   "nbconvert_exporter": "python",
   "pygments_lexer": "ipython3",
   "version": "3.11.4"
  }
 },
 "nbformat": 4,
 "nbformat_minor": 5
}
