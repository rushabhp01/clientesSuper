{
 "cells": [
  {
   "cell_type": "code",
   "execution_count": 64,
   "id": "c69b2a1a",
   "metadata": {},
   "outputs": [],
   "source": [
    "import pandas as pd\n",
    "import numpy as np\n",
    "from scipy.spatial.distance import cdist\n",
    "from sklearn.cluster import KMeans\n",
    "from sklearn.metrics import confusion_matrix\n",
    "from matplotlib import pyplot as plt\n",
    "from sklearn.preprocessing import scale\n",
    "from sklearn.model_selection import train_test_split\n",
    "from sklearn.linear_model import LogisticRegression\n",
    "from sklearn.metrics import accuracy_score, classification_report\n",
    "from sklearn.preprocessing import StandardScaler\n",
    "from sklearn.neighbors import KNeighborsClassifier\n",
    "from sklearn.preprocessing import LabelEncoder\n",
    "\n"
   ]
  },
  {
   "cell_type": "code",
   "execution_count": 65,
   "id": "3297b386",
   "metadata": {},
   "outputs": [
    {
     "name": "stderr",
     "output_type": "stream",
     "text": [
      "/var/folders/37/x57w4bp561x9sj71bs9nmw0w0000gn/T/ipykernel_54763/1320697883.py:1: DtypeWarning: Columns (1) have mixed types. Specify dtype option on import or set low_memory=False.\n",
      "  ventas = pd.read_csv(\"resultadosVentas.csv\", decimal=\",\")\n"
     ]
    }
   ],
   "source": [
    "ventas = pd.read_csv(\"resultadosVentas.csv\", decimal=\",\")\n",
    "df = ventas.copy()"
   ]
  },
  {
   "cell_type": "code",
   "execution_count": 66,
   "id": "6bbd7dda",
   "metadata": {},
   "outputs": [
    {
     "data": {
      "text/html": [
       "<div>\n",
       "<style scoped>\n",
       "    .dataframe tbody tr th:only-of-type {\n",
       "        vertical-align: middle;\n",
       "    }\n",
       "\n",
       "    .dataframe tbody tr th {\n",
       "        vertical-align: top;\n",
       "    }\n",
       "\n",
       "    .dataframe thead th {\n",
       "        text-align: right;\n",
       "    }\n",
       "</style>\n",
       "<table border=\"1\" class=\"dataframe\">\n",
       "  <thead>\n",
       "    <tr style=\"text-align: right;\">\n",
       "      <th></th>\n",
       "      <th>IdCliente</th>\n",
       "      <th>Provincia</th>\n",
       "      <th>Grupo</th>\n",
       "      <th>Ventas 2018</th>\n",
       "      <th>Unidades 2018</th>\n",
       "      <th>Tickets 2018</th>\n",
       "      <th>Antigüedad</th>\n",
       "      <th>Ventas 2017</th>\n",
       "      <th>Unidades 2017</th>\n",
       "      <th>Tickets 2017</th>\n",
       "      <th>Ventas 2016</th>\n",
       "      <th>Unidades 2016</th>\n",
       "      <th>Tickets 2016</th>\n",
       "      <th>Ventas 2015</th>\n",
       "      <th>Unidades 2015</th>\n",
       "      <th>Tickets 2015</th>\n",
       "      <th>Ventas 2014</th>\n",
       "      <th>Unidades 2014</th>\n",
       "      <th>Tickets 2014</th>\n",
       "    </tr>\n",
       "  </thead>\n",
       "  <tbody>\n",
       "    <tr>\n",
       "      <th>0</th>\n",
       "      <td>Cliente 1</td>\n",
       "      <td>29</td>\n",
       "      <td>Tienda/Supermercado de Alimentacion</td>\n",
       "      <td>1525.788</td>\n",
       "      <td>2213.28</td>\n",
       "      <td>46</td>\n",
       "      <td>2009-01-05 09:45:21.000</td>\n",
       "      <td>3292.9751</td>\n",
       "      <td>2307.37</td>\n",
       "      <td>38.0</td>\n",
       "      <td>3545.6107</td>\n",
       "      <td>4569.7</td>\n",
       "      <td>49.0</td>\n",
       "      <td>6306.3445</td>\n",
       "      <td>8004.09</td>\n",
       "      <td>91.0</td>\n",
       "      <td>6439.1802</td>\n",
       "      <td>8519.13</td>\n",
       "      <td>83.0</td>\n",
       "    </tr>\n",
       "    <tr>\n",
       "      <th>1</th>\n",
       "      <td>Cliente 2</td>\n",
       "      <td>29</td>\n",
       "      <td>NaN</td>\n",
       "      <td>115.8179</td>\n",
       "      <td>82.97</td>\n",
       "      <td>1</td>\n",
       "      <td>2009-01-03 10:48:33.000</td>\n",
       "      <td>286.9034</td>\n",
       "      <td>145.04</td>\n",
       "      <td>3.0</td>\n",
       "      <td>446.0571</td>\n",
       "      <td>321.39</td>\n",
       "      <td>12.0</td>\n",
       "      <td>135.4624</td>\n",
       "      <td>91.62</td>\n",
       "      <td>4.0</td>\n",
       "      <td>190.4443</td>\n",
       "      <td>175.68</td>\n",
       "      <td>7.0</td>\n",
       "    </tr>\n",
       "    <tr>\n",
       "      <th>2</th>\n",
       "      <td>Cliente 3</td>\n",
       "      <td>29</td>\n",
       "      <td>Tienda/Supermercado de Alimentacion</td>\n",
       "      <td>25670.9588</td>\n",
       "      <td>35516.11</td>\n",
       "      <td>236</td>\n",
       "      <td>2009-01-03 09:07:38.000</td>\n",
       "      <td>27947.2056</td>\n",
       "      <td>36381.85</td>\n",
       "      <td>256.0</td>\n",
       "      <td>33964.779</td>\n",
       "      <td>41264.9</td>\n",
       "      <td>257.0</td>\n",
       "      <td>36267.5888</td>\n",
       "      <td>42266.22</td>\n",
       "      <td>338.0</td>\n",
       "      <td>36096.9745</td>\n",
       "      <td>41184.69</td>\n",
       "      <td>348.0</td>\n",
       "    </tr>\n",
       "    <tr>\n",
       "      <th>3</th>\n",
       "      <td>Cliente 4</td>\n",
       "      <td>29</td>\n",
       "      <td>Tienda/Supermercado de Alimentacion</td>\n",
       "      <td>39519.3851</td>\n",
       "      <td>42299.2</td>\n",
       "      <td>358</td>\n",
       "      <td>2009-01-05 05:31:46.000</td>\n",
       "      <td>25968.0955</td>\n",
       "      <td>38376.72</td>\n",
       "      <td>231.0</td>\n",
       "      <td>14953.0722</td>\n",
       "      <td>24823.03</td>\n",
       "      <td>170.0</td>\n",
       "      <td>15524.3915</td>\n",
       "      <td>25823.11</td>\n",
       "      <td>248.0</td>\n",
       "      <td>13159.2442</td>\n",
       "      <td>21074.77</td>\n",
       "      <td>175.0</td>\n",
       "    </tr>\n",
       "    <tr>\n",
       "      <th>4</th>\n",
       "      <td>Cliente 5</td>\n",
       "      <td>29</td>\n",
       "      <td>Tienda/Supermercado de Alimentacion</td>\n",
       "      <td>2555.5218</td>\n",
       "      <td>2587.39</td>\n",
       "      <td>20</td>\n",
       "      <td>2009-01-12 11:39:56.000</td>\n",
       "      <td>3455.6742</td>\n",
       "      <td>2657.39</td>\n",
       "      <td>24.0</td>\n",
       "      <td>3335.1821</td>\n",
       "      <td>2684.27</td>\n",
       "      <td>31.0</td>\n",
       "      <td>1278.0458</td>\n",
       "      <td>950.49</td>\n",
       "      <td>10.0</td>\n",
       "      <td>1095.3949</td>\n",
       "      <td>563.89</td>\n",
       "      <td>7.0</td>\n",
       "    </tr>\n",
       "  </tbody>\n",
       "</table>\n",
       "</div>"
      ],
      "text/plain": [
       "   IdCliente Provincia                                Grupo Ventas 2018  \\\n",
       "0  Cliente 1        29  Tienda/Supermercado de Alimentacion    1525.788   \n",
       "1  Cliente 2        29                                  NaN    115.8179   \n",
       "2  Cliente 3        29  Tienda/Supermercado de Alimentacion  25670.9588   \n",
       "3  Cliente 4        29  Tienda/Supermercado de Alimentacion  39519.3851   \n",
       "4  Cliente 5        29  Tienda/Supermercado de Alimentacion   2555.5218   \n",
       "\n",
       "  Unidades 2018  Tickets 2018               Antigüedad Ventas 2017  \\\n",
       "0       2213.28            46  2009-01-05 09:45:21.000   3292.9751   \n",
       "1         82.97             1  2009-01-03 10:48:33.000    286.9034   \n",
       "2      35516.11           236  2009-01-03 09:07:38.000  27947.2056   \n",
       "3       42299.2           358  2009-01-05 05:31:46.000  25968.0955   \n",
       "4       2587.39            20  2009-01-12 11:39:56.000   3455.6742   \n",
       "\n",
       "  Unidades 2017  Tickets 2017 Ventas 2016 Unidades 2016  Tickets 2016  \\\n",
       "0       2307.37          38.0   3545.6107        4569.7          49.0   \n",
       "1        145.04           3.0    446.0571        321.39          12.0   \n",
       "2      36381.85         256.0   33964.779       41264.9         257.0   \n",
       "3      38376.72         231.0  14953.0722      24823.03         170.0   \n",
       "4       2657.39          24.0   3335.1821       2684.27          31.0   \n",
       "\n",
       "  Ventas 2015 Unidades 2015  Tickets 2015 Ventas 2014 Unidades 2014  \\\n",
       "0   6306.3445       8004.09          91.0   6439.1802       8519.13   \n",
       "1    135.4624         91.62           4.0    190.4443        175.68   \n",
       "2  36267.5888      42266.22         338.0  36096.9745      41184.69   \n",
       "3  15524.3915      25823.11         248.0  13159.2442      21074.77   \n",
       "4   1278.0458        950.49          10.0   1095.3949        563.89   \n",
       "\n",
       "   Tickets 2014  \n",
       "0          83.0  \n",
       "1           7.0  \n",
       "2         348.0  \n",
       "3         175.0  \n",
       "4           7.0  "
      ]
     },
     "execution_count": 66,
     "metadata": {},
     "output_type": "execute_result"
    }
   ],
   "source": [
    "df.head()"
   ]
  },
  {
   "cell_type": "code",
   "execution_count": 67,
   "id": "761728b3",
   "metadata": {},
   "outputs": [
    {
     "data": {
      "text/html": [
       "<div>\n",
       "<style scoped>\n",
       "    .dataframe tbody tr th:only-of-type {\n",
       "        vertical-align: middle;\n",
       "    }\n",
       "\n",
       "    .dataframe tbody tr th {\n",
       "        vertical-align: top;\n",
       "    }\n",
       "\n",
       "    .dataframe thead th {\n",
       "        text-align: right;\n",
       "    }\n",
       "</style>\n",
       "<table border=\"1\" class=\"dataframe\">\n",
       "  <thead>\n",
       "    <tr style=\"text-align: right;\">\n",
       "      <th></th>\n",
       "      <th>IdCliente</th>\n",
       "      <th>Provincia</th>\n",
       "      <th>Grupo</th>\n",
       "      <th>Ventas 2018</th>\n",
       "      <th>Unidades 2018</th>\n",
       "      <th>Tickets 2018</th>\n",
       "      <th>Antigüedad</th>\n",
       "      <th>Ventas 2017</th>\n",
       "      <th>Unidades 2017</th>\n",
       "      <th>Tickets 2017</th>\n",
       "      <th>Ventas 2016</th>\n",
       "      <th>Unidades 2016</th>\n",
       "      <th>Tickets 2016</th>\n",
       "      <th>Ventas 2015</th>\n",
       "      <th>Unidades 2015</th>\n",
       "      <th>Tickets 2015</th>\n",
       "      <th>Ventas 2014</th>\n",
       "      <th>Unidades 2014</th>\n",
       "      <th>Tickets 2014</th>\n",
       "    </tr>\n",
       "  </thead>\n",
       "  <tbody>\n",
       "    <tr>\n",
       "      <th>12215</th>\n",
       "      <td>Cliente 12216</td>\n",
       "      <td>29</td>\n",
       "      <td>NaN</td>\n",
       "      <td>680.7592</td>\n",
       "      <td>402.66</td>\n",
       "      <td>3</td>\n",
       "      <td>2011-07-11 19:31:49.000</td>\n",
       "      <td>NaN</td>\n",
       "      <td>NaN</td>\n",
       "      <td>NaN</td>\n",
       "      <td>NaN</td>\n",
       "      <td>NaN</td>\n",
       "      <td>NaN</td>\n",
       "      <td>607.0838</td>\n",
       "      <td>389.48</td>\n",
       "      <td>7.0</td>\n",
       "      <td>373.154</td>\n",
       "      <td>212.56</td>\n",
       "      <td>4.0</td>\n",
       "    </tr>\n",
       "    <tr>\n",
       "      <th>35343</th>\n",
       "      <td>Cliente 35344</td>\n",
       "      <td>29</td>\n",
       "      <td>NaN</td>\n",
       "      <td>132.7274</td>\n",
       "      <td>100.95</td>\n",
       "      <td>4</td>\n",
       "      <td>2012-03-31 12:44:24.000</td>\n",
       "      <td>319.346</td>\n",
       "      <td>518.05</td>\n",
       "      <td>8.0</td>\n",
       "      <td>243.886</td>\n",
       "      <td>185</td>\n",
       "      <td>1.0</td>\n",
       "      <td>1909.178</td>\n",
       "      <td>1484.54</td>\n",
       "      <td>27.0</td>\n",
       "      <td>3401.6008</td>\n",
       "      <td>2139.62</td>\n",
       "      <td>57.0</td>\n",
       "    </tr>\n",
       "    <tr>\n",
       "      <th>1854</th>\n",
       "      <td>Cliente 1855</td>\n",
       "      <td>14</td>\n",
       "      <td>Distribuidor</td>\n",
       "      <td>6019.507</td>\n",
       "      <td>1314</td>\n",
       "      <td>47</td>\n",
       "      <td>2009-01-15 18:57:50.000</td>\n",
       "      <td>1709.39</td>\n",
       "      <td>681</td>\n",
       "      <td>26.0</td>\n",
       "      <td>3265.044</td>\n",
       "      <td>733</td>\n",
       "      <td>36.0</td>\n",
       "      <td>1536.973</td>\n",
       "      <td>312</td>\n",
       "      <td>21.0</td>\n",
       "      <td>2889.896</td>\n",
       "      <td>422</td>\n",
       "      <td>36.0</td>\n",
       "    </tr>\n",
       "    <tr>\n",
       "      <th>36530</th>\n",
       "      <td>Cliente 36531</td>\n",
       "      <td>14</td>\n",
       "      <td>Otros</td>\n",
       "      <td>4564.6592</td>\n",
       "      <td>3385.8</td>\n",
       "      <td>79</td>\n",
       "      <td>2015-05-23 11:48:42.000</td>\n",
       "      <td>3597.3254</td>\n",
       "      <td>2269.94</td>\n",
       "      <td>52.0</td>\n",
       "      <td>4114.1184</td>\n",
       "      <td>6488.75</td>\n",
       "      <td>61.0</td>\n",
       "      <td>1447.6369</td>\n",
       "      <td>816.76</td>\n",
       "      <td>49.0</td>\n",
       "      <td>NaN</td>\n",
       "      <td>NaN</td>\n",
       "      <td>NaN</td>\n",
       "    </tr>\n",
       "    <tr>\n",
       "      <th>34805</th>\n",
       "      <td>Cliente 34806</td>\n",
       "      <td>14</td>\n",
       "      <td>Particulares</td>\n",
       "      <td>2050.8057</td>\n",
       "      <td>1507.48</td>\n",
       "      <td>11</td>\n",
       "      <td>2010-12-09 09:26:51.000</td>\n",
       "      <td>3961.8851</td>\n",
       "      <td>4554.6</td>\n",
       "      <td>29.0</td>\n",
       "      <td>615.4825</td>\n",
       "      <td>250.22</td>\n",
       "      <td>4.0</td>\n",
       "      <td>2319.247</td>\n",
       "      <td>1120</td>\n",
       "      <td>19.0</td>\n",
       "      <td>1107.757</td>\n",
       "      <td>291</td>\n",
       "      <td>11.0</td>\n",
       "    </tr>\n",
       "  </tbody>\n",
       "</table>\n",
       "</div>"
      ],
      "text/plain": [
       "           IdCliente Provincia         Grupo Ventas 2018 Unidades 2018  \\\n",
       "12215  Cliente 12216        29           NaN    680.7592        402.66   \n",
       "35343  Cliente 35344        29           NaN    132.7274        100.95   \n",
       "1854    Cliente 1855        14  Distribuidor    6019.507          1314   \n",
       "36530  Cliente 36531        14         Otros   4564.6592        3385.8   \n",
       "34805  Cliente 34806        14  Particulares   2050.8057       1507.48   \n",
       "\n",
       "       Tickets 2018               Antigüedad Ventas 2017 Unidades 2017  \\\n",
       "12215             3  2011-07-11 19:31:49.000         NaN           NaN   \n",
       "35343             4  2012-03-31 12:44:24.000     319.346        518.05   \n",
       "1854             47  2009-01-15 18:57:50.000     1709.39           681   \n",
       "36530            79  2015-05-23 11:48:42.000   3597.3254       2269.94   \n",
       "34805            11  2010-12-09 09:26:51.000   3961.8851        4554.6   \n",
       "\n",
       "       Tickets 2017 Ventas 2016 Unidades 2016  Tickets 2016 Ventas 2015  \\\n",
       "12215           NaN         NaN           NaN           NaN    607.0838   \n",
       "35343           8.0     243.886           185           1.0    1909.178   \n",
       "1854           26.0    3265.044           733          36.0    1536.973   \n",
       "36530          52.0   4114.1184       6488.75          61.0   1447.6369   \n",
       "34805          29.0    615.4825        250.22           4.0    2319.247   \n",
       "\n",
       "      Unidades 2015  Tickets 2015 Ventas 2014 Unidades 2014  Tickets 2014  \n",
       "12215        389.48           7.0     373.154        212.56           4.0  \n",
       "35343       1484.54          27.0   3401.6008       2139.62          57.0  \n",
       "1854            312          21.0    2889.896           422          36.0  \n",
       "36530        816.76          49.0         NaN           NaN           NaN  \n",
       "34805          1120          19.0    1107.757           291          11.0  "
      ]
     },
     "execution_count": 67,
     "metadata": {},
     "output_type": "execute_result"
    }
   ],
   "source": [
    "df.sample(5)"
   ]
  },
  {
   "cell_type": "code",
   "execution_count": 68,
   "id": "e97c6d6b",
   "metadata": {},
   "outputs": [
    {
     "data": {
      "text/plain": [
       "(38787, 19)"
      ]
     },
     "execution_count": 68,
     "metadata": {},
     "output_type": "execute_result"
    }
   ],
   "source": [
    "df.shape"
   ]
  },
  {
   "cell_type": "code",
   "execution_count": 69,
   "id": "59d7db43",
   "metadata": {},
   "outputs": [
    {
     "data": {
      "text/plain": [
       "Index(['IdCliente', 'Provincia', 'Grupo', 'Ventas 2018', 'Unidades 2018',\n",
       "       'Tickets 2018', 'Antigüedad', 'Ventas 2017', 'Unidades 2017',\n",
       "       'Tickets 2017', 'Ventas 2016', 'Unidades 2016', 'Tickets 2016',\n",
       "       'Ventas 2015', 'Unidades 2015', 'Tickets 2015', 'Ventas 2014',\n",
       "       'Unidades 2014', 'Tickets 2014'],\n",
       "      dtype='object')"
      ]
     },
     "execution_count": 69,
     "metadata": {},
     "output_type": "execute_result"
    }
   ],
   "source": [
    "df.columns"
   ]
  },
  {
   "cell_type": "code",
   "execution_count": 70,
   "id": "c790bbec",
   "metadata": {},
   "outputs": [
    {
     "data": {
      "text/plain": [
       "IdCliente         object\n",
       "Provincia         object\n",
       "Grupo             object\n",
       "Ventas 2018       object\n",
       "Unidades 2018     object\n",
       "Tickets 2018       int64\n",
       "Antigüedad        object\n",
       "Ventas 2017       object\n",
       "Unidades 2017     object\n",
       "Tickets 2017     float64\n",
       "Ventas 2016       object\n",
       "Unidades 2016     object\n",
       "Tickets 2016     float64\n",
       "Ventas 2015       object\n",
       "Unidades 2015     object\n",
       "Tickets 2015     float64\n",
       "Ventas 2014       object\n",
       "Unidades 2014     object\n",
       "Tickets 2014     float64\n",
       "dtype: object"
      ]
     },
     "execution_count": 70,
     "metadata": {},
     "output_type": "execute_result"
    }
   ],
   "source": [
    "df.dtypes  #solo se salvan tickets"
   ]
  },
  {
   "cell_type": "code",
   "execution_count": 71,
   "id": "6e3d9bcc",
   "metadata": {},
   "outputs": [],
   "source": [
    "df['Antigüedad'] = pd.to_datetime(df['Antigüedad'])"
   ]
  },
  {
   "cell_type": "code",
   "execution_count": null,
   "id": "4439c6fa",
   "metadata": {},
   "outputs": [],
   "source": []
  },
  {
   "cell_type": "code",
   "execution_count": null,
   "id": "6e83f377",
   "metadata": {},
   "outputs": [],
   "source": []
  },
  {
   "cell_type": "code",
   "execution_count": 72,
   "id": "8642ed61",
   "metadata": {},
   "outputs": [
    {
     "data": {
      "text/plain": [
       "29    10457\n",
       "14     7787\n",
       "41     4668\n",
       "11     3303\n",
       "23     2696\n",
       "      ...  \n",
       "16        1\n",
       "35        1\n",
       "20        1\n",
       "32        1\n",
       "12        1\n",
       "Name: Provincia, Length: 82, dtype: int64"
      ]
     },
     "execution_count": 72,
     "metadata": {},
     "output_type": "execute_result"
    }
   ],
   "source": [
    "#Valores nulos en columnas\n",
    "df.Provincia.value_counts()"
   ]
  },
  {
   "cell_type": "code",
   "execution_count": 73,
   "id": "26ec4d0e",
   "metadata": {},
   "outputs": [
    {
     "data": {
      "text/plain": [
       "Horeca (Bares, Restaurante, Cafet.)    10246\n",
       "Tienda/Supermercado de Alimentacion     8195\n",
       "Otros                                   4802\n",
       "Particulares                            2355\n",
       "Distribuidor                            1189\n",
       "Empleados                                651\n",
       "Drogueria                                245\n",
       "Name: Grupo, dtype: int64"
      ]
     },
     "execution_count": 73,
     "metadata": {},
     "output_type": "execute_result"
    }
   ],
   "source": [
    "df.Grupo.value_counts()"
   ]
  },
  {
   "cell_type": "code",
   "execution_count": 74,
   "id": "485a4675",
   "metadata": {},
   "outputs": [
    {
     "data": {
      "text/plain": [
       "IdCliente            0\n",
       "Provincia            7\n",
       "Grupo            11104\n",
       "Ventas 2018          0\n",
       "Unidades 2018        0\n",
       "Tickets 2018         0\n",
       "Antigüedad           0\n",
       "Ventas 2017       7165\n",
       "Unidades 2017     7165\n",
       "Tickets 2017      7165\n",
       "Ventas 2016      10701\n",
       "Unidades 2016    10701\n",
       "Tickets 2016     10701\n",
       "Ventas 2015      13962\n",
       "Unidades 2015    13962\n",
       "Tickets 2015     13962\n",
       "Ventas 2014      17109\n",
       "Unidades 2014    17109\n",
       "Tickets 2014     17109\n",
       "dtype: int64"
      ]
     },
     "execution_count": 74,
     "metadata": {},
     "output_type": "execute_result"
    }
   ],
   "source": [
    "df.isna().sum()    #Analizar esto, años se ve q va decreciendo\n",
    "#vemos q coinciden entre ventas,unidades,tickets"
   ]
  },
  {
   "cell_type": "code",
   "execution_count": 75,
   "id": "b7b62ae0",
   "metadata": {},
   "outputs": [],
   "source": [
    "#Convierto solo ventas2018\n",
    "df['Ventas 2018']= df['Ventas 2018'].astype(float)"
   ]
  },
  {
   "cell_type": "code",
   "execution_count": 76,
   "id": "cbc52753",
   "metadata": {},
   "outputs": [
    {
     "data": {
      "text/plain": [
       "IdCliente                object\n",
       "Provincia                object\n",
       "Grupo                    object\n",
       "Ventas 2018             float64\n",
       "Unidades 2018            object\n",
       "Tickets 2018              int64\n",
       "Antigüedad       datetime64[ns]\n",
       "Ventas 2017              object\n",
       "Unidades 2017            object\n",
       "Tickets 2017            float64\n",
       "Ventas 2016              object\n",
       "Unidades 2016            object\n",
       "Tickets 2016            float64\n",
       "Ventas 2015              object\n",
       "Unidades 2015            object\n",
       "Tickets 2015            float64\n",
       "Ventas 2014              object\n",
       "Unidades 2014            object\n",
       "Tickets 2014            float64\n",
       "dtype: object"
      ]
     },
     "execution_count": 76,
     "metadata": {},
     "output_type": "execute_result"
    }
   ],
   "source": [
    "df.dtypes"
   ]
  },
  {
   "cell_type": "code",
   "execution_count": 77,
   "id": "b7364147",
   "metadata": {},
   "outputs": [
    {
     "data": {
      "text/plain": [
       "Grupo\n",
       "Distribuidor                           8528.932163\n",
       "Drogueria                              5026.802040\n",
       "Empleados                              1457.894711\n",
       "Horeca (Bares, Restaurante, Cafet.)    6938.108929\n",
       "Otros                                  3094.912363\n",
       "Particulares                           1533.133810\n",
       "Tienda/Supermercado de Alimentacion    9310.509890\n",
       "Name: Ventas 2018, dtype: float64"
      ]
     },
     "execution_count": 77,
     "metadata": {},
     "output_type": "execute_result"
    }
   ],
   "source": [
    "#Analizar los nan en columna grupo\n",
    "df.groupby('Grupo')['Ventas 2018'].mean()\n",
    "#podemos tener alguna idea a q grupo pertenece a partir de las ventas. \n",
    "#ML supervisado clasificacion multiclase (7Clases)"
   ]
  },
  {
   "cell_type": "code",
   "execution_count": 78,
   "id": "4f0b9c80",
   "metadata": {},
   "outputs": [
    {
     "data": {
      "text/plain": [
       "0       2009-01-05 09:45:21\n",
       "1       2009-01-03 10:48:33\n",
       "2       2009-01-03 09:07:38\n",
       "3       2009-01-05 05:31:46\n",
       "4       2009-01-12 11:39:56\n",
       "                ...        \n",
       "38782   2018-11-21 18:04:14\n",
       "38783   2018-12-13 17:23:42\n",
       "38784   2018-12-20 13:23:19\n",
       "38785   2018-12-28 19:14:02\n",
       "38786   2018-08-02 10:49:56\n",
       "Name: Antigüedad, Length: 38787, dtype: datetime64[ns]"
      ]
     },
     "execution_count": 78,
     "metadata": {},
     "output_type": "execute_result"
    }
   ],
   "source": [
    "df.Antigüedad\n",
    " "
   ]
  },
  {
   "cell_type": "code",
   "execution_count": 79,
   "id": "f7fb5787",
   "metadata": {},
   "outputs": [],
   "source": [
    "#Eliminar hora\n",
    "df[\"Antiguedad_sin_hora\"] = df['Antigüedad'].dt.date"
   ]
  },
  {
   "cell_type": "code",
   "execution_count": 80,
   "id": "109e0a78",
   "metadata": {},
   "outputs": [
    {
     "data": {
      "text/plain": [
       "2009-01-02    1441\n",
       "2009-01-05     928\n",
       "2009-01-03     926\n",
       "2009-01-07     680\n",
       "2009-01-08     571\n",
       "              ... \n",
       "2009-11-14       1\n",
       "2010-04-24       1\n",
       "2009-09-12       1\n",
       "2013-05-25       1\n",
       "2017-06-10       1\n",
       "Name: Antiguedad_sin_hora, Length: 3007, dtype: int64"
      ]
     },
     "execution_count": 80,
     "metadata": {},
     "output_type": "execute_result"
    }
   ],
   "source": [
    "df.Antiguedad_sin_hora.value_counts()\n",
    "\n",
    "#Analizar h"
   ]
  },
  {
   "cell_type": "code",
   "execution_count": 81,
   "id": "98a62ee1",
   "metadata": {},
   "outputs": [
    {
     "data": {
      "text/plain": [
       "28.628148606491866"
      ]
     },
     "execution_count": 81,
     "metadata": {},
     "output_type": "execute_result"
    }
   ],
   "source": [
    "#Grupo missing values estudio impacto\n",
    "(df.Grupo.isna().sum() / df.IdCliente.count() ) *100\n"
   ]
  },
  {
   "cell_type": "code",
   "execution_count": null,
   "id": "f7e0b85b",
   "metadata": {},
   "outputs": [],
   "source": []
  },
  {
   "cell_type": "code",
   "execution_count": 82,
   "id": "ac13e424",
   "metadata": {},
   "outputs": [],
   "source": [
    "####################################################################################\n",
    "####################################################################################\n",
    "####################################################################################\n",
    "####################################################################################\n",
    "####################################################################################\n",
    "####################################################################################\n",
    "####################################################################################\n",
    "####################################################################################"
   ]
  },
  {
   "cell_type": "code",
   "execution_count": 83,
   "id": "802c5072",
   "metadata": {},
   "outputs": [],
   "source": [
    "#knn (7Clases) para columna grupo"
   ]
  },
  {
   "cell_type": "code",
   "execution_count": 84,
   "id": "653d706d",
   "metadata": {},
   "outputs": [
    {
     "data": {
      "text/plain": [
       "27683"
      ]
     },
     "execution_count": 84,
     "metadata": {},
     "output_type": "execute_result"
    }
   ],
   "source": [
    "df.Grupo.count()"
   ]
  },
  {
   "cell_type": "code",
   "execution_count": 85,
   "id": "9d5f4835",
   "metadata": {},
   "outputs": [],
   "source": [
    "df_modelo = df.copy()"
   ]
  },
  {
   "cell_type": "code",
   "execution_count": 86,
   "id": "cf7b6b0b",
   "metadata": {},
   "outputs": [],
   "source": [
    "df_modelo = df_modelo.dropna(subset=[\"Ventas 2018\"])"
   ]
  },
  {
   "cell_type": "code",
   "execution_count": 87,
   "id": "f85f8d34",
   "metadata": {},
   "outputs": [
    {
     "data": {
      "text/plain": [
       "0"
      ]
     },
     "execution_count": 87,
     "metadata": {},
     "output_type": "execute_result"
    }
   ],
   "source": [
    "df_modelo[\"Ventas 2018\"].isna().sum()"
   ]
  },
  {
   "cell_type": "code",
   "execution_count": null,
   "id": "17e56d6c",
   "metadata": {},
   "outputs": [],
   "source": []
  },
  {
   "cell_type": "code",
   "execution_count": 88,
   "id": "640378f3",
   "metadata": {},
   "outputs": [
    {
     "data": {
      "text/html": [
       "<div>\n",
       "<style scoped>\n",
       "    .dataframe tbody tr th:only-of-type {\n",
       "        vertical-align: middle;\n",
       "    }\n",
       "\n",
       "    .dataframe tbody tr th {\n",
       "        vertical-align: top;\n",
       "    }\n",
       "\n",
       "    .dataframe thead th {\n",
       "        text-align: right;\n",
       "    }\n",
       "</style>\n",
       "<table border=\"1\" class=\"dataframe\">\n",
       "  <thead>\n",
       "    <tr style=\"text-align: right;\">\n",
       "      <th></th>\n",
       "      <th>IdCliente</th>\n",
       "      <th>Provincia</th>\n",
       "      <th>Grupo</th>\n",
       "      <th>Ventas 2018</th>\n",
       "      <th>Unidades 2018</th>\n",
       "      <th>Tickets 2018</th>\n",
       "      <th>Antigüedad</th>\n",
       "      <th>Ventas 2017</th>\n",
       "      <th>Unidades 2017</th>\n",
       "      <th>Tickets 2017</th>\n",
       "      <th>Ventas 2016</th>\n",
       "      <th>Unidades 2016</th>\n",
       "      <th>Tickets 2016</th>\n",
       "      <th>Ventas 2015</th>\n",
       "      <th>Unidades 2015</th>\n",
       "      <th>Tickets 2015</th>\n",
       "      <th>Ventas 2014</th>\n",
       "      <th>Unidades 2014</th>\n",
       "      <th>Tickets 2014</th>\n",
       "      <th>Antiguedad_sin_hora</th>\n",
       "    </tr>\n",
       "  </thead>\n",
       "  <tbody>\n",
       "    <tr>\n",
       "      <th>23922</th>\n",
       "      <td>Cliente 23923</td>\n",
       "      <td>41</td>\n",
       "      <td>NaN</td>\n",
       "      <td>243.7090</td>\n",
       "      <td>1205</td>\n",
       "      <td>3</td>\n",
       "      <td>2016-06-16 12:08:01</td>\n",
       "      <td>2199.279</td>\n",
       "      <td>12028</td>\n",
       "      <td>27.0</td>\n",
       "      <td>1037.976</td>\n",
       "      <td>5888</td>\n",
       "      <td>14.0</td>\n",
       "      <td>NaN</td>\n",
       "      <td>NaN</td>\n",
       "      <td>NaN</td>\n",
       "      <td>NaN</td>\n",
       "      <td>NaN</td>\n",
       "      <td>NaN</td>\n",
       "      <td>2016-06-16</td>\n",
       "    </tr>\n",
       "    <tr>\n",
       "      <th>31463</th>\n",
       "      <td>Cliente 31464</td>\n",
       "      <td>29</td>\n",
       "      <td>Tienda/Supermercado de Alimentacion</td>\n",
       "      <td>6064.3907</td>\n",
       "      <td>8085.62</td>\n",
       "      <td>40</td>\n",
       "      <td>2017-08-14 13:53:31</td>\n",
       "      <td>2076.4262</td>\n",
       "      <td>2208.95</td>\n",
       "      <td>11.0</td>\n",
       "      <td>NaN</td>\n",
       "      <td>NaN</td>\n",
       "      <td>NaN</td>\n",
       "      <td>NaN</td>\n",
       "      <td>NaN</td>\n",
       "      <td>NaN</td>\n",
       "      <td>NaN</td>\n",
       "      <td>NaN</td>\n",
       "      <td>NaN</td>\n",
       "      <td>2017-08-14</td>\n",
       "    </tr>\n",
       "    <tr>\n",
       "      <th>34998</th>\n",
       "      <td>Cliente 34999</td>\n",
       "      <td>41</td>\n",
       "      <td>Distribuidor</td>\n",
       "      <td>2849.6389</td>\n",
       "      <td>2754.45</td>\n",
       "      <td>41</td>\n",
       "      <td>2009-01-03 10:01:58</td>\n",
       "      <td>2397.7389</td>\n",
       "      <td>2252.64</td>\n",
       "      <td>23.0</td>\n",
       "      <td>1979.5754</td>\n",
       "      <td>1583.18</td>\n",
       "      <td>25.0</td>\n",
       "      <td>11496.5093</td>\n",
       "      <td>8951.72</td>\n",
       "      <td>167.0</td>\n",
       "      <td>10925.6726</td>\n",
       "      <td>7816.32</td>\n",
       "      <td>165.0</td>\n",
       "      <td>2009-01-03</td>\n",
       "    </tr>\n",
       "    <tr>\n",
       "      <th>22850</th>\n",
       "      <td>Cliente 22851</td>\n",
       "      <td>29</td>\n",
       "      <td>Tienda/Supermercado de Alimentacion</td>\n",
       "      <td>738.3640</td>\n",
       "      <td>1240</td>\n",
       "      <td>5</td>\n",
       "      <td>2015-11-11 10:01:11</td>\n",
       "      <td>2322.2287</td>\n",
       "      <td>3252.1</td>\n",
       "      <td>17.0</td>\n",
       "      <td>6019.173</td>\n",
       "      <td>9235</td>\n",
       "      <td>60.0</td>\n",
       "      <td>891.2843</td>\n",
       "      <td>1482.72</td>\n",
       "      <td>12.0</td>\n",
       "      <td>NaN</td>\n",
       "      <td>NaN</td>\n",
       "      <td>NaN</td>\n",
       "      <td>2015-11-11</td>\n",
       "    </tr>\n",
       "    <tr>\n",
       "      <th>2891</th>\n",
       "      <td>Cliente 2892</td>\n",
       "      <td>41</td>\n",
       "      <td>Particulares</td>\n",
       "      <td>3461.0425</td>\n",
       "      <td>4346.81</td>\n",
       "      <td>33</td>\n",
       "      <td>2009-01-08 16:08:45</td>\n",
       "      <td>2882.2436</td>\n",
       "      <td>2630.55</td>\n",
       "      <td>43.0</td>\n",
       "      <td>6159.6749</td>\n",
       "      <td>5204.76</td>\n",
       "      <td>77.0</td>\n",
       "      <td>5585.0284</td>\n",
       "      <td>6332.75</td>\n",
       "      <td>40.0</td>\n",
       "      <td>15702.531</td>\n",
       "      <td>22012.64</td>\n",
       "      <td>72.0</td>\n",
       "      <td>2009-01-08</td>\n",
       "    </tr>\n",
       "  </tbody>\n",
       "</table>\n",
       "</div>"
      ],
      "text/plain": [
       "           IdCliente Provincia                                Grupo  \\\n",
       "23922  Cliente 23923        41                                  NaN   \n",
       "31463  Cliente 31464        29  Tienda/Supermercado de Alimentacion   \n",
       "34998  Cliente 34999        41                         Distribuidor   \n",
       "22850  Cliente 22851        29  Tienda/Supermercado de Alimentacion   \n",
       "2891    Cliente 2892        41                         Particulares   \n",
       "\n",
       "       Ventas 2018 Unidades 2018  Tickets 2018          Antigüedad  \\\n",
       "23922     243.7090          1205             3 2016-06-16 12:08:01   \n",
       "31463    6064.3907       8085.62            40 2017-08-14 13:53:31   \n",
       "34998    2849.6389       2754.45            41 2009-01-03 10:01:58   \n",
       "22850     738.3640          1240             5 2015-11-11 10:01:11   \n",
       "2891     3461.0425       4346.81            33 2009-01-08 16:08:45   \n",
       "\n",
       "      Ventas 2017 Unidades 2017  Tickets 2017 Ventas 2016 Unidades 2016  \\\n",
       "23922    2199.279         12028          27.0    1037.976          5888   \n",
       "31463   2076.4262       2208.95          11.0         NaN           NaN   \n",
       "34998   2397.7389       2252.64          23.0   1979.5754       1583.18   \n",
       "22850   2322.2287        3252.1          17.0    6019.173          9235   \n",
       "2891    2882.2436       2630.55          43.0   6159.6749       5204.76   \n",
       "\n",
       "       Tickets 2016 Ventas 2015 Unidades 2015  Tickets 2015 Ventas 2014  \\\n",
       "23922          14.0         NaN           NaN           NaN         NaN   \n",
       "31463           NaN         NaN           NaN           NaN         NaN   \n",
       "34998          25.0  11496.5093       8951.72         167.0  10925.6726   \n",
       "22850          60.0    891.2843       1482.72          12.0         NaN   \n",
       "2891           77.0   5585.0284       6332.75          40.0   15702.531   \n",
       "\n",
       "      Unidades 2014  Tickets 2014 Antiguedad_sin_hora  \n",
       "23922           NaN           NaN          2016-06-16  \n",
       "31463           NaN           NaN          2017-08-14  \n",
       "34998       7816.32         165.0          2009-01-03  \n",
       "22850           NaN           NaN          2015-11-11  \n",
       "2891       22012.64          72.0          2009-01-08  "
      ]
     },
     "execution_count": 88,
     "metadata": {},
     "output_type": "execute_result"
    }
   ],
   "source": [
    "df_modelo.sample(5)"
   ]
  },
  {
   "cell_type": "code",
   "execution_count": 89,
   "id": "cd3e85d3",
   "metadata": {},
   "outputs": [
    {
     "name": "stdout",
     "output_type": "stream",
     "text": [
      "                                 Grupo  Grupo_encoded\n",
      "0  Tienda/Supermercado de Alimentacion              6\n",
      "1                                  NaN              7\n",
      "2  Tienda/Supermercado de Alimentacion              6\n",
      "3  Tienda/Supermercado de Alimentacion              6\n",
      "4  Tienda/Supermercado de Alimentacion              6\n",
      "Mapeo: {'Distribuidor': 0, 'Drogueria': 1, 'Empleados ': 2, 'Horeca (Bares, Restaurante, Cafet.)': 3, 'Otros': 4, 'Particulares': 5, 'Tienda/Supermercado de Alimentacion': 6, nan: 7}\n"
     ]
    }
   ],
   "source": [
    "le = LabelEncoder()\n",
    "df_modelo['Grupo_encoded'] = le.fit_transform(df['Grupo'])\n",
    "print(df_modelo[['Grupo', 'Grupo_encoded']].head())\n",
    "print(\"Mapeo:\", dict(zip(le.classes_, le.transform(le.classes_))))\n"
   ]
  },
  {
   "cell_type": "code",
   "execution_count": 90,
   "id": "a8526f39",
   "metadata": {},
   "outputs": [
    {
     "data": {
      "text/plain": [
       "IdCliente                      object\n",
       "Provincia                      object\n",
       "Grupo                          object\n",
       "Ventas 2018                   float64\n",
       "Unidades 2018                  object\n",
       "Tickets 2018                    int64\n",
       "Antigüedad             datetime64[ns]\n",
       "Ventas 2017                    object\n",
       "Unidades 2017                  object\n",
       "Tickets 2017                  float64\n",
       "Ventas 2016                    object\n",
       "Unidades 2016                  object\n",
       "Tickets 2016                  float64\n",
       "Ventas 2015                    object\n",
       "Unidades 2015                  object\n",
       "Tickets 2015                  float64\n",
       "Ventas 2014                    object\n",
       "Unidades 2014                  object\n",
       "Tickets 2014                  float64\n",
       "Antiguedad_sin_hora            object\n",
       "Grupo_encoded                   int64\n",
       "dtype: object"
      ]
     },
     "execution_count": 90,
     "metadata": {},
     "output_type": "execute_result"
    }
   ],
   "source": [
    "df_modelo.dtypes"
   ]
  },
  {
   "cell_type": "code",
   "execution_count": null,
   "id": "7ee8c37b",
   "metadata": {},
   "outputs": [],
   "source": []
  },
  {
   "cell_type": "code",
   "execution_count": 91,
   "id": "3f96535c",
   "metadata": {},
   "outputs": [],
   "source": [
    "train_data = df_modelo[df_modelo['Grupo_encoded'] != 7]\n",
    "predict_data = df_modelo[df_modelo['Grupo_encoded'] == 7]"
   ]
  },
  {
   "cell_type": "code",
   "execution_count": 92,
   "id": "73f8eece",
   "metadata": {
    "scrolled": true
   },
   "outputs": [
    {
     "data": {
      "text/plain": [
       "False"
      ]
     },
     "execution_count": 92,
     "metadata": {},
     "output_type": "execute_result"
    }
   ],
   "source": [
    "(train_data['Grupo_encoded'] == 7).any()"
   ]
  },
  {
   "cell_type": "code",
   "execution_count": 93,
   "id": "772c8d54",
   "metadata": {},
   "outputs": [
    {
     "data": {
      "text/plain": [
       "True"
      ]
     },
     "execution_count": 93,
     "metadata": {},
     "output_type": "execute_result"
    }
   ],
   "source": [
    "(predict_data['Grupo_encoded'] == 7).any()"
   ]
  },
  {
   "cell_type": "code",
   "execution_count": null,
   "id": "46f082d5",
   "metadata": {},
   "outputs": [],
   "source": []
  },
  {
   "cell_type": "code",
   "execution_count": 94,
   "id": "690c4e98",
   "metadata": {},
   "outputs": [],
   "source": [
    "X_train = train_data[['Ventas 2018', 'Unidades 2018', 'Tickets 2018']]\n",
    "y_train = train_data['Grupo_encoded']"
   ]
  },
  {
   "cell_type": "code",
   "execution_count": 95,
   "id": "263b7c4a",
   "metadata": {},
   "outputs": [],
   "source": [
    "X_train_split, X_test_split, y_train_split, y_test_split = train_test_split(X_train, y_train, test_size=0.2)\n"
   ]
  },
  {
   "cell_type": "code",
   "execution_count": 96,
   "id": "922a42a6",
   "metadata": {},
   "outputs": [],
   "source": [
    "X_predict = predict_data[['Ventas 2018', 'Unidades 2018', 'Tickets 2018']]"
   ]
  },
  {
   "cell_type": "code",
   "execution_count": 97,
   "id": "ed16316c",
   "metadata": {},
   "outputs": [
    {
     "data": {
      "text/html": [
       "<style>#sk-container-id-3 {color: black;}#sk-container-id-3 pre{padding: 0;}#sk-container-id-3 div.sk-toggleable {background-color: white;}#sk-container-id-3 label.sk-toggleable__label {cursor: pointer;display: block;width: 100%;margin-bottom: 0;padding: 0.3em;box-sizing: border-box;text-align: center;}#sk-container-id-3 label.sk-toggleable__label-arrow:before {content: \"▸\";float: left;margin-right: 0.25em;color: #696969;}#sk-container-id-3 label.sk-toggleable__label-arrow:hover:before {color: black;}#sk-container-id-3 div.sk-estimator:hover label.sk-toggleable__label-arrow:before {color: black;}#sk-container-id-3 div.sk-toggleable__content {max-height: 0;max-width: 0;overflow: hidden;text-align: left;background-color: #f0f8ff;}#sk-container-id-3 div.sk-toggleable__content pre {margin: 0.2em;color: black;border-radius: 0.25em;background-color: #f0f8ff;}#sk-container-id-3 input.sk-toggleable__control:checked~div.sk-toggleable__content {max-height: 200px;max-width: 100%;overflow: auto;}#sk-container-id-3 input.sk-toggleable__control:checked~label.sk-toggleable__label-arrow:before {content: \"▾\";}#sk-container-id-3 div.sk-estimator input.sk-toggleable__control:checked~label.sk-toggleable__label {background-color: #d4ebff;}#sk-container-id-3 div.sk-label input.sk-toggleable__control:checked~label.sk-toggleable__label {background-color: #d4ebff;}#sk-container-id-3 input.sk-hidden--visually {border: 0;clip: rect(1px 1px 1px 1px);clip: rect(1px, 1px, 1px, 1px);height: 1px;margin: -1px;overflow: hidden;padding: 0;position: absolute;width: 1px;}#sk-container-id-3 div.sk-estimator {font-family: monospace;background-color: #f0f8ff;border: 1px dotted black;border-radius: 0.25em;box-sizing: border-box;margin-bottom: 0.5em;}#sk-container-id-3 div.sk-estimator:hover {background-color: #d4ebff;}#sk-container-id-3 div.sk-parallel-item::after {content: \"\";width: 100%;border-bottom: 1px solid gray;flex-grow: 1;}#sk-container-id-3 div.sk-label:hover label.sk-toggleable__label {background-color: #d4ebff;}#sk-container-id-3 div.sk-serial::before {content: \"\";position: absolute;border-left: 1px solid gray;box-sizing: border-box;top: 0;bottom: 0;left: 50%;z-index: 0;}#sk-container-id-3 div.sk-serial {display: flex;flex-direction: column;align-items: center;background-color: white;padding-right: 0.2em;padding-left: 0.2em;position: relative;}#sk-container-id-3 div.sk-item {position: relative;z-index: 1;}#sk-container-id-3 div.sk-parallel {display: flex;align-items: stretch;justify-content: center;background-color: white;position: relative;}#sk-container-id-3 div.sk-item::before, #sk-container-id-3 div.sk-parallel-item::before {content: \"\";position: absolute;border-left: 1px solid gray;box-sizing: border-box;top: 0;bottom: 0;left: 50%;z-index: -1;}#sk-container-id-3 div.sk-parallel-item {display: flex;flex-direction: column;z-index: 1;position: relative;background-color: white;}#sk-container-id-3 div.sk-parallel-item:first-child::after {align-self: flex-end;width: 50%;}#sk-container-id-3 div.sk-parallel-item:last-child::after {align-self: flex-start;width: 50%;}#sk-container-id-3 div.sk-parallel-item:only-child::after {width: 0;}#sk-container-id-3 div.sk-dashed-wrapped {border: 1px dashed gray;margin: 0 0.4em 0.5em 0.4em;box-sizing: border-box;padding-bottom: 0.4em;background-color: white;}#sk-container-id-3 div.sk-label label {font-family: monospace;font-weight: bold;display: inline-block;line-height: 1.2em;}#sk-container-id-3 div.sk-label-container {text-align: center;}#sk-container-id-3 div.sk-container {/* jupyter's `normalize.less` sets `[hidden] { display: none; }` but bootstrap.min.css set `[hidden] { display: none !important; }` so we also need the `!important` here to be able to override the default hidden behavior on the sphinx rendered scikit-learn.org. See: https://github.com/scikit-learn/scikit-learn/issues/21755 */display: inline-block !important;position: relative;}#sk-container-id-3 div.sk-text-repr-fallback {display: none;}</style><div id=\"sk-container-id-3\" class=\"sk-top-container\"><div class=\"sk-text-repr-fallback\"><pre>KNeighborsClassifier(n_neighbors=8)</pre><b>In a Jupyter environment, please rerun this cell to show the HTML representation or trust the notebook. <br />On GitHub, the HTML representation is unable to render, please try loading this page with nbviewer.org.</b></div><div class=\"sk-container\" hidden><div class=\"sk-item\"><div class=\"sk-estimator sk-toggleable\"><input class=\"sk-toggleable__control sk-hidden--visually\" id=\"sk-estimator-id-3\" type=\"checkbox\" checked><label for=\"sk-estimator-id-3\" class=\"sk-toggleable__label sk-toggleable__label-arrow\">KNeighborsClassifier</label><div class=\"sk-toggleable__content\"><pre>KNeighborsClassifier(n_neighbors=8)</pre></div></div></div></div></div>"
      ],
      "text/plain": [
       "KNeighborsClassifier(n_neighbors=8)"
      ]
     },
     "execution_count": 97,
     "metadata": {},
     "output_type": "execute_result"
    }
   ],
   "source": [
    "model_knn = KNeighborsClassifier(n_neighbors=8)  \n",
    "model_knn.fit(X_train_split, y_train_split)"
   ]
  },
  {
   "cell_type": "code",
   "execution_count": 98,
   "id": "fed354f3",
   "metadata": {},
   "outputs": [
    {
     "data": {
      "text/plain": [
       "array([4, 3, 4, ..., 3, 3, 3])"
      ]
     },
     "execution_count": 98,
     "metadata": {},
     "output_type": "execute_result"
    }
   ],
   "source": [
    "y_pred = model_knn.predict(X_test_split)\n",
    "y_pred\n",
    "\n",
    "# el problema está en que el array de y_pred no va ser del mismo tamaño q el train ni el test."
   ]
  },
  {
   "cell_type": "code",
   "execution_count": null,
   "id": "87b2e4a2",
   "metadata": {},
   "outputs": [],
   "source": []
  },
  {
   "cell_type": "code",
   "execution_count": 99,
   "id": "950873a8",
   "metadata": {
    "scrolled": true
   },
   "outputs": [
    {
     "name": "stdout",
     "output_type": "stream",
     "text": [
      "\n",
      "Evaluación del modelo k-NN (conjunto de prueba):\n",
      "Accuracy: 0.40021672385768464\n",
      "\n",
      "Clasification Report:\n",
      "              precision    recall  f1-score   support\n",
      "\n",
      "           0       0.08      0.02      0.04       248\n",
      "           1       0.00      0.00      0.00        48\n",
      "           2       0.60      0.14      0.22       133\n",
      "           3       0.45      0.65      0.53      1990\n",
      "           4       0.24      0.20      0.22       976\n",
      "           5       0.15      0.06      0.09       497\n",
      "           6       0.43      0.42      0.42      1645\n",
      "\n",
      "    accuracy                           0.40      5537\n",
      "   macro avg       0.28      0.21      0.22      5537\n",
      "weighted avg       0.36      0.40      0.37      5537\n",
      "\n"
     ]
    }
   ],
   "source": [
    "print(\"\\nEvaluación del modelo k-NN (conjunto de prueba):\")\n",
    "print(\"Accuracy:\", accuracy_score(y_test_split, y_pred))\n",
    "print(\"\\nClasification Report:\")\n",
    "print(classification_report(y_test_split, y_pred))"
   ]
  },
  {
   "cell_type": "code",
   "execution_count": 100,
   "id": "b7c96e3c",
   "metadata": {},
   "outputs": [],
   "source": [
    "#modelo2"
   ]
  },
  {
   "cell_type": "code",
   "execution_count": 101,
   "id": "4cdfaeba",
   "metadata": {},
   "outputs": [],
   "source": [
    "train_data = df_modelo[df_modelo['Grupo_encoded'] != 7]\n",
    "predict_data = df_modelo[df_modelo['Grupo_encoded'] == 7]"
   ]
  },
  {
   "cell_type": "code",
   "execution_count": 102,
   "id": "09e46873",
   "metadata": {},
   "outputs": [
    {
     "data": {
      "text/plain": [
       "(27683, 21)"
      ]
     },
     "execution_count": 102,
     "metadata": {},
     "output_type": "execute_result"
    }
   ],
   "source": [
    "train_data.shape"
   ]
  },
  {
   "cell_type": "code",
   "execution_count": 103,
   "id": "c8e407d7",
   "metadata": {},
   "outputs": [
    {
     "data": {
      "text/plain": [
       "(11104, 21)"
      ]
     },
     "execution_count": 103,
     "metadata": {},
     "output_type": "execute_result"
    }
   ],
   "source": [
    "predict_data.shape"
   ]
  },
  {
   "cell_type": "code",
   "execution_count": 104,
   "id": "ffe6a621",
   "metadata": {},
   "outputs": [],
   "source": [
    "X_train = train_data[['Ventas 2018', 'Unidades 2018', 'Tickets 2018']]\n",
    "y_train = train_data['Grupo_encoded']"
   ]
  },
  {
   "cell_type": "code",
   "execution_count": 105,
   "id": "abade80b",
   "metadata": {},
   "outputs": [
    {
     "data": {
      "text/html": [
       "<style>#sk-container-id-4 {color: black;}#sk-container-id-4 pre{padding: 0;}#sk-container-id-4 div.sk-toggleable {background-color: white;}#sk-container-id-4 label.sk-toggleable__label {cursor: pointer;display: block;width: 100%;margin-bottom: 0;padding: 0.3em;box-sizing: border-box;text-align: center;}#sk-container-id-4 label.sk-toggleable__label-arrow:before {content: \"▸\";float: left;margin-right: 0.25em;color: #696969;}#sk-container-id-4 label.sk-toggleable__label-arrow:hover:before {color: black;}#sk-container-id-4 div.sk-estimator:hover label.sk-toggleable__label-arrow:before {color: black;}#sk-container-id-4 div.sk-toggleable__content {max-height: 0;max-width: 0;overflow: hidden;text-align: left;background-color: #f0f8ff;}#sk-container-id-4 div.sk-toggleable__content pre {margin: 0.2em;color: black;border-radius: 0.25em;background-color: #f0f8ff;}#sk-container-id-4 input.sk-toggleable__control:checked~div.sk-toggleable__content {max-height: 200px;max-width: 100%;overflow: auto;}#sk-container-id-4 input.sk-toggleable__control:checked~label.sk-toggleable__label-arrow:before {content: \"▾\";}#sk-container-id-4 div.sk-estimator input.sk-toggleable__control:checked~label.sk-toggleable__label {background-color: #d4ebff;}#sk-container-id-4 div.sk-label input.sk-toggleable__control:checked~label.sk-toggleable__label {background-color: #d4ebff;}#sk-container-id-4 input.sk-hidden--visually {border: 0;clip: rect(1px 1px 1px 1px);clip: rect(1px, 1px, 1px, 1px);height: 1px;margin: -1px;overflow: hidden;padding: 0;position: absolute;width: 1px;}#sk-container-id-4 div.sk-estimator {font-family: monospace;background-color: #f0f8ff;border: 1px dotted black;border-radius: 0.25em;box-sizing: border-box;margin-bottom: 0.5em;}#sk-container-id-4 div.sk-estimator:hover {background-color: #d4ebff;}#sk-container-id-4 div.sk-parallel-item::after {content: \"\";width: 100%;border-bottom: 1px solid gray;flex-grow: 1;}#sk-container-id-4 div.sk-label:hover label.sk-toggleable__label {background-color: #d4ebff;}#sk-container-id-4 div.sk-serial::before {content: \"\";position: absolute;border-left: 1px solid gray;box-sizing: border-box;top: 0;bottom: 0;left: 50%;z-index: 0;}#sk-container-id-4 div.sk-serial {display: flex;flex-direction: column;align-items: center;background-color: white;padding-right: 0.2em;padding-left: 0.2em;position: relative;}#sk-container-id-4 div.sk-item {position: relative;z-index: 1;}#sk-container-id-4 div.sk-parallel {display: flex;align-items: stretch;justify-content: center;background-color: white;position: relative;}#sk-container-id-4 div.sk-item::before, #sk-container-id-4 div.sk-parallel-item::before {content: \"\";position: absolute;border-left: 1px solid gray;box-sizing: border-box;top: 0;bottom: 0;left: 50%;z-index: -1;}#sk-container-id-4 div.sk-parallel-item {display: flex;flex-direction: column;z-index: 1;position: relative;background-color: white;}#sk-container-id-4 div.sk-parallel-item:first-child::after {align-self: flex-end;width: 50%;}#sk-container-id-4 div.sk-parallel-item:last-child::after {align-self: flex-start;width: 50%;}#sk-container-id-4 div.sk-parallel-item:only-child::after {width: 0;}#sk-container-id-4 div.sk-dashed-wrapped {border: 1px dashed gray;margin: 0 0.4em 0.5em 0.4em;box-sizing: border-box;padding-bottom: 0.4em;background-color: white;}#sk-container-id-4 div.sk-label label {font-family: monospace;font-weight: bold;display: inline-block;line-height: 1.2em;}#sk-container-id-4 div.sk-label-container {text-align: center;}#sk-container-id-4 div.sk-container {/* jupyter's `normalize.less` sets `[hidden] { display: none; }` but bootstrap.min.css set `[hidden] { display: none !important; }` so we also need the `!important` here to be able to override the default hidden behavior on the sphinx rendered scikit-learn.org. See: https://github.com/scikit-learn/scikit-learn/issues/21755 */display: inline-block !important;position: relative;}#sk-container-id-4 div.sk-text-repr-fallback {display: none;}</style><div id=\"sk-container-id-4\" class=\"sk-top-container\"><div class=\"sk-text-repr-fallback\"><pre>KNeighborsClassifier(n_neighbors=8)</pre><b>In a Jupyter environment, please rerun this cell to show the HTML representation or trust the notebook. <br />On GitHub, the HTML representation is unable to render, please try loading this page with nbviewer.org.</b></div><div class=\"sk-container\" hidden><div class=\"sk-item\"><div class=\"sk-estimator sk-toggleable\"><input class=\"sk-toggleable__control sk-hidden--visually\" id=\"sk-estimator-id-4\" type=\"checkbox\" checked><label for=\"sk-estimator-id-4\" class=\"sk-toggleable__label sk-toggleable__label-arrow\">KNeighborsClassifier</label><div class=\"sk-toggleable__content\"><pre>KNeighborsClassifier(n_neighbors=8)</pre></div></div></div></div></div>"
      ],
      "text/plain": [
       "KNeighborsClassifier(n_neighbors=8)"
      ]
     },
     "execution_count": 105,
     "metadata": {},
     "output_type": "execute_result"
    }
   ],
   "source": [
    "model_knn2 = KNeighborsClassifier(n_neighbors=8)  \n",
    "model_knn2.fit(X_train, y_train)"
   ]
  },
  {
   "cell_type": "code",
   "execution_count": 106,
   "id": "102e8785",
   "metadata": {},
   "outputs": [],
   "source": [
    "X_predict2 = predict_data[['Ventas 2018', 'Unidades 2018', 'Tickets 2018']]"
   ]
  },
  {
   "cell_type": "code",
   "execution_count": 107,
   "id": "8b226d68",
   "metadata": {},
   "outputs": [],
   "source": [
    "y_pred2 = model_knn2.predict(X_predict2)"
   ]
  },
  {
   "cell_type": "code",
   "execution_count": 108,
   "id": "b7102374",
   "metadata": {},
   "outputs": [
    {
     "data": {
      "text/plain": [
       "(11104,)"
      ]
     },
     "execution_count": 108,
     "metadata": {},
     "output_type": "execute_result"
    }
   ],
   "source": [
    "y_pred2.shape"
   ]
  },
  {
   "cell_type": "code",
   "execution_count": 109,
   "id": "054e753a",
   "metadata": {},
   "outputs": [
    {
     "data": {
      "text/html": [
       "<div>\n",
       "<style scoped>\n",
       "    .dataframe tbody tr th:only-of-type {\n",
       "        vertical-align: middle;\n",
       "    }\n",
       "\n",
       "    .dataframe tbody tr th {\n",
       "        vertical-align: top;\n",
       "    }\n",
       "\n",
       "    .dataframe thead th {\n",
       "        text-align: right;\n",
       "    }\n",
       "</style>\n",
       "<table border=\"1\" class=\"dataframe\">\n",
       "  <thead>\n",
       "    <tr style=\"text-align: right;\">\n",
       "      <th></th>\n",
       "      <th>IdCliente</th>\n",
       "      <th>Provincia</th>\n",
       "      <th>Grupo</th>\n",
       "      <th>Ventas 2018</th>\n",
       "      <th>Unidades 2018</th>\n",
       "      <th>Tickets 2018</th>\n",
       "      <th>Antigüedad</th>\n",
       "      <th>Ventas 2017</th>\n",
       "      <th>Unidades 2017</th>\n",
       "      <th>Tickets 2017</th>\n",
       "      <th>...</th>\n",
       "      <th>Unidades 2016</th>\n",
       "      <th>Tickets 2016</th>\n",
       "      <th>Ventas 2015</th>\n",
       "      <th>Unidades 2015</th>\n",
       "      <th>Tickets 2015</th>\n",
       "      <th>Ventas 2014</th>\n",
       "      <th>Unidades 2014</th>\n",
       "      <th>Tickets 2014</th>\n",
       "      <th>Antiguedad_sin_hora</th>\n",
       "      <th>Grupo_encoded</th>\n",
       "    </tr>\n",
       "  </thead>\n",
       "  <tbody>\n",
       "    <tr>\n",
       "      <th>7916</th>\n",
       "      <td>Cliente 7917</td>\n",
       "      <td>11</td>\n",
       "      <td>NaN</td>\n",
       "      <td>571.2790</td>\n",
       "      <td>752</td>\n",
       "      <td>4</td>\n",
       "      <td>2009-12-21 16:49:51</td>\n",
       "      <td>99.229</td>\n",
       "      <td>27</td>\n",
       "      <td>2.0</td>\n",
       "      <td>...</td>\n",
       "      <td>415</td>\n",
       "      <td>2.0</td>\n",
       "      <td>205.579</td>\n",
       "      <td>175</td>\n",
       "      <td>4.0</td>\n",
       "      <td>59.96</td>\n",
       "      <td>47</td>\n",
       "      <td>1.0</td>\n",
       "      <td>2009-12-21</td>\n",
       "      <td>7</td>\n",
       "    </tr>\n",
       "    <tr>\n",
       "      <th>17913</th>\n",
       "      <td>Cliente 17914</td>\n",
       "      <td>18</td>\n",
       "      <td>NaN</td>\n",
       "      <td>1177.7451</td>\n",
       "      <td>941.02</td>\n",
       "      <td>22</td>\n",
       "      <td>2014-05-16 13:16:01</td>\n",
       "      <td>1987.5346</td>\n",
       "      <td>2094.07</td>\n",
       "      <td>27.0</td>\n",
       "      <td>...</td>\n",
       "      <td>1748.48</td>\n",
       "      <td>27.0</td>\n",
       "      <td>3794.7923</td>\n",
       "      <td>4253.99</td>\n",
       "      <td>36.0</td>\n",
       "      <td>1247.594</td>\n",
       "      <td>1760.9</td>\n",
       "      <td>20.0</td>\n",
       "      <td>2014-05-16</td>\n",
       "      <td>7</td>\n",
       "    </tr>\n",
       "    <tr>\n",
       "      <th>30722</th>\n",
       "      <td>Cliente 30723</td>\n",
       "      <td>29</td>\n",
       "      <td>NaN</td>\n",
       "      <td>310.9063</td>\n",
       "      <td>188.36</td>\n",
       "      <td>3</td>\n",
       "      <td>2018-01-19 13:15:49</td>\n",
       "      <td>NaN</td>\n",
       "      <td>NaN</td>\n",
       "      <td>NaN</td>\n",
       "      <td>...</td>\n",
       "      <td>NaN</td>\n",
       "      <td>NaN</td>\n",
       "      <td>NaN</td>\n",
       "      <td>NaN</td>\n",
       "      <td>NaN</td>\n",
       "      <td>NaN</td>\n",
       "      <td>NaN</td>\n",
       "      <td>NaN</td>\n",
       "      <td>2018-01-19</td>\n",
       "      <td>7</td>\n",
       "    </tr>\n",
       "    <tr>\n",
       "      <th>26271</th>\n",
       "      <td>Cliente 26272</td>\n",
       "      <td>29</td>\n",
       "      <td>NaN</td>\n",
       "      <td>126.7603</td>\n",
       "      <td>78.3</td>\n",
       "      <td>1</td>\n",
       "      <td>2015-10-06 12:08:14</td>\n",
       "      <td>439.166</td>\n",
       "      <td>493</td>\n",
       "      <td>1.0</td>\n",
       "      <td>...</td>\n",
       "      <td>3911</td>\n",
       "      <td>2.0</td>\n",
       "      <td>2634.166</td>\n",
       "      <td>2419</td>\n",
       "      <td>2.0</td>\n",
       "      <td>NaN</td>\n",
       "      <td>NaN</td>\n",
       "      <td>NaN</td>\n",
       "      <td>2015-10-06</td>\n",
       "      <td>7</td>\n",
       "    </tr>\n",
       "    <tr>\n",
       "      <th>7339</th>\n",
       "      <td>Cliente 7340</td>\n",
       "      <td>23</td>\n",
       "      <td>NaN</td>\n",
       "      <td>93.8900</td>\n",
       "      <td>28.22</td>\n",
       "      <td>2</td>\n",
       "      <td>2009-01-07 13:08:31</td>\n",
       "      <td>920.9678</td>\n",
       "      <td>304.68</td>\n",
       "      <td>8.0</td>\n",
       "      <td>...</td>\n",
       "      <td>357.88</td>\n",
       "      <td>5.0</td>\n",
       "      <td>NaN</td>\n",
       "      <td>NaN</td>\n",
       "      <td>NaN</td>\n",
       "      <td>7.063</td>\n",
       "      <td>3</td>\n",
       "      <td>1.0</td>\n",
       "      <td>2009-01-07</td>\n",
       "      <td>7</td>\n",
       "    </tr>\n",
       "  </tbody>\n",
       "</table>\n",
       "<p>5 rows × 21 columns</p>\n",
       "</div>"
      ],
      "text/plain": [
       "           IdCliente Provincia Grupo  Ventas 2018 Unidades 2018  Tickets 2018  \\\n",
       "7916    Cliente 7917        11   NaN     571.2790           752             4   \n",
       "17913  Cliente 17914        18   NaN    1177.7451        941.02            22   \n",
       "30722  Cliente 30723        29   NaN     310.9063        188.36             3   \n",
       "26271  Cliente 26272        29   NaN     126.7603          78.3             1   \n",
       "7339    Cliente 7340        23   NaN      93.8900         28.22             2   \n",
       "\n",
       "               Antigüedad Ventas 2017 Unidades 2017  Tickets 2017  ...  \\\n",
       "7916  2009-12-21 16:49:51      99.229            27           2.0  ...   \n",
       "17913 2014-05-16 13:16:01   1987.5346       2094.07          27.0  ...   \n",
       "30722 2018-01-19 13:15:49         NaN           NaN           NaN  ...   \n",
       "26271 2015-10-06 12:08:14     439.166           493           1.0  ...   \n",
       "7339  2009-01-07 13:08:31    920.9678        304.68           8.0  ...   \n",
       "\n",
       "      Unidades 2016 Tickets 2016  Ventas 2015 Unidades 2015 Tickets 2015  \\\n",
       "7916            415          2.0      205.579           175          4.0   \n",
       "17913       1748.48         27.0    3794.7923       4253.99         36.0   \n",
       "30722           NaN          NaN          NaN           NaN          NaN   \n",
       "26271          3911          2.0     2634.166          2419          2.0   \n",
       "7339         357.88          5.0          NaN           NaN          NaN   \n",
       "\n",
       "       Ventas 2014 Unidades 2014 Tickets 2014  Antiguedad_sin_hora  \\\n",
       "7916         59.96            47          1.0           2009-12-21   \n",
       "17913     1247.594        1760.9         20.0           2014-05-16   \n",
       "30722          NaN           NaN          NaN           2018-01-19   \n",
       "26271          NaN           NaN          NaN           2015-10-06   \n",
       "7339         7.063             3          1.0           2009-01-07   \n",
       "\n",
       "      Grupo_encoded  \n",
       "7916              7  \n",
       "17913             7  \n",
       "30722             7  \n",
       "26271             7  \n",
       "7339              7  \n",
       "\n",
       "[5 rows x 21 columns]"
      ]
     },
     "execution_count": 109,
     "metadata": {},
     "output_type": "execute_result"
    }
   ],
   "source": [
    "predict_data.sample(5)"
   ]
  },
  {
   "cell_type": "code",
   "execution_count": 110,
   "id": "b6b6d6e8",
   "metadata": {},
   "outputs": [
    {
     "name": "stdout",
     "output_type": "stream",
     "text": [
      "                                 Grupo\n",
      "0  Tienda/Supermercado de Alimentacion\n",
      "1                                  NaN\n",
      "2  Tienda/Supermercado de Alimentacion\n",
      "3  Tienda/Supermercado de Alimentacion\n",
      "4  Tienda/Supermercado de Alimentacion\n"
     ]
    }
   ],
   "source": [
    "\n",
    "print(df_modelo[['Grupo']].head())\n"
   ]
  },
  {
   "cell_type": "code",
   "execution_count": 112,
   "id": "9f5594fa",
   "metadata": {},
   "outputs": [],
   "source": [
    "nan_mask = df_modelo['Grupo'].isna() \n"
   ]
  },
  {
   "cell_type": "code",
   "execution_count": 113,
   "id": "5b03bb67",
   "metadata": {},
   "outputs": [],
   "source": [
    "df_modelo.loc[nan_mask, 'Grupo'] = y_pred2"
   ]
  },
  {
   "cell_type": "code",
   "execution_count": 114,
   "id": "56d5964d",
   "metadata": {},
   "outputs": [
    {
     "data": {
      "text/plain": [
       "0"
      ]
     },
     "execution_count": 114,
     "metadata": {},
     "output_type": "execute_result"
    }
   ],
   "source": [
    "df_modelo.Grupo.isna().sum()"
   ]
  },
  {
   "cell_type": "code",
   "execution_count": 115,
   "id": "1a07a363",
   "metadata": {},
   "outputs": [
    {
     "data": {
      "text/plain": [
       "Horeca (Bares, Restaurante, Cafet.)    10246\n",
       "Tienda/Supermercado de Alimentacion     8195\n",
       "3                                       5160\n",
       "Otros                                   4802\n",
       "4                                       2980\n",
       "Particulares                            2355\n",
       "6                                       2207\n",
       "Distribuidor                            1189\n",
       "Empleados                                651\n",
       "5                                        473\n",
       "Drogueria                                245\n",
       "0                                        224\n",
       "2                                         51\n",
       "1                                          9\n",
       "Name: Grupo, dtype: int64"
      ]
     },
     "execution_count": 115,
     "metadata": {},
     "output_type": "execute_result"
    }
   ],
   "source": [
    "df_modelo.Grupo.value_counts()"
   ]
  },
  {
   "cell_type": "code",
   "execution_count": 116,
   "id": "113c6791",
   "metadata": {},
   "outputs": [
    {
     "name": "stdout",
     "output_type": "stream",
     "text": [
      "Mapping of labels: {'Distribuidor': 0, 'Drogueria': 1, 'Empleados ': 2, 'Horeca (Bares, Restaurante, Cafet.)': 3, 'Otros': 4, 'Particulares': 5, 'Tienda/Supermercado de Alimentacion': 6, nan: 7}\n"
     ]
    }
   ],
   "source": [
    "print(\"Mapping of labels:\", dict(zip(le.classes_, le.transform(le.classes_))))\n"
   ]
  },
  {
   "cell_type": "code",
   "execution_count": 117,
   "id": "3ced18d3",
   "metadata": {},
   "outputs": [],
   "source": [
    "grupo_inverse_mapping = {\n",
    "    0: 'Distribuidor',\n",
    "    1: 'Drogueria',\n",
    "    2: 'Empleados ',\n",
    "    3: 'Horeca (Bares, Restaurante, Cafet.)',\n",
    "    4: 'Otros',\n",
    "    5: 'Particulares',\n",
    "    6: 'Tienda/Supermercado de Alimentacion'\n",
    "}\n",
    "\n",
    "df_modelo['Grupo'] = df_modelo['Grupo'].replace(grupo_inverse_mapping)"
   ]
  },
  {
   "cell_type": "code",
   "execution_count": 118,
   "id": "e8cae9ed",
   "metadata": {},
   "outputs": [
    {
     "data": {
      "text/plain": [
       "Horeca (Bares, Restaurante, Cafet.)    15406\n",
       "Tienda/Supermercado de Alimentacion    10402\n",
       "Otros                                   7782\n",
       "Particulares                            2828\n",
       "Distribuidor                            1413\n",
       "Empleados                                702\n",
       "Drogueria                                254\n",
       "Name: Grupo, dtype: int64"
      ]
     },
     "execution_count": 118,
     "metadata": {},
     "output_type": "execute_result"
    }
   ],
   "source": [
    "df_modelo.Grupo.value_counts()"
   ]
  },
  {
   "cell_type": "code",
   "execution_count": 119,
   "id": "6498382d",
   "metadata": {},
   "outputs": [
    {
     "data": {
      "text/plain": [
       "(38787,)"
      ]
     },
     "execution_count": 119,
     "metadata": {},
     "output_type": "execute_result"
    }
   ],
   "source": [
    "df_modelo.Grupo.shape"
   ]
  },
  {
   "cell_type": "code",
   "execution_count": 120,
   "id": "7fcc76c7",
   "metadata": {},
   "outputs": [
    {
     "data": {
      "text/plain": [
       "0"
      ]
     },
     "execution_count": 120,
     "metadata": {},
     "output_type": "execute_result"
    }
   ],
   "source": [
    "df_modelo.Grupo.isna().sum()"
   ]
  },
  {
   "cell_type": "code",
   "execution_count": 121,
   "id": "26d44cee",
   "metadata": {},
   "outputs": [
    {
     "data": {
      "text/plain": [
       "(38787,)"
      ]
     },
     "execution_count": 121,
     "metadata": {},
     "output_type": "execute_result"
    }
   ],
   "source": [
    "df.Grupo.shape"
   ]
  },
  {
   "cell_type": "code",
   "execution_count": 122,
   "id": "2bef775d",
   "metadata": {},
   "outputs": [],
   "source": [
    "#kMeans con df limpio"
   ]
  },
  {
   "cell_type": "code",
   "execution_count": 135,
   "id": "ce0a0d41",
   "metadata": {},
   "outputs": [],
   "source": [
    "dfKmeans = df_modelo[[\"Provincia\",\"Grupo\",\"Ventas 2018\",\"Unidades 2018\",\"Tickets 2018\",\"Antiguedad_sin_hora\"]]"
   ]
  },
  {
   "cell_type": "code",
   "execution_count": 136,
   "id": "0ccc975b",
   "metadata": {},
   "outputs": [
    {
     "data": {
      "text/html": [
       "<div>\n",
       "<style scoped>\n",
       "    .dataframe tbody tr th:only-of-type {\n",
       "        vertical-align: middle;\n",
       "    }\n",
       "\n",
       "    .dataframe tbody tr th {\n",
       "        vertical-align: top;\n",
       "    }\n",
       "\n",
       "    .dataframe thead th {\n",
       "        text-align: right;\n",
       "    }\n",
       "</style>\n",
       "<table border=\"1\" class=\"dataframe\">\n",
       "  <thead>\n",
       "    <tr style=\"text-align: right;\">\n",
       "      <th></th>\n",
       "      <th>Provincia</th>\n",
       "      <th>Grupo</th>\n",
       "      <th>Ventas 2018</th>\n",
       "      <th>Unidades 2018</th>\n",
       "      <th>Tickets 2018</th>\n",
       "      <th>Antiguedad_sin_hora</th>\n",
       "    </tr>\n",
       "  </thead>\n",
       "  <tbody>\n",
       "    <tr>\n",
       "      <th>0</th>\n",
       "      <td>29</td>\n",
       "      <td>Tienda/Supermercado de Alimentacion</td>\n",
       "      <td>1525.7880</td>\n",
       "      <td>2213.28</td>\n",
       "      <td>46</td>\n",
       "      <td>2009-01-05</td>\n",
       "    </tr>\n",
       "    <tr>\n",
       "      <th>1</th>\n",
       "      <td>29</td>\n",
       "      <td>Horeca (Bares, Restaurante, Cafet.)</td>\n",
       "      <td>115.8179</td>\n",
       "      <td>82.97</td>\n",
       "      <td>1</td>\n",
       "      <td>2009-01-03</td>\n",
       "    </tr>\n",
       "    <tr>\n",
       "      <th>2</th>\n",
       "      <td>29</td>\n",
       "      <td>Tienda/Supermercado de Alimentacion</td>\n",
       "      <td>25670.9588</td>\n",
       "      <td>35516.11</td>\n",
       "      <td>236</td>\n",
       "      <td>2009-01-03</td>\n",
       "    </tr>\n",
       "    <tr>\n",
       "      <th>3</th>\n",
       "      <td>29</td>\n",
       "      <td>Tienda/Supermercado de Alimentacion</td>\n",
       "      <td>39519.3851</td>\n",
       "      <td>42299.2</td>\n",
       "      <td>358</td>\n",
       "      <td>2009-01-05</td>\n",
       "    </tr>\n",
       "    <tr>\n",
       "      <th>4</th>\n",
       "      <td>29</td>\n",
       "      <td>Tienda/Supermercado de Alimentacion</td>\n",
       "      <td>2555.5218</td>\n",
       "      <td>2587.39</td>\n",
       "      <td>20</td>\n",
       "      <td>2009-01-12</td>\n",
       "    </tr>\n",
       "    <tr>\n",
       "      <th>...</th>\n",
       "      <td>...</td>\n",
       "      <td>...</td>\n",
       "      <td>...</td>\n",
       "      <td>...</td>\n",
       "      <td>...</td>\n",
       "      <td>...</td>\n",
       "    </tr>\n",
       "    <tr>\n",
       "      <th>38782</th>\n",
       "      <td>4</td>\n",
       "      <td>Tienda/Supermercado de Alimentacion</td>\n",
       "      <td>971.5203</td>\n",
       "      <td>1479.77</td>\n",
       "      <td>12</td>\n",
       "      <td>2018-11-21</td>\n",
       "    </tr>\n",
       "    <tr>\n",
       "      <th>38783</th>\n",
       "      <td>4</td>\n",
       "      <td>Horeca (Bares, Restaurante, Cafet.)</td>\n",
       "      <td>52.2100</td>\n",
       "      <td>22</td>\n",
       "      <td>1</td>\n",
       "      <td>2018-12-13</td>\n",
       "    </tr>\n",
       "    <tr>\n",
       "      <th>38784</th>\n",
       "      <td>4</td>\n",
       "      <td>Horeca (Bares, Restaurante, Cafet.)</td>\n",
       "      <td>53.5920</td>\n",
       "      <td>50</td>\n",
       "      <td>1</td>\n",
       "      <td>2018-12-20</td>\n",
       "    </tr>\n",
       "    <tr>\n",
       "      <th>38785</th>\n",
       "      <td>18</td>\n",
       "      <td>Tienda/Supermercado de Alimentacion</td>\n",
       "      <td>173.0500</td>\n",
       "      <td>170</td>\n",
       "      <td>1</td>\n",
       "      <td>2018-12-28</td>\n",
       "    </tr>\n",
       "    <tr>\n",
       "      <th>38786</th>\n",
       "      <td>23</td>\n",
       "      <td>Otros</td>\n",
       "      <td>205.5830</td>\n",
       "      <td>252</td>\n",
       "      <td>7</td>\n",
       "      <td>2018-08-02</td>\n",
       "    </tr>\n",
       "  </tbody>\n",
       "</table>\n",
       "<p>38787 rows × 6 columns</p>\n",
       "</div>"
      ],
      "text/plain": [
       "      Provincia                                Grupo  Ventas 2018  \\\n",
       "0            29  Tienda/Supermercado de Alimentacion    1525.7880   \n",
       "1            29  Horeca (Bares, Restaurante, Cafet.)     115.8179   \n",
       "2            29  Tienda/Supermercado de Alimentacion   25670.9588   \n",
       "3            29  Tienda/Supermercado de Alimentacion   39519.3851   \n",
       "4            29  Tienda/Supermercado de Alimentacion    2555.5218   \n",
       "...         ...                                  ...          ...   \n",
       "38782         4  Tienda/Supermercado de Alimentacion     971.5203   \n",
       "38783         4  Horeca (Bares, Restaurante, Cafet.)      52.2100   \n",
       "38784         4  Horeca (Bares, Restaurante, Cafet.)      53.5920   \n",
       "38785        18  Tienda/Supermercado de Alimentacion     173.0500   \n",
       "38786        23                                Otros     205.5830   \n",
       "\n",
       "      Unidades 2018  Tickets 2018 Antiguedad_sin_hora  \n",
       "0           2213.28            46          2009-01-05  \n",
       "1             82.97             1          2009-01-03  \n",
       "2          35516.11           236          2009-01-03  \n",
       "3           42299.2           358          2009-01-05  \n",
       "4           2587.39            20          2009-01-12  \n",
       "...             ...           ...                 ...  \n",
       "38782       1479.77            12          2018-11-21  \n",
       "38783            22             1          2018-12-13  \n",
       "38784            50             1          2018-12-20  \n",
       "38785           170             1          2018-12-28  \n",
       "38786           252             7          2018-08-02  \n",
       "\n",
       "[38787 rows x 6 columns]"
      ]
     },
     "execution_count": 136,
     "metadata": {},
     "output_type": "execute_result"
    }
   ],
   "source": [
    "dfKmeans"
   ]
  },
  {
   "cell_type": "code",
   "execution_count": 137,
   "id": "5b85e024",
   "metadata": {},
   "outputs": [
    {
     "name": "stderr",
     "output_type": "stream",
     "text": [
      "/var/folders/37/x57w4bp561x9sj71bs9nmw0w0000gn/T/ipykernel_54763/2659854172.py:1: SettingWithCopyWarning: \n",
      "A value is trying to be set on a copy of a slice from a DataFrame.\n",
      "Try using .loc[row_indexer,col_indexer] = value instead\n",
      "\n",
      "See the caveats in the documentation: https://pandas.pydata.org/pandas-docs/stable/user_guide/indexing.html#returning-a-view-versus-a-copy\n",
      "  dfKmeans['Grupo_encoded'] = le.fit_transform(dfKmeans['Grupo'])\n"
     ]
    }
   ],
   "source": [
    "dfKmeans['Grupo_encoded'] = le.fit_transform(dfKmeans['Grupo'])"
   ]
  },
  {
   "cell_type": "code",
   "execution_count": 138,
   "id": "d75ba8eb",
   "metadata": {},
   "outputs": [
    {
     "data": {
      "text/plain": [
       "3    15406\n",
       "6    10402\n",
       "4     7782\n",
       "5     2828\n",
       "0     1413\n",
       "2      702\n",
       "1      254\n",
       "Name: Grupo_encoded, dtype: int64"
      ]
     },
     "execution_count": 138,
     "metadata": {},
     "output_type": "execute_result"
    }
   ],
   "source": [
    "dfKmeans.Grupo_encoded.value_counts()"
   ]
  },
  {
   "cell_type": "code",
   "execution_count": 139,
   "id": "296894da",
   "metadata": {},
   "outputs": [],
   "source": [
    "del dfKmeans[\"Grupo\"]"
   ]
  },
  {
   "cell_type": "code",
   "execution_count": 140,
   "id": "5a29bd28",
   "metadata": {},
   "outputs": [
    {
     "data": {
      "text/html": [
       "<div>\n",
       "<style scoped>\n",
       "    .dataframe tbody tr th:only-of-type {\n",
       "        vertical-align: middle;\n",
       "    }\n",
       "\n",
       "    .dataframe tbody tr th {\n",
       "        vertical-align: top;\n",
       "    }\n",
       "\n",
       "    .dataframe thead th {\n",
       "        text-align: right;\n",
       "    }\n",
       "</style>\n",
       "<table border=\"1\" class=\"dataframe\">\n",
       "  <thead>\n",
       "    <tr style=\"text-align: right;\">\n",
       "      <th></th>\n",
       "      <th>Provincia</th>\n",
       "      <th>Ventas 2018</th>\n",
       "      <th>Unidades 2018</th>\n",
       "      <th>Tickets 2018</th>\n",
       "      <th>Antiguedad_sin_hora</th>\n",
       "      <th>Grupo_encoded</th>\n",
       "    </tr>\n",
       "  </thead>\n",
       "  <tbody>\n",
       "    <tr>\n",
       "      <th>17056</th>\n",
       "      <td>28</td>\n",
       "      <td>2527.6490</td>\n",
       "      <td>1393</td>\n",
       "      <td>9</td>\n",
       "      <td>2012-01-25</td>\n",
       "      <td>3</td>\n",
       "    </tr>\n",
       "    <tr>\n",
       "      <th>27260</th>\n",
       "      <td>29</td>\n",
       "      <td>1017.0970</td>\n",
       "      <td>1510</td>\n",
       "      <td>24</td>\n",
       "      <td>2018-01-08</td>\n",
       "      <td>3</td>\n",
       "    </tr>\n",
       "    <tr>\n",
       "      <th>36888</th>\n",
       "      <td>29</td>\n",
       "      <td>6863.3931</td>\n",
       "      <td>8217.16</td>\n",
       "      <td>44</td>\n",
       "      <td>2015-12-09</td>\n",
       "      <td>3</td>\n",
       "    </tr>\n",
       "    <tr>\n",
       "      <th>8053</th>\n",
       "      <td>11</td>\n",
       "      <td>2493.7495</td>\n",
       "      <td>2103.59</td>\n",
       "      <td>14</td>\n",
       "      <td>2009-01-14</td>\n",
       "      <td>3</td>\n",
       "    </tr>\n",
       "    <tr>\n",
       "      <th>11777</th>\n",
       "      <td>23</td>\n",
       "      <td>2413.7665</td>\n",
       "      <td>2259.78</td>\n",
       "      <td>21</td>\n",
       "      <td>2010-11-09</td>\n",
       "      <td>5</td>\n",
       "    </tr>\n",
       "  </tbody>\n",
       "</table>\n",
       "</div>"
      ],
      "text/plain": [
       "      Provincia  Ventas 2018 Unidades 2018  Tickets 2018 Antiguedad_sin_hora  \\\n",
       "17056        28    2527.6490          1393             9          2012-01-25   \n",
       "27260        29    1017.0970          1510            24          2018-01-08   \n",
       "36888        29    6863.3931       8217.16            44          2015-12-09   \n",
       "8053         11    2493.7495       2103.59            14          2009-01-14   \n",
       "11777        23    2413.7665       2259.78            21          2010-11-09   \n",
       "\n",
       "       Grupo_encoded  \n",
       "17056              3  \n",
       "27260              3  \n",
       "36888              3  \n",
       "8053               3  \n",
       "11777              5  "
      ]
     },
     "execution_count": 140,
     "metadata": {},
     "output_type": "execute_result"
    }
   ],
   "source": [
    "dfKmeans.sample(5)"
   ]
  },
  {
   "cell_type": "code",
   "execution_count": 144,
   "id": "e4f6d411",
   "metadata": {},
   "outputs": [
    {
     "data": {
      "text/plain": [
       "Provincia               object\n",
       "Ventas 2018            float64\n",
       "Unidades 2018           object\n",
       "Tickets 2018             int64\n",
       "Antiguedad_sin_hora     object\n",
       "Grupo_encoded            int64\n",
       "dtype: object"
      ]
     },
     "execution_count": 144,
     "metadata": {},
     "output_type": "execute_result"
    }
   ],
   "source": [
    "dfKmeans.dtypes"
   ]
  },
  {
   "cell_type": "code",
   "execution_count": 150,
   "id": "10c2fec6",
   "metadata": {},
   "outputs": [
    {
     "data": {
      "text/plain": [
       "7"
      ]
     },
     "execution_count": 150,
     "metadata": {},
     "output_type": "execute_result"
    }
   ],
   "source": [
    "dfKmeans.Provincia.isna().sum()"
   ]
  },
  {
   "cell_type": "code",
   "execution_count": 159,
   "id": "d6a010d5",
   "metadata": {},
   "outputs": [
    {
     "data": {
      "text/plain": [
       "True"
      ]
     },
     "execution_count": 159,
     "metadata": {},
     "output_type": "execute_result"
    }
   ],
   "source": [
    "dfKmeans[\"Provincia\"].str.contains(\"O9\").any()"
   ]
  },
  {
   "cell_type": "code",
   "execution_count": 160,
   "id": "408e1984",
   "metadata": {},
   "outputs": [
    {
     "name": "stderr",
     "output_type": "stream",
     "text": [
      "/var/folders/37/x57w4bp561x9sj71bs9nmw0w0000gn/T/ipykernel_54763/1473928738.py:1: SettingWithCopyWarning: \n",
      "A value is trying to be set on a copy of a slice from a DataFrame.\n",
      "Try using .loc[row_indexer,col_indexer] = value instead\n",
      "\n",
      "See the caveats in the documentation: https://pandas.pydata.org/pandas-docs/stable/user_guide/indexing.html#returning-a-view-versus-a-copy\n",
      "  dfKmeans[\"Provincia\"] = pd.to_numeric(dfKmeans[\"Provincia\"], errors=\"coerce\")\n"
     ]
    }
   ],
   "source": [
    "dfKmeans[\"Provincia\"] = pd.to_numeric(dfKmeans[\"Provincia\"], errors=\"coerce\")\n",
    "\n",
    "dfKmeans = dfKmeans.dropna(subset=[\"Provincia\"])"
   ]
  },
  {
   "cell_type": "code",
   "execution_count": 161,
   "id": "d98d6872",
   "metadata": {},
   "outputs": [
    {
     "data": {
      "text/plain": [
       "0"
      ]
     },
     "execution_count": 161,
     "metadata": {},
     "output_type": "execute_result"
    }
   ],
   "source": [
    "dfKmeans.Provincia.isna().sum()"
   ]
  },
  {
   "cell_type": "code",
   "execution_count": 165,
   "id": "ce247a1e",
   "metadata": {},
   "outputs": [
    {
     "name": "stderr",
     "output_type": "stream",
     "text": [
      "/var/folders/37/x57w4bp561x9sj71bs9nmw0w0000gn/T/ipykernel_54763/935686532.py:1: SettingWithCopyWarning: \n",
      "A value is trying to be set on a copy of a slice from a DataFrame.\n",
      "Try using .loc[row_indexer,col_indexer] = value instead\n",
      "\n",
      "See the caveats in the documentation: https://pandas.pydata.org/pandas-docs/stable/user_guide/indexing.html#returning-a-view-versus-a-copy\n",
      "  dfKmeans['Antiguedad_sin_hora'] = pd.to_datetime(dfKmeans['Antiguedad_sin_hora'], errors='coerce')\n"
     ]
    }
   ],
   "source": [
    "dfKmeans['Antiguedad_sin_hora'] = pd.to_datetime(dfKmeans['Antiguedad_sin_hora'], errors='coerce')"
   ]
  },
  {
   "cell_type": "code",
   "execution_count": 166,
   "id": "e39903bf",
   "metadata": {},
   "outputs": [
    {
     "name": "stderr",
     "output_type": "stream",
     "text": [
      "/var/folders/37/x57w4bp561x9sj71bs9nmw0w0000gn/T/ipykernel_54763/3094942331.py:1: SettingWithCopyWarning: \n",
      "A value is trying to be set on a copy of a slice from a DataFrame.\n",
      "Try using .loc[row_indexer,col_indexer] = value instead\n",
      "\n",
      "See the caveats in the documentation: https://pandas.pydata.org/pandas-docs/stable/user_guide/indexing.html#returning-a-view-versus-a-copy\n",
      "  dfKmeans['Antiguedad_sin_hora'] = (dfKmeans['Antiguedad_sin_hora'] - pd.to_datetime('2000-01-01')).dt.days\n"
     ]
    }
   ],
   "source": [
    "dfKmeans['Antiguedad_sin_hora'] = (dfKmeans['Antiguedad_sin_hora'] - pd.to_datetime('2000-01-01')).dt.days"
   ]
  },
  {
   "cell_type": "code",
   "execution_count": 167,
   "id": "73161d8d",
   "metadata": {},
   "outputs": [
    {
     "data": {
      "text/plain": [
       "0        3292\n",
       "1        3290\n",
       "2        3290\n",
       "3        3292\n",
       "4        3299\n",
       "         ... \n",
       "32763    6682\n",
       "32764    6682\n",
       "32765    6683\n",
       "32766    6683\n",
       "32767    6704\n",
       "Name: Antiguedad_sin_hora, Length: 32759, dtype: int64"
      ]
     },
     "execution_count": 167,
     "metadata": {},
     "output_type": "execute_result"
    }
   ],
   "source": [
    "dfKmeans.Antiguedad_sin_hora"
   ]
  },
  {
   "cell_type": "code",
   "execution_count": 168,
   "id": "edc2cb4b",
   "metadata": {},
   "outputs": [
    {
     "name": "stderr",
     "output_type": "stream",
     "text": [
      "/Users/rushabhpatel/anaconda3/lib/python3.11/site-packages/sklearn/cluster/_kmeans.py:1412: FutureWarning: The default value of `n_init` will change from 10 to 'auto' in 1.4. Set the value of `n_init` explicitly to suppress the warning\n",
      "  super()._check_params_vs_input(X, default_n_init=10)\n",
      "/Users/rushabhpatel/anaconda3/lib/python3.11/site-packages/sklearn/cluster/_kmeans.py:1412: FutureWarning: The default value of `n_init` will change from 10 to 'auto' in 1.4. Set the value of `n_init` explicitly to suppress the warning\n",
      "  super()._check_params_vs_input(X, default_n_init=10)\n",
      "/Users/rushabhpatel/anaconda3/lib/python3.11/site-packages/sklearn/cluster/_kmeans.py:1412: FutureWarning: The default value of `n_init` will change from 10 to 'auto' in 1.4. Set the value of `n_init` explicitly to suppress the warning\n",
      "  super()._check_params_vs_input(X, default_n_init=10)\n",
      "/Users/rushabhpatel/anaconda3/lib/python3.11/site-packages/sklearn/cluster/_kmeans.py:1412: FutureWarning: The default value of `n_init` will change from 10 to 'auto' in 1.4. Set the value of `n_init` explicitly to suppress the warning\n",
      "  super()._check_params_vs_input(X, default_n_init=10)\n",
      "/Users/rushabhpatel/anaconda3/lib/python3.11/site-packages/sklearn/cluster/_kmeans.py:1412: FutureWarning: The default value of `n_init` will change from 10 to 'auto' in 1.4. Set the value of `n_init` explicitly to suppress the warning\n",
      "  super()._check_params_vs_input(X, default_n_init=10)\n",
      "/Users/rushabhpatel/anaconda3/lib/python3.11/site-packages/sklearn/cluster/_kmeans.py:1412: FutureWarning: The default value of `n_init` will change from 10 to 'auto' in 1.4. Set the value of `n_init` explicitly to suppress the warning\n",
      "  super()._check_params_vs_input(X, default_n_init=10)\n",
      "/Users/rushabhpatel/anaconda3/lib/python3.11/site-packages/sklearn/cluster/_kmeans.py:1412: FutureWarning: The default value of `n_init` will change from 10 to 'auto' in 1.4. Set the value of `n_init` explicitly to suppress the warning\n",
      "  super()._check_params_vs_input(X, default_n_init=10)\n",
      "/Users/rushabhpatel/anaconda3/lib/python3.11/site-packages/sklearn/cluster/_kmeans.py:1412: FutureWarning: The default value of `n_init` will change from 10 to 'auto' in 1.4. Set the value of `n_init` explicitly to suppress the warning\n",
      "  super()._check_params_vs_input(X, default_n_init=10)\n",
      "/Users/rushabhpatel/anaconda3/lib/python3.11/site-packages/sklearn/cluster/_kmeans.py:1412: FutureWarning: The default value of `n_init` will change from 10 to 'auto' in 1.4. Set the value of `n_init` explicitly to suppress the warning\n",
      "  super()._check_params_vs_input(X, default_n_init=10)\n",
      "/Users/rushabhpatel/anaconda3/lib/python3.11/site-packages/sklearn/cluster/_kmeans.py:1412: FutureWarning: The default value of `n_init` will change from 10 to 'auto' in 1.4. Set the value of `n_init` explicitly to suppress the warning\n",
      "  super()._check_params_vs_input(X, default_n_init=10)\n",
      "/Users/rushabhpatel/anaconda3/lib/python3.11/site-packages/sklearn/cluster/_kmeans.py:1412: FutureWarning: The default value of `n_init` will change from 10 to 'auto' in 1.4. Set the value of `n_init` explicitly to suppress the warning\n",
      "  super()._check_params_vs_input(X, default_n_init=10)\n",
      "/Users/rushabhpatel/anaconda3/lib/python3.11/site-packages/sklearn/cluster/_kmeans.py:1412: FutureWarning: The default value of `n_init` will change from 10 to 'auto' in 1.4. Set the value of `n_init` explicitly to suppress the warning\n",
      "  super()._check_params_vs_input(X, default_n_init=10)\n",
      "/Users/rushabhpatel/anaconda3/lib/python3.11/site-packages/sklearn/cluster/_kmeans.py:1412: FutureWarning: The default value of `n_init` will change from 10 to 'auto' in 1.4. Set the value of `n_init` explicitly to suppress the warning\n",
      "  super()._check_params_vs_input(X, default_n_init=10)\n",
      "/Users/rushabhpatel/anaconda3/lib/python3.11/site-packages/sklearn/cluster/_kmeans.py:1412: FutureWarning: The default value of `n_init` will change from 10 to 'auto' in 1.4. Set the value of `n_init` explicitly to suppress the warning\n",
      "  super()._check_params_vs_input(X, default_n_init=10)\n"
     ]
    },
    {
     "data": {
      "text/plain": [
       "[<matplotlib.lines.Line2D at 0x13bdcd510>]"
      ]
     },
     "execution_count": 168,
     "metadata": {},
     "output_type": "execute_result"
    },
    {
     "data": {
      "image/png": "[encoded data removed]",
      "text/plain": [
       "<Figure size 640x480 with 1 Axes>"
      ]
     },
     "metadata": {},
     "output_type": "display_data"
    }
   ],
   "source": [
    "K = range(1,15)\n",
    "inercia = []\n",
    "for k in K:\n",
    "    kmeanModel = KMeans(n_clusters=k)\n",
    "    kmeanModel.fit(dfKmeans)\n",
    "    inercia.append(kmeanModel.inertia_)\n",
    "plt.plot(inercia)"
   ]
  },
  {
   "cell_type": "code",
   "execution_count": 169,
   "id": "5b699cd7",
   "metadata": {},
   "outputs": [
    {
     "name": "stderr",
     "output_type": "stream",
     "text": [
      "/Users/rushabhpatel/anaconda3/lib/python3.11/site-packages/sklearn/cluster/_kmeans.py:1412: FutureWarning: The default value of `n_init` will change from 10 to 'auto' in 1.4. Set the value of `n_init` explicitly to suppress the warning\n",
      "  super()._check_params_vs_input(X, default_n_init=10)\n"
     ]
    },
    {
     "data": {
      "text/html": [
       "<style>#sk-container-id-5 {color: black;}#sk-container-id-5 pre{padding: 0;}#sk-container-id-5 div.sk-toggleable {background-color: white;}#sk-container-id-5 label.sk-toggleable__label {cursor: pointer;display: block;width: 100%;margin-bottom: 0;padding: 0.3em;box-sizing: border-box;text-align: center;}#sk-container-id-5 label.sk-toggleable__label-arrow:before {content: \"▸\";float: left;margin-right: 0.25em;color: #696969;}#sk-container-id-5 label.sk-toggleable__label-arrow:hover:before {color: black;}#sk-container-id-5 div.sk-estimator:hover label.sk-toggleable__label-arrow:before {color: black;}#sk-container-id-5 div.sk-toggleable__content {max-height: 0;max-width: 0;overflow: hidden;text-align: left;background-color: #f0f8ff;}#sk-container-id-5 div.sk-toggleable__content pre {margin: 0.2em;color: black;border-radius: 0.25em;background-color: #f0f8ff;}#sk-container-id-5 input.sk-toggleable__control:checked~div.sk-toggleable__content {max-height: 200px;max-width: 100%;overflow: auto;}#sk-container-id-5 input.sk-toggleable__control:checked~label.sk-toggleable__label-arrow:before {content: \"▾\";}#sk-container-id-5 div.sk-estimator input.sk-toggleable__control:checked~label.sk-toggleable__label {background-color: #d4ebff;}#sk-container-id-5 div.sk-label input.sk-toggleable__control:checked~label.sk-toggleable__label {background-color: #d4ebff;}#sk-container-id-5 input.sk-hidden--visually {border: 0;clip: rect(1px 1px 1px 1px);clip: rect(1px, 1px, 1px, 1px);height: 1px;margin: -1px;overflow: hidden;padding: 0;position: absolute;width: 1px;}#sk-container-id-5 div.sk-estimator {font-family: monospace;background-color: #f0f8ff;border: 1px dotted black;border-radius: 0.25em;box-sizing: border-box;margin-bottom: 0.5em;}#sk-container-id-5 div.sk-estimator:hover {background-color: #d4ebff;}#sk-container-id-5 div.sk-parallel-item::after {content: \"\";width: 100%;border-bottom: 1px solid gray;flex-grow: 1;}#sk-container-id-5 div.sk-label:hover label.sk-toggleable__label {background-color: #d4ebff;}#sk-container-id-5 div.sk-serial::before {content: \"\";position: absolute;border-left: 1px solid gray;box-sizing: border-box;top: 0;bottom: 0;left: 50%;z-index: 0;}#sk-container-id-5 div.sk-serial {display: flex;flex-direction: column;align-items: center;background-color: white;padding-right: 0.2em;padding-left: 0.2em;position: relative;}#sk-container-id-5 div.sk-item {position: relative;z-index: 1;}#sk-container-id-5 div.sk-parallel {display: flex;align-items: stretch;justify-content: center;background-color: white;position: relative;}#sk-container-id-5 div.sk-item::before, #sk-container-id-5 div.sk-parallel-item::before {content: \"\";position: absolute;border-left: 1px solid gray;box-sizing: border-box;top: 0;bottom: 0;left: 50%;z-index: -1;}#sk-container-id-5 div.sk-parallel-item {display: flex;flex-direction: column;z-index: 1;position: relative;background-color: white;}#sk-container-id-5 div.sk-parallel-item:first-child::after {align-self: flex-end;width: 50%;}#sk-container-id-5 div.sk-parallel-item:last-child::after {align-self: flex-start;width: 50%;}#sk-container-id-5 div.sk-parallel-item:only-child::after {width: 0;}#sk-container-id-5 div.sk-dashed-wrapped {border: 1px dashed gray;margin: 0 0.4em 0.5em 0.4em;box-sizing: border-box;padding-bottom: 0.4em;background-color: white;}#sk-container-id-5 div.sk-label label {font-family: monospace;font-weight: bold;display: inline-block;line-height: 1.2em;}#sk-container-id-5 div.sk-label-container {text-align: center;}#sk-container-id-5 div.sk-container {/* jupyter's `normalize.less` sets `[hidden] { display: none; }` but bootstrap.min.css set `[hidden] { display: none !important; }` so we also need the `!important` here to be able to override the default hidden behavior on the sphinx rendered scikit-learn.org. See: https://github.com/scikit-learn/scikit-learn/issues/21755 */display: inline-block !important;position: relative;}#sk-container-id-5 div.sk-text-repr-fallback {display: none;}</style><div id=\"sk-container-id-5\" class=\"sk-top-container\"><div class=\"sk-text-repr-fallback\"><pre>KMeans(n_clusters=5)</pre><b>In a Jupyter environment, please rerun this cell to show the HTML representation or trust the notebook. <br />On GitHub, the HTML representation is unable to render, please try loading this page with nbviewer.org.</b></div><div class=\"sk-container\" hidden><div class=\"sk-item\"><div class=\"sk-estimator sk-toggleable\"><input class=\"sk-toggleable__control sk-hidden--visually\" id=\"sk-estimator-id-5\" type=\"checkbox\" checked><label for=\"sk-estimator-id-5\" class=\"sk-toggleable__label sk-toggleable__label-arrow\">KMeans</label><div class=\"sk-toggleable__content\"><pre>KMeans(n_clusters=5)</pre></div></div></div></div></div>"
      ],
      "text/plain": [
       "KMeans(n_clusters=5)"
      ]
     },
     "execution_count": 169,
     "metadata": {},
     "output_type": "execute_result"
    }
   ],
   "source": [
    "km = KMeans(n_clusters = 5)\n",
    "km.fit(dfKmeans)"
   ]
  },
  {
   "cell_type": "code",
   "execution_count": 170,
   "id": "7074d1ec",
   "metadata": {},
   "outputs": [
    {
     "data": {
      "text/plain": [
       "array([0, 0, 2, ..., 0, 0, 3], dtype=int32)"
      ]
     },
     "execution_count": 170,
     "metadata": {},
     "output_type": "execute_result"
    }
   ],
   "source": [
    "km.labels_"
   ]
  },
  {
   "cell_type": "code",
   "execution_count": 171,
   "id": "2602887d",
   "metadata": {},
   "outputs": [
    {
     "name": "stderr",
     "output_type": "stream",
     "text": [
      "/var/folders/37/x57w4bp561x9sj71bs9nmw0w0000gn/T/ipykernel_54763/1698046582.py:1: SettingWithCopyWarning: \n",
      "A value is trying to be set on a copy of a slice from a DataFrame.\n",
      "Try using .loc[row_indexer,col_indexer] = value instead\n",
      "\n",
      "See the caveats in the documentation: https://pandas.pydata.org/pandas-docs/stable/user_guide/indexing.html#returning-a-view-versus-a-copy\n",
      "  dfKmeans[\"cluster\"] = km.labels_\n"
     ]
    }
   ],
   "source": [
    "dfKmeans[\"cluster\"] = km.labels_"
   ]
  },
  {
   "cell_type": "code",
   "execution_count": 172,
   "id": "e2681841",
   "metadata": {},
   "outputs": [
    {
     "data": {
      "text/html": [
       "<div>\n",
       "<style scoped>\n",
       "    .dataframe tbody tr th:only-of-type {\n",
       "        vertical-align: middle;\n",
       "    }\n",
       "\n",
       "    .dataframe tbody tr th {\n",
       "        vertical-align: top;\n",
       "    }\n",
       "\n",
       "    .dataframe thead th {\n",
       "        text-align: right;\n",
       "    }\n",
       "</style>\n",
       "<table border=\"1\" class=\"dataframe\">\n",
       "  <thead>\n",
       "    <tr style=\"text-align: right;\">\n",
       "      <th></th>\n",
       "      <th>Provincia</th>\n",
       "      <th>Ventas 2018</th>\n",
       "      <th>Tickets 2018</th>\n",
       "      <th>Antiguedad_sin_hora</th>\n",
       "      <th>Grupo_encoded</th>\n",
       "      <th>cluster</th>\n",
       "    </tr>\n",
       "  </thead>\n",
       "  <tbody>\n",
       "    <tr>\n",
       "      <th>count</th>\n",
       "      <td>308.000000</td>\n",
       "      <td>308.000000</td>\n",
       "      <td>308.000000</td>\n",
       "      <td>308.000000</td>\n",
       "      <td>308.000000</td>\n",
       "      <td>308.0</td>\n",
       "    </tr>\n",
       "    <tr>\n",
       "      <th>mean</th>\n",
       "      <td>24.107143</td>\n",
       "      <td>64490.827403</td>\n",
       "      <td>300.928571</td>\n",
       "      <td>4186.113636</td>\n",
       "      <td>5.025974</td>\n",
       "      <td>1.0</td>\n",
       "    </tr>\n",
       "    <tr>\n",
       "      <th>std</th>\n",
       "      <td>9.712389</td>\n",
       "      <td>18985.679198</td>\n",
       "      <td>141.166089</td>\n",
       "      <td>1135.926606</td>\n",
       "      <td>1.835048</td>\n",
       "      <td>0.0</td>\n",
       "    </tr>\n",
       "    <tr>\n",
       "      <th>min</th>\n",
       "      <td>4.000000</td>\n",
       "      <td>17834.148000</td>\n",
       "      <td>20.000000</td>\n",
       "      <td>3289.000000</td>\n",
       "      <td>0.000000</td>\n",
       "      <td>1.0</td>\n",
       "    </tr>\n",
       "    <tr>\n",
       "      <th>25%</th>\n",
       "      <td>18.000000</td>\n",
       "      <td>50782.766325</td>\n",
       "      <td>210.750000</td>\n",
       "      <td>3290.000000</td>\n",
       "      <td>4.000000</td>\n",
       "      <td>1.0</td>\n",
       "    </tr>\n",
       "    <tr>\n",
       "      <th>50%</th>\n",
       "      <td>29.000000</td>\n",
       "      <td>59070.688750</td>\n",
       "      <td>280.500000</td>\n",
       "      <td>3349.000000</td>\n",
       "      <td>6.000000</td>\n",
       "      <td>1.0</td>\n",
       "    </tr>\n",
       "    <tr>\n",
       "      <th>75%</th>\n",
       "      <td>29.000000</td>\n",
       "      <td>77756.838700</td>\n",
       "      <td>365.250000</td>\n",
       "      <td>5073.750000</td>\n",
       "      <td>6.000000</td>\n",
       "      <td>1.0</td>\n",
       "    </tr>\n",
       "    <tr>\n",
       "      <th>max</th>\n",
       "      <td>99.000000</td>\n",
       "      <td>120066.728100</td>\n",
       "      <td>900.000000</td>\n",
       "      <td>6687.000000</td>\n",
       "      <td>6.000000</td>\n",
       "      <td>1.0</td>\n",
       "    </tr>\n",
       "  </tbody>\n",
       "</table>\n",
       "</div>"
      ],
      "text/plain": [
       "        Provincia    Ventas 2018  Tickets 2018  Antiguedad_sin_hora  \\\n",
       "count  308.000000     308.000000    308.000000           308.000000   \n",
       "mean    24.107143   64490.827403    300.928571          4186.113636   \n",
       "std      9.712389   18985.679198    141.166089          1135.926606   \n",
       "min      4.000000   17834.148000     20.000000          3289.000000   \n",
       "25%     18.000000   50782.766325    210.750000          3290.000000   \n",
       "50%     29.000000   59070.688750    280.500000          3349.000000   \n",
       "75%     29.000000   77756.838700    365.250000          5073.750000   \n",
       "max     99.000000  120066.728100    900.000000          6687.000000   \n",
       "\n",
       "       Grupo_encoded  cluster  \n",
       "count     308.000000    308.0  \n",
       "mean        5.025974      1.0  \n",
       "std         1.835048      0.0  \n",
       "min         0.000000      1.0  \n",
       "25%         4.000000      1.0  \n",
       "50%         6.000000      1.0  \n",
       "75%         6.000000      1.0  \n",
       "max         6.000000      1.0  "
      ]
     },
     "execution_count": 172,
     "metadata": {},
     "output_type": "execute_result"
    }
   ],
   "source": [
    "dfKmeans[dfKmeans[\"cluster\"] ==1].describe()"
   ]
  },
  {
   "cell_type": "code",
   "execution_count": 173,
   "id": "8d112ad4",
   "metadata": {},
   "outputs": [
    {
     "data": {
      "text/html": [
       "<div>\n",
       "<style scoped>\n",
       "    .dataframe tbody tr th:only-of-type {\n",
       "        vertical-align: middle;\n",
       "    }\n",
       "\n",
       "    .dataframe tbody tr th {\n",
       "        vertical-align: top;\n",
       "    }\n",
       "\n",
       "    .dataframe thead th {\n",
       "        text-align: right;\n",
       "    }\n",
       "</style>\n",
       "<table border=\"1\" class=\"dataframe\">\n",
       "  <thead>\n",
       "    <tr style=\"text-align: right;\">\n",
       "      <th></th>\n",
       "      <th>Provincia</th>\n",
       "      <th>Ventas 2018</th>\n",
       "      <th>Tickets 2018</th>\n",
       "      <th>Antiguedad_sin_hora</th>\n",
       "      <th>Grupo_encoded</th>\n",
       "      <th>cluster</th>\n",
       "    </tr>\n",
       "  </thead>\n",
       "  <tbody>\n",
       "    <tr>\n",
       "      <th>count</th>\n",
       "      <td>1351.000000</td>\n",
       "      <td>1351.000000</td>\n",
       "      <td>1351.000000</td>\n",
       "      <td>1351.000000</td>\n",
       "      <td>1351.000000</td>\n",
       "      <td>1351.0</td>\n",
       "    </tr>\n",
       "    <tr>\n",
       "      <th>mean</th>\n",
       "      <td>23.897853</td>\n",
       "      <td>29748.292243</td>\n",
       "      <td>167.262028</td>\n",
       "      <td>4490.606958</td>\n",
       "      <td>4.652850</td>\n",
       "      <td>2.0</td>\n",
       "    </tr>\n",
       "    <tr>\n",
       "      <th>std</th>\n",
       "      <td>10.395366</td>\n",
       "      <td>9836.077718</td>\n",
       "      <td>87.219150</td>\n",
       "      <td>1208.961340</td>\n",
       "      <td>1.766391</td>\n",
       "      <td>0.0</td>\n",
       "    </tr>\n",
       "    <tr>\n",
       "      <th>min</th>\n",
       "      <td>0.000000</td>\n",
       "      <td>4387.690000</td>\n",
       "      <td>22.000000</td>\n",
       "      <td>3289.000000</td>\n",
       "      <td>0.000000</td>\n",
       "      <td>2.0</td>\n",
       "    </tr>\n",
       "    <tr>\n",
       "      <th>25%</th>\n",
       "      <td>14.000000</td>\n",
       "      <td>22898.561800</td>\n",
       "      <td>106.000000</td>\n",
       "      <td>3292.000000</td>\n",
       "      <td>3.000000</td>\n",
       "      <td>2.0</td>\n",
       "    </tr>\n",
       "    <tr>\n",
       "      <th>50%</th>\n",
       "      <td>29.000000</td>\n",
       "      <td>28139.690700</td>\n",
       "      <td>147.000000</td>\n",
       "      <td>4114.000000</td>\n",
       "      <td>6.000000</td>\n",
       "      <td>2.0</td>\n",
       "    </tr>\n",
       "    <tr>\n",
       "      <th>75%</th>\n",
       "      <td>29.000000</td>\n",
       "      <td>35135.699900</td>\n",
       "      <td>209.500000</td>\n",
       "      <td>5693.500000</td>\n",
       "      <td>6.000000</td>\n",
       "      <td>2.0</td>\n",
       "    </tr>\n",
       "    <tr>\n",
       "      <th>max</th>\n",
       "      <td>99.000000</td>\n",
       "      <td>79042.658900</td>\n",
       "      <td>640.000000</td>\n",
       "      <td>6848.000000</td>\n",
       "      <td>6.000000</td>\n",
       "      <td>2.0</td>\n",
       "    </tr>\n",
       "  </tbody>\n",
       "</table>\n",
       "</div>"
      ],
      "text/plain": [
       "         Provincia   Ventas 2018  Tickets 2018  Antiguedad_sin_hora  \\\n",
       "count  1351.000000   1351.000000   1351.000000          1351.000000   \n",
       "mean     23.897853  29748.292243    167.262028          4490.606958   \n",
       "std      10.395366   9836.077718     87.219150          1208.961340   \n",
       "min       0.000000   4387.690000     22.000000          3289.000000   \n",
       "25%      14.000000  22898.561800    106.000000          3292.000000   \n",
       "50%      29.000000  28139.690700    147.000000          4114.000000   \n",
       "75%      29.000000  35135.699900    209.500000          5693.500000   \n",
       "max      99.000000  79042.658900    640.000000          6848.000000   \n",
       "\n",
       "       Grupo_encoded  cluster  \n",
       "count    1351.000000   1351.0  \n",
       "mean        4.652850      2.0  \n",
       "std         1.766391      0.0  \n",
       "min         0.000000      2.0  \n",
       "25%         3.000000      2.0  \n",
       "50%         6.000000      2.0  \n",
       "75%         6.000000      2.0  \n",
       "max         6.000000      2.0  "
      ]
     },
     "execution_count": 173,
     "metadata": {},
     "output_type": "execute_result"
    }
   ],
   "source": [
    "dfKmeans[dfKmeans[\"cluster\"] ==2].describe()"
   ]
  },
  {
   "cell_type": "code",
   "execution_count": 174,
   "id": "b9a926c4",
   "metadata": {},
   "outputs": [
    {
     "data": {
      "text/html": [
       "<div>\n",
       "<style scoped>\n",
       "    .dataframe tbody tr th:only-of-type {\n",
       "        vertical-align: middle;\n",
       "    }\n",
       "\n",
       "    .dataframe tbody tr th {\n",
       "        vertical-align: top;\n",
       "    }\n",
       "\n",
       "    .dataframe thead th {\n",
       "        text-align: right;\n",
       "    }\n",
       "</style>\n",
       "<table border=\"1\" class=\"dataframe\">\n",
       "  <thead>\n",
       "    <tr style=\"text-align: right;\">\n",
       "      <th></th>\n",
       "      <th>Provincia</th>\n",
       "      <th>Ventas 2018</th>\n",
       "      <th>Tickets 2018</th>\n",
       "      <th>Antiguedad_sin_hora</th>\n",
       "      <th>Grupo_encoded</th>\n",
       "      <th>cluster</th>\n",
       "    </tr>\n",
       "  </thead>\n",
       "  <tbody>\n",
       "    <tr>\n",
       "      <th>count</th>\n",
       "      <td>4773.000000</td>\n",
       "      <td>4773.00000</td>\n",
       "      <td>4773.000000</td>\n",
       "      <td>4773.000000</td>\n",
       "      <td>4773.00000</td>\n",
       "      <td>4773.0</td>\n",
       "    </tr>\n",
       "    <tr>\n",
       "      <th>mean</th>\n",
       "      <td>23.896501</td>\n",
       "      <td>11942.55542</td>\n",
       "      <td>85.272575</td>\n",
       "      <td>4719.166352</td>\n",
       "      <td>3.98282</td>\n",
       "      <td>3.0</td>\n",
       "    </tr>\n",
       "    <tr>\n",
       "      <th>std</th>\n",
       "      <td>10.539898</td>\n",
       "      <td>4830.85828</td>\n",
       "      <td>54.753858</td>\n",
       "      <td>1251.007999</td>\n",
       "      <td>1.59056</td>\n",
       "      <td>0.0</td>\n",
       "    </tr>\n",
       "    <tr>\n",
       "      <th>min</th>\n",
       "      <td>0.000000</td>\n",
       "      <td>990.01200</td>\n",
       "      <td>1.000000</td>\n",
       "      <td>3289.000000</td>\n",
       "      <td>0.00000</td>\n",
       "      <td>3.0</td>\n",
       "    </tr>\n",
       "    <tr>\n",
       "      <th>25%</th>\n",
       "      <td>14.000000</td>\n",
       "      <td>8332.39300</td>\n",
       "      <td>51.000000</td>\n",
       "      <td>3301.000000</td>\n",
       "      <td>3.00000</td>\n",
       "      <td>3.0</td>\n",
       "    </tr>\n",
       "    <tr>\n",
       "      <th>50%</th>\n",
       "      <td>23.000000</td>\n",
       "      <td>10946.00810</td>\n",
       "      <td>70.000000</td>\n",
       "      <td>4716.000000</td>\n",
       "      <td>3.00000</td>\n",
       "      <td>3.0</td>\n",
       "    </tr>\n",
       "    <tr>\n",
       "      <th>75%</th>\n",
       "      <td>29.000000</td>\n",
       "      <td>14705.93000</td>\n",
       "      <td>104.000000</td>\n",
       "      <td>5904.000000</td>\n",
       "      <td>6.00000</td>\n",
       "      <td>3.0</td>\n",
       "    </tr>\n",
       "    <tr>\n",
       "      <th>max</th>\n",
       "      <td>99.000000</td>\n",
       "      <td>35486.51550</td>\n",
       "      <td>617.000000</td>\n",
       "      <td>6915.000000</td>\n",
       "      <td>6.00000</td>\n",
       "      <td>3.0</td>\n",
       "    </tr>\n",
       "  </tbody>\n",
       "</table>\n",
       "</div>"
      ],
      "text/plain": [
       "         Provincia  Ventas 2018  Tickets 2018  Antiguedad_sin_hora  \\\n",
       "count  4773.000000   4773.00000   4773.000000          4773.000000   \n",
       "mean     23.896501  11942.55542     85.272575          4719.166352   \n",
       "std      10.539898   4830.85828     54.753858          1251.007999   \n",
       "min       0.000000    990.01200      1.000000          3289.000000   \n",
       "25%      14.000000   8332.39300     51.000000          3301.000000   \n",
       "50%      23.000000  10946.00810     70.000000          4716.000000   \n",
       "75%      29.000000  14705.93000    104.000000          5904.000000   \n",
       "max      99.000000  35486.51550    617.000000          6915.000000   \n",
       "\n",
       "       Grupo_encoded  cluster  \n",
       "count     4773.00000   4773.0  \n",
       "mean         3.98282      3.0  \n",
       "std          1.59056      0.0  \n",
       "min          0.00000      3.0  \n",
       "25%          3.00000      3.0  \n",
       "50%          3.00000      3.0  \n",
       "75%          6.00000      3.0  \n",
       "max          6.00000      3.0  "
      ]
     },
     "execution_count": 174,
     "metadata": {},
     "output_type": "execute_result"
    }
   ],
   "source": [
    "dfKmeans[dfKmeans[\"cluster\"] ==3].describe()"
   ]
  },
  {
   "cell_type": "code",
   "execution_count": 175,
   "id": "13accf8d",
   "metadata": {},
   "outputs": [
    {
     "data": {
      "text/html": [
       "<div>\n",
       "<style scoped>\n",
       "    .dataframe tbody tr th:only-of-type {\n",
       "        vertical-align: middle;\n",
       "    }\n",
       "\n",
       "    .dataframe tbody tr th {\n",
       "        vertical-align: top;\n",
       "    }\n",
       "\n",
       "    .dataframe thead th {\n",
       "        text-align: right;\n",
       "    }\n",
       "</style>\n",
       "<table border=\"1\" class=\"dataframe\">\n",
       "  <thead>\n",
       "    <tr style=\"text-align: right;\">\n",
       "      <th></th>\n",
       "      <th>Provincia</th>\n",
       "      <th>Ventas 2018</th>\n",
       "      <th>Tickets 2018</th>\n",
       "      <th>Antiguedad_sin_hora</th>\n",
       "      <th>Grupo_encoded</th>\n",
       "      <th>cluster</th>\n",
       "    </tr>\n",
       "  </thead>\n",
       "  <tbody>\n",
       "    <tr>\n",
       "      <th>count</th>\n",
       "      <td>33.000000</td>\n",
       "      <td>33.000000</td>\n",
       "      <td>33.000000</td>\n",
       "      <td>33.000000</td>\n",
       "      <td>33.000000</td>\n",
       "      <td>33.0</td>\n",
       "    </tr>\n",
       "    <tr>\n",
       "      <th>mean</th>\n",
       "      <td>21.303030</td>\n",
       "      <td>159452.312633</td>\n",
       "      <td>612.242424</td>\n",
       "      <td>4412.303030</td>\n",
       "      <td>4.575758</td>\n",
       "      <td>4.0</td>\n",
       "    </tr>\n",
       "    <tr>\n",
       "      <th>std</th>\n",
       "      <td>9.537704</td>\n",
       "      <td>46971.416025</td>\n",
       "      <td>514.850951</td>\n",
       "      <td>1190.507336</td>\n",
       "      <td>2.487849</td>\n",
       "      <td>0.0</td>\n",
       "    </tr>\n",
       "    <tr>\n",
       "      <th>min</th>\n",
       "      <td>4.000000</td>\n",
       "      <td>88353.366400</td>\n",
       "      <td>194.000000</td>\n",
       "      <td>3289.000000</td>\n",
       "      <td>0.000000</td>\n",
       "      <td>4.0</td>\n",
       "    </tr>\n",
       "    <tr>\n",
       "      <th>25%</th>\n",
       "      <td>11.000000</td>\n",
       "      <td>130788.491200</td>\n",
       "      <td>388.000000</td>\n",
       "      <td>3290.000000</td>\n",
       "      <td>4.000000</td>\n",
       "      <td>4.0</td>\n",
       "    </tr>\n",
       "    <tr>\n",
       "      <th>50%</th>\n",
       "      <td>23.000000</td>\n",
       "      <td>145159.495600</td>\n",
       "      <td>476.000000</td>\n",
       "      <td>4062.000000</td>\n",
       "      <td>6.000000</td>\n",
       "      <td>4.0</td>\n",
       "    </tr>\n",
       "    <tr>\n",
       "      <th>75%</th>\n",
       "      <td>29.000000</td>\n",
       "      <td>193167.143500</td>\n",
       "      <td>603.000000</td>\n",
       "      <td>5278.000000</td>\n",
       "      <td>6.000000</td>\n",
       "      <td>4.0</td>\n",
       "    </tr>\n",
       "    <tr>\n",
       "      <th>max</th>\n",
       "      <td>41.000000</td>\n",
       "      <td>286945.168300</td>\n",
       "      <td>2487.000000</td>\n",
       "      <td>6515.000000</td>\n",
       "      <td>6.000000</td>\n",
       "      <td>4.0</td>\n",
       "    </tr>\n",
       "  </tbody>\n",
       "</table>\n",
       "</div>"
      ],
      "text/plain": [
       "       Provincia    Ventas 2018  Tickets 2018  Antiguedad_sin_hora  \\\n",
       "count  33.000000      33.000000     33.000000            33.000000   \n",
       "mean   21.303030  159452.312633    612.242424          4412.303030   \n",
       "std     9.537704   46971.416025    514.850951          1190.507336   \n",
       "min     4.000000   88353.366400    194.000000          3289.000000   \n",
       "25%    11.000000  130788.491200    388.000000          3290.000000   \n",
       "50%    23.000000  145159.495600    476.000000          4062.000000   \n",
       "75%    29.000000  193167.143500    603.000000          5278.000000   \n",
       "max    41.000000  286945.168300   2487.000000          6515.000000   \n",
       "\n",
       "       Grupo_encoded  cluster  \n",
       "count      33.000000     33.0  \n",
       "mean        4.575758      4.0  \n",
       "std         2.487849      0.0  \n",
       "min         0.000000      4.0  \n",
       "25%         4.000000      4.0  \n",
       "50%         6.000000      4.0  \n",
       "75%         6.000000      4.0  \n",
       "max         6.000000      4.0  "
      ]
     },
     "execution_count": 175,
     "metadata": {},
     "output_type": "execute_result"
    }
   ],
   "source": [
    "dfKmeans[dfKmeans[\"cluster\"] ==4].describe()"
   ]
  },
  {
   "cell_type": "code",
   "execution_count": 177,
   "id": "9e9b59b5",
   "metadata": {},
   "outputs": [
    {
     "data": {
      "text/html": [
       "<div>\n",
       "<style scoped>\n",
       "    .dataframe tbody tr th:only-of-type {\n",
       "        vertical-align: middle;\n",
       "    }\n",
       "\n",
       "    .dataframe tbody tr th {\n",
       "        vertical-align: top;\n",
       "    }\n",
       "\n",
       "    .dataframe thead th {\n",
       "        text-align: right;\n",
       "    }\n",
       "</style>\n",
       "<table border=\"1\" class=\"dataframe\">\n",
       "  <thead>\n",
       "    <tr style=\"text-align: right;\">\n",
       "      <th></th>\n",
       "      <th>Provincia</th>\n",
       "      <th>Ventas 2018</th>\n",
       "      <th>Tickets 2018</th>\n",
       "      <th>Antiguedad_sin_hora</th>\n",
       "      <th>Grupo_encoded</th>\n",
       "      <th>cluster</th>\n",
       "    </tr>\n",
       "  </thead>\n",
       "  <tbody>\n",
       "    <tr>\n",
       "      <th>count</th>\n",
       "      <td>26294.000000</td>\n",
       "      <td>26294.000000</td>\n",
       "      <td>26294.000000</td>\n",
       "      <td>26294.000000</td>\n",
       "      <td>26294.000000</td>\n",
       "      <td>26294.0</td>\n",
       "    </tr>\n",
       "    <tr>\n",
       "      <th>mean</th>\n",
       "      <td>23.081425</td>\n",
       "      <td>1489.378648</td>\n",
       "      <td>19.253328</td>\n",
       "      <td>4830.180535</td>\n",
       "      <td>3.982125</td>\n",
       "      <td>0.0</td>\n",
       "    </tr>\n",
       "    <tr>\n",
       "      <th>std</th>\n",
       "      <td>10.618507</td>\n",
       "      <td>1687.681309</td>\n",
       "      <td>28.760597</td>\n",
       "      <td>1260.972236</td>\n",
       "      <td>1.460175</td>\n",
       "      <td>0.0</td>\n",
       "    </tr>\n",
       "    <tr>\n",
       "      <th>min</th>\n",
       "      <td>0.000000</td>\n",
       "      <td>-2932.611900</td>\n",
       "      <td>1.000000</td>\n",
       "      <td>3289.000000</td>\n",
       "      <td>0.000000</td>\n",
       "      <td>0.0</td>\n",
       "    </tr>\n",
       "    <tr>\n",
       "      <th>25%</th>\n",
       "      <td>14.000000</td>\n",
       "      <td>216.354250</td>\n",
       "      <td>3.000000</td>\n",
       "      <td>3428.000000</td>\n",
       "      <td>3.000000</td>\n",
       "      <td>0.0</td>\n",
       "    </tr>\n",
       "    <tr>\n",
       "      <th>50%</th>\n",
       "      <td>23.000000</td>\n",
       "      <td>828.388000</td>\n",
       "      <td>10.000000</td>\n",
       "      <td>4774.000000</td>\n",
       "      <td>4.000000</td>\n",
       "      <td>0.0</td>\n",
       "    </tr>\n",
       "    <tr>\n",
       "      <th>75%</th>\n",
       "      <td>29.000000</td>\n",
       "      <td>2209.607025</td>\n",
       "      <td>25.000000</td>\n",
       "      <td>5997.000000</td>\n",
       "      <td>5.000000</td>\n",
       "      <td>0.0</td>\n",
       "    </tr>\n",
       "    <tr>\n",
       "      <th>max</th>\n",
       "      <td>99.000000</td>\n",
       "      <td>9703.411300</td>\n",
       "      <td>661.000000</td>\n",
       "      <td>6939.000000</td>\n",
       "      <td>6.000000</td>\n",
       "      <td>0.0</td>\n",
       "    </tr>\n",
       "  </tbody>\n",
       "</table>\n",
       "</div>"
      ],
      "text/plain": [
       "          Provincia   Ventas 2018  Tickets 2018  Antiguedad_sin_hora  \\\n",
       "count  26294.000000  26294.000000  26294.000000         26294.000000   \n",
       "mean      23.081425   1489.378648     19.253328          4830.180535   \n",
       "std       10.618507   1687.681309     28.760597          1260.972236   \n",
       "min        0.000000  -2932.611900      1.000000          3289.000000   \n",
       "25%       14.000000    216.354250      3.000000          3428.000000   \n",
       "50%       23.000000    828.388000     10.000000          4774.000000   \n",
       "75%       29.000000   2209.607025     25.000000          5997.000000   \n",
       "max       99.000000   9703.411300    661.000000          6939.000000   \n",
       "\n",
       "       Grupo_encoded  cluster  \n",
       "count   26294.000000  26294.0  \n",
       "mean        3.982125      0.0  \n",
       "std         1.460175      0.0  \n",
       "min         0.000000      0.0  \n",
       "25%         3.000000      0.0  \n",
       "50%         4.000000      0.0  \n",
       "75%         5.000000      0.0  \n",
       "max         6.000000      0.0  "
      ]
     },
     "execution_count": 177,
     "metadata": {},
     "output_type": "execute_result"
    }
   ],
   "source": [
    "dfKmeans[dfKmeans[\"cluster\"] ==0].describe()"
   ]
  },
  {
   "cell_type": "code",
   "execution_count": null,
   "id": "e4f9bfe3",
   "metadata": {},
   "outputs": [],
   "source": []
  },
  {
   "cell_type": "code",
   "execution_count": null,
   "id": "a1ea9961",
   "metadata": {},
   "outputs": [],
   "source": []
  },
  {
   "cell_type": "code",
   "execution_count": null,
   "id": "1759ff56",
   "metadata": {},
   "outputs": [],
   "source": []
  },
  {
   "cell_type": "code",
   "execution_count": null,
   "id": "b222a3cd",
   "metadata": {},
   "outputs": [],
   "source": []
  },
  {
   "cell_type": "code",
   "execution_count": null,
   "id": "b2a1c25a",
   "metadata": {},
   "outputs": [],
   "source": []
  },
  {
   "cell_type": "code",
   "execution_count": null,
   "id": "59015fee",
   "metadata": {},
   "outputs": [],
   "source": []
  },
  {
   "cell_type": "code",
   "execution_count": null,
   "id": "0f2c060a",
   "metadata": {},
   "outputs": [],
   "source": []
  },
  {
   "cell_type": "code",
   "execution_count": null,
   "id": "a34425e0",
   "metadata": {},
   "outputs": [],
   "source": []
  },
  {
   "cell_type": "code",
   "execution_count": null,
   "id": "be65ba7c",
   "metadata": {},
   "outputs": [],
   "source": []
  },
  {
   "cell_type": "code",
   "execution_count": 18,
   "id": "42164f8b",
   "metadata": {},
   "outputs": [],
   "source": [
    "####################################################################################\n",
    "####################################################################################\n",
    "####################################################################################\n",
    "####################################################################################\n",
    "####################################################################################\n",
    "####################################################################################\n",
    "####################################################################################\n",
    "####################################################################################\n"
   ]
  },
  {
   "cell_type": "code",
   "execution_count": 19,
   "id": "bccf90a8",
   "metadata": {},
   "outputs": [],
   "source": [
    "##################### En sucio clase ###############################"
   ]
  },
  {
   "cell_type": "code",
   "execution_count": 20,
   "id": "d934bc63",
   "metadata": {},
   "outputs": [],
   "source": [
    "df2018 = ventas[[\"IdCliente\",\"Provincia\",\"Grupo\",\"Ventas 2018\", \"Unidades 2018\",\"Tickets 2018\"]] "
   ]
  },
  {
   "cell_type": "code",
   "execution_count": 21,
   "id": "a4ac0fcb",
   "metadata": {},
   "outputs": [],
   "source": [
    "copia = df2018"
   ]
  },
  {
   "cell_type": "code",
   "execution_count": null,
   "id": "29051d5a",
   "metadata": {},
   "outputs": [],
   "source": []
  },
  {
   "cell_type": "code",
   "execution_count": 22,
   "id": "6180276d",
   "metadata": {},
   "outputs": [
    {
     "name": "stdout",
     "output_type": "stream",
     "text": [
      "{'Tienda/Supermercado de Alimentacion', 'Particulares', 'Empleados ', 'Distribuidor', 'Horeca (Bares, Restaurante, Cafet.)', 'Drogueria', nan, 'Otros'}\n"
     ]
    }
   ],
   "source": [
    "#df2018[\"Grupo\"]\n",
    "vacio = []\n",
    "for x in df2018[\"Grupo\"]:\n",
    "    vacio.append(x)\n",
    "    \n",
    "aa = set(vacio)\n",
    "print(aa)\n",
    "    \n",
    "\n"
   ]
  },
  {
   "cell_type": "code",
   "execution_count": 23,
   "id": "61101f77",
   "metadata": {},
   "outputs": [
    {
     "name": "stderr",
     "output_type": "stream",
     "text": [
      "/var/folders/37/x57w4bp561x9sj71bs9nmw0w0000gn/T/ipykernel_73773/3985563425.py:3: SettingWithCopyWarning: \n",
      "A value is trying to be set on a copy of a slice from a DataFrame.\n",
      "Try using .loc[row_indexer,col_indexer] = value instead\n",
      "\n",
      "See the caveats in the documentation: https://pandas.pydata.org/pandas-docs/stable/user_guide/indexing.html#returning-a-view-versus-a-copy\n",
      "  df2018[\"Grupo\"] = df2018[\"Grupo\"].replace(\"Horeca (Bares, Restaurante, Cafet.)\",0 ) \\\n"
     ]
    }
   ],
   "source": [
    "import numpy as np\n",
    "\n",
    "df2018[\"Grupo\"] = df2018[\"Grupo\"].replace(\"Horeca (Bares, Restaurante, Cafet.)\",0 ) \\\n",
    "                    .replace(\"Empleados \", 1) \\\n",
    "                    .replace(\"Distribuidor\",2 ) \\\n",
    "                    .replace(\"Drogueria\", 3) \\\n",
    "                    .replace(\"Tienda/Supermercado de Alimentacion\", 4 ) \\\n",
    "                    .replace(\"Otros\",5 ) \\\n",
    "                    .replace(\"Particulares\",6 ) \\\n",
    "                    .replace(np.nan, 7) \n"
   ]
  },
  {
   "cell_type": "code",
   "execution_count": 24,
   "id": "4fb738b0",
   "metadata": {},
   "outputs": [
    {
     "name": "stdout",
     "output_type": "stream",
     "text": [
      "{0.0, 1.0, 2.0, 3.0, 4.0, 5.0, 6.0, 7.0}\n"
     ]
    }
   ],
   "source": [
    "vacio = []\n",
    "for x in df2018[\"Grupo\"]:\n",
    "    vacio.append(x)\n",
    "    \n",
    "aa = set(vacio)\n",
    "print(aa)\n",
    "    "
   ]
  },
  {
   "cell_type": "code",
   "execution_count": 25,
   "id": "eb4d84ca",
   "metadata": {},
   "outputs": [],
   "source": [
    "copia2 = df2018"
   ]
  },
  {
   "cell_type": "code",
   "execution_count": 26,
   "id": "f3fca2b3",
   "metadata": {},
   "outputs": [],
   "source": [
    "df2018 = df2018.drop(\"IdCliente\", axis= 1)"
   ]
  },
  {
   "cell_type": "code",
   "execution_count": 27,
   "id": "30a14231",
   "metadata": {},
   "outputs": [],
   "source": [
    "\n",
    "df2018[\"Provincia\"] = pd.to_numeric(df2018[\"Provincia\"], errors=\"coerce\")\n",
    "\n",
    "df2018 = df2018.dropna(subset=[\"Provincia\"])\n"
   ]
  },
  {
   "cell_type": "code",
   "execution_count": 28,
   "id": "fb31ba58",
   "metadata": {},
   "outputs": [],
   "source": [
    "#df2018[\"Grupo\"]\n",
    "vacio = []\n",
    "for x in df2018[\"Ventas 2018\"]:\n",
    "    vacio.append(x)\n",
    "    \n",
    "a2 = set(vacio)\n",
    "#print(a2)\n",
    "\n",
    "\n",
    "    "
   ]
  },
  {
   "cell_type": "code",
   "execution_count": 29,
   "id": "03c2e1f0",
   "metadata": {},
   "outputs": [],
   "source": [
    "df2018Escalado = scale(df2018)"
   ]
  },
  {
   "cell_type": "code",
   "execution_count": 30,
   "id": "97814722",
   "metadata": {},
   "outputs": [
    {
     "name": "stderr",
     "output_type": "stream",
     "text": [
      "/Users/rushabhpatel/anaconda3/lib/python3.11/site-packages/sklearn/cluster/_kmeans.py:1412: FutureWarning: The default value of `n_init` will change from 10 to 'auto' in 1.4. Set the value of `n_init` explicitly to suppress the warning\n",
      "  super()._check_params_vs_input(X, default_n_init=10)\n",
      "/Users/rushabhpatel/anaconda3/lib/python3.11/site-packages/sklearn/cluster/_kmeans.py:1412: FutureWarning: The default value of `n_init` will change from 10 to 'auto' in 1.4. Set the value of `n_init` explicitly to suppress the warning\n",
      "  super()._check_params_vs_input(X, default_n_init=10)\n",
      "/Users/rushabhpatel/anaconda3/lib/python3.11/site-packages/sklearn/cluster/_kmeans.py:1412: FutureWarning: The default value of `n_init` will change from 10 to 'auto' in 1.4. Set the value of `n_init` explicitly to suppress the warning\n",
      "  super()._check_params_vs_input(X, default_n_init=10)\n",
      "/Users/rushabhpatel/anaconda3/lib/python3.11/site-packages/sklearn/cluster/_kmeans.py:1412: FutureWarning: The default value of `n_init` will change from 10 to 'auto' in 1.4. Set the value of `n_init` explicitly to suppress the warning\n",
      "  super()._check_params_vs_input(X, default_n_init=10)\n",
      "/Users/rushabhpatel/anaconda3/lib/python3.11/site-packages/sklearn/cluster/_kmeans.py:1412: FutureWarning: The default value of `n_init` will change from 10 to 'auto' in 1.4. Set the value of `n_init` explicitly to suppress the warning\n",
      "  super()._check_params_vs_input(X, default_n_init=10)\n",
      "/Users/rushabhpatel/anaconda3/lib/python3.11/site-packages/sklearn/cluster/_kmeans.py:1412: FutureWarning: The default value of `n_init` will change from 10 to 'auto' in 1.4. Set the value of `n_init` explicitly to suppress the warning\n",
      "  super()._check_params_vs_input(X, default_n_init=10)\n",
      "/Users/rushabhpatel/anaconda3/lib/python3.11/site-packages/sklearn/cluster/_kmeans.py:1412: FutureWarning: The default value of `n_init` will change from 10 to 'auto' in 1.4. Set the value of `n_init` explicitly to suppress the warning\n",
      "  super()._check_params_vs_input(X, default_n_init=10)\n",
      "/Users/rushabhpatel/anaconda3/lib/python3.11/site-packages/sklearn/cluster/_kmeans.py:1412: FutureWarning: The default value of `n_init` will change from 10 to 'auto' in 1.4. Set the value of `n_init` explicitly to suppress the warning\n",
      "  super()._check_params_vs_input(X, default_n_init=10)\n",
      "/Users/rushabhpatel/anaconda3/lib/python3.11/site-packages/sklearn/cluster/_kmeans.py:1412: FutureWarning: The default value of `n_init` will change from 10 to 'auto' in 1.4. Set the value of `n_init` explicitly to suppress the warning\n",
      "  super()._check_params_vs_input(X, default_n_init=10)\n",
      "/Users/rushabhpatel/anaconda3/lib/python3.11/site-packages/sklearn/cluster/_kmeans.py:1412: FutureWarning: The default value of `n_init` will change from 10 to 'auto' in 1.4. Set the value of `n_init` explicitly to suppress the warning\n",
      "  super()._check_params_vs_input(X, default_n_init=10)\n",
      "/Users/rushabhpatel/anaconda3/lib/python3.11/site-packages/sklearn/cluster/_kmeans.py:1412: FutureWarning: The default value of `n_init` will change from 10 to 'auto' in 1.4. Set the value of `n_init` explicitly to suppress the warning\n",
      "  super()._check_params_vs_input(X, default_n_init=10)\n",
      "/Users/rushabhpatel/anaconda3/lib/python3.11/site-packages/sklearn/cluster/_kmeans.py:1412: FutureWarning: The default value of `n_init` will change from 10 to 'auto' in 1.4. Set the value of `n_init` explicitly to suppress the warning\n",
      "  super()._check_params_vs_input(X, default_n_init=10)\n",
      "/Users/rushabhpatel/anaconda3/lib/python3.11/site-packages/sklearn/cluster/_kmeans.py:1412: FutureWarning: The default value of `n_init` will change from 10 to 'auto' in 1.4. Set the value of `n_init` explicitly to suppress the warning\n",
      "  super()._check_params_vs_input(X, default_n_init=10)\n",
      "/Users/rushabhpatel/anaconda3/lib/python3.11/site-packages/sklearn/cluster/_kmeans.py:1412: FutureWarning: The default value of `n_init` will change from 10 to 'auto' in 1.4. Set the value of `n_init` explicitly to suppress the warning\n",
      "  super()._check_params_vs_input(X, default_n_init=10)\n"
     ]
    },
    {
     "data": {
      "text/plain": [
       "[<matplotlib.lines.Line2D at 0x12b7201d0>]"
      ]
     },
     "execution_count": 30,
     "metadata": {},
     "output_type": "execute_result"
    },
    {
     "data": {
      "image/png": "[encoded data removed]",
      "text/plain": [
       "<Figure size 640x480 with 1 Axes>"
      ]
     },
     "metadata": {},
     "output_type": "display_data"
    }
   ],
   "source": [
    "K = range(1,15)\n",
    "inercia = []\n",
    "for k in K:\n",
    "    kmeanModel = KMeans(n_clusters=k)\n",
    "    kmeanModel.fit(df2018Escalado)\n",
    "    inercia.append(kmeanModel.inertia_)\n",
    "plt.plot(inercia)"
   ]
  },
  {
   "cell_type": "code",
   "execution_count": 31,
   "id": "079c154d",
   "metadata": {},
   "outputs": [
    {
     "name": "stderr",
     "output_type": "stream",
     "text": [
      "/Users/rushabhpatel/anaconda3/lib/python3.11/site-packages/sklearn/cluster/_kmeans.py:1412: FutureWarning: The default value of `n_init` will change from 10 to 'auto' in 1.4. Set the value of `n_init` explicitly to suppress the warning\n",
      "  super()._check_params_vs_input(X, default_n_init=10)\n"
     ]
    },
    {
     "data": {
      "text/html": [
       "<style>#sk-container-id-1 {color: black;}#sk-container-id-1 pre{padding: 0;}#sk-container-id-1 div.sk-toggleable {background-color: white;}#sk-container-id-1 label.sk-toggleable__label {cursor: pointer;display: block;width: 100%;margin-bottom: 0;padding: 0.3em;box-sizing: border-box;text-align: center;}#sk-container-id-1 label.sk-toggleable__label-arrow:before {content: \"▸\";float: left;margin-right: 0.25em;color: #696969;}#sk-container-id-1 label.sk-toggleable__label-arrow:hover:before {color: black;}#sk-container-id-1 div.sk-estimator:hover label.sk-toggleable__label-arrow:before {color: black;}#sk-container-id-1 div.sk-toggleable__content {max-height: 0;max-width: 0;overflow: hidden;text-align: left;background-color: #f0f8ff;}#sk-container-id-1 div.sk-toggleable__content pre {margin: 0.2em;color: black;border-radius: 0.25em;background-color: #f0f8ff;}#sk-container-id-1 input.sk-toggleable__control:checked~div.sk-toggleable__content {max-height: 200px;max-width: 100%;overflow: auto;}#sk-container-id-1 input.sk-toggleable__control:checked~label.sk-toggleable__label-arrow:before {content: \"▾\";}#sk-container-id-1 div.sk-estimator input.sk-toggleable__control:checked~label.sk-toggleable__label {background-color: #d4ebff;}#sk-container-id-1 div.sk-label input.sk-toggleable__control:checked~label.sk-toggleable__label {background-color: #d4ebff;}#sk-container-id-1 input.sk-hidden--visually {border: 0;clip: rect(1px 1px 1px 1px);clip: rect(1px, 1px, 1px, 1px);height: 1px;margin: -1px;overflow: hidden;padding: 0;position: absolute;width: 1px;}#sk-container-id-1 div.sk-estimator {font-family: monospace;background-color: #f0f8ff;border: 1px dotted black;border-radius: 0.25em;box-sizing: border-box;margin-bottom: 0.5em;}#sk-container-id-1 div.sk-estimator:hover {background-color: #d4ebff;}#sk-container-id-1 div.sk-parallel-item::after {content: \"\";width: 100%;border-bottom: 1px solid gray;flex-grow: 1;}#sk-container-id-1 div.sk-label:hover label.sk-toggleable__label {background-color: #d4ebff;}#sk-container-id-1 div.sk-serial::before {content: \"\";position: absolute;border-left: 1px solid gray;box-sizing: border-box;top: 0;bottom: 0;left: 50%;z-index: 0;}#sk-container-id-1 div.sk-serial {display: flex;flex-direction: column;align-items: center;background-color: white;padding-right: 0.2em;padding-left: 0.2em;position: relative;}#sk-container-id-1 div.sk-item {position: relative;z-index: 1;}#sk-container-id-1 div.sk-parallel {display: flex;align-items: stretch;justify-content: center;background-color: white;position: relative;}#sk-container-id-1 div.sk-item::before, #sk-container-id-1 div.sk-parallel-item::before {content: \"\";position: absolute;border-left: 1px solid gray;box-sizing: border-box;top: 0;bottom: 0;left: 50%;z-index: -1;}#sk-container-id-1 div.sk-parallel-item {display: flex;flex-direction: column;z-index: 1;position: relative;background-color: white;}#sk-container-id-1 div.sk-parallel-item:first-child::after {align-self: flex-end;width: 50%;}#sk-container-id-1 div.sk-parallel-item:last-child::after {align-self: flex-start;width: 50%;}#sk-container-id-1 div.sk-parallel-item:only-child::after {width: 0;}#sk-container-id-1 div.sk-dashed-wrapped {border: 1px dashed gray;margin: 0 0.4em 0.5em 0.4em;box-sizing: border-box;padding-bottom: 0.4em;background-color: white;}#sk-container-id-1 div.sk-label label {font-family: monospace;font-weight: bold;display: inline-block;line-height: 1.2em;}#sk-container-id-1 div.sk-label-container {text-align: center;}#sk-container-id-1 div.sk-container {/* jupyter's `normalize.less` sets `[hidden] { display: none; }` but bootstrap.min.css set `[hidden] { display: none !important; }` so we also need the `!important` here to be able to override the default hidden behavior on the sphinx rendered scikit-learn.org. See: https://github.com/scikit-learn/scikit-learn/issues/21755 */display: inline-block !important;position: relative;}#sk-container-id-1 div.sk-text-repr-fallback {display: none;}</style><div id=\"sk-container-id-1\" class=\"sk-top-container\"><div class=\"sk-text-repr-fallback\"><pre>KMeans(n_clusters=7)</pre><b>In a Jupyter environment, please rerun this cell to show the HTML representation or trust the notebook. <br />On GitHub, the HTML representation is unable to render, please try loading this page with nbviewer.org.</b></div><div class=\"sk-container\" hidden><div class=\"sk-item\"><div class=\"sk-estimator sk-toggleable\"><input class=\"sk-toggleable__control sk-hidden--visually\" id=\"sk-estimator-id-1\" type=\"checkbox\" checked><label for=\"sk-estimator-id-1\" class=\"sk-toggleable__label sk-toggleable__label-arrow\">KMeans</label><div class=\"sk-toggleable__content\"><pre>KMeans(n_clusters=7)</pre></div></div></div></div></div>"
      ],
      "text/plain": [
       "KMeans(n_clusters=7)"
      ]
     },
     "execution_count": 31,
     "metadata": {},
     "output_type": "execute_result"
    }
   ],
   "source": [
    "km = KMeans(n_clusters = 7)\n",
    "km.fit(df2018Escalado)"
   ]
  },
  {
   "cell_type": "code",
   "execution_count": 32,
   "id": "43c1412e",
   "metadata": {},
   "outputs": [
    {
     "data": {
      "text/plain": [
       "array([4, 4, 3, ..., 2, 2, 2], dtype=int32)"
      ]
     },
     "execution_count": 32,
     "metadata": {},
     "output_type": "execute_result"
    }
   ],
   "source": [
    "km.labels_"
   ]
  },
  {
   "cell_type": "code",
   "execution_count": null,
   "id": "305ed8ec",
   "metadata": {},
   "outputs": [],
   "source": []
  },
  {
   "cell_type": "code",
   "execution_count": 33,
   "id": "5209a363",
   "metadata": {},
   "outputs": [],
   "source": [
    "df2018[\"Ventas 2018\"] = df2018[\"Ventas 2018\"].astype(\"float64\")"
   ]
  },
  {
   "cell_type": "code",
   "execution_count": 34,
   "id": "cf93924e",
   "metadata": {},
   "outputs": [],
   "source": [
    "df2018[\"cluster\"] = km.labels_"
   ]
  },
  {
   "cell_type": "code",
   "execution_count": null,
   "id": "db0171ee",
   "metadata": {},
   "outputs": [],
   "source": []
  },
  {
   "cell_type": "code",
   "execution_count": 35,
   "id": "ff0faca9",
   "metadata": {},
   "outputs": [
    {
     "data": {
      "text/html": [
       "<div>\n",
       "<style scoped>\n",
       "    .dataframe tbody tr th:only-of-type {\n",
       "        vertical-align: middle;\n",
       "    }\n",
       "\n",
       "    .dataframe tbody tr th {\n",
       "        vertical-align: top;\n",
       "    }\n",
       "\n",
       "    .dataframe thead th {\n",
       "        text-align: right;\n",
       "    }\n",
       "</style>\n",
       "<table border=\"1\" class=\"dataframe\">\n",
       "  <thead>\n",
       "    <tr style=\"text-align: right;\">\n",
       "      <th></th>\n",
       "      <th>Provincia</th>\n",
       "      <th>Grupo</th>\n",
       "      <th>Ventas 2018</th>\n",
       "      <th>Unidades 2018</th>\n",
       "      <th>Tickets 2018</th>\n",
       "      <th>cluster</th>\n",
       "    </tr>\n",
       "  </thead>\n",
       "  <tbody>\n",
       "    <tr>\n",
       "      <th>0</th>\n",
       "      <td>29.0</td>\n",
       "      <td>4.0</td>\n",
       "      <td>1525.7880</td>\n",
       "      <td>2213.28</td>\n",
       "      <td>46</td>\n",
       "      <td>4</td>\n",
       "    </tr>\n",
       "    <tr>\n",
       "      <th>1</th>\n",
       "      <td>29.0</td>\n",
       "      <td>7.0</td>\n",
       "      <td>115.8179</td>\n",
       "      <td>82.97</td>\n",
       "      <td>1</td>\n",
       "      <td>4</td>\n",
       "    </tr>\n",
       "    <tr>\n",
       "      <th>2</th>\n",
       "      <td>29.0</td>\n",
       "      <td>4.0</td>\n",
       "      <td>25670.9588</td>\n",
       "      <td>35516.11</td>\n",
       "      <td>236</td>\n",
       "      <td>3</td>\n",
       "    </tr>\n",
       "    <tr>\n",
       "      <th>3</th>\n",
       "      <td>29.0</td>\n",
       "      <td>4.0</td>\n",
       "      <td>39519.3851</td>\n",
       "      <td>42299.2</td>\n",
       "      <td>358</td>\n",
       "      <td>3</td>\n",
       "    </tr>\n",
       "    <tr>\n",
       "      <th>4</th>\n",
       "      <td>29.0</td>\n",
       "      <td>4.0</td>\n",
       "      <td>2555.5218</td>\n",
       "      <td>2587.39</td>\n",
       "      <td>20</td>\n",
       "      <td>4</td>\n",
       "    </tr>\n",
       "    <tr>\n",
       "      <th>...</th>\n",
       "      <td>...</td>\n",
       "      <td>...</td>\n",
       "      <td>...</td>\n",
       "      <td>...</td>\n",
       "      <td>...</td>\n",
       "      <td>...</td>\n",
       "    </tr>\n",
       "    <tr>\n",
       "      <th>38782</th>\n",
       "      <td>4.0</td>\n",
       "      <td>4.0</td>\n",
       "      <td>971.5203</td>\n",
       "      <td>1479.77</td>\n",
       "      <td>12</td>\n",
       "      <td>2</td>\n",
       "    </tr>\n",
       "    <tr>\n",
       "      <th>38783</th>\n",
       "      <td>4.0</td>\n",
       "      <td>0.0</td>\n",
       "      <td>52.2100</td>\n",
       "      <td>22</td>\n",
       "      <td>1</td>\n",
       "      <td>6</td>\n",
       "    </tr>\n",
       "    <tr>\n",
       "      <th>38784</th>\n",
       "      <td>4.0</td>\n",
       "      <td>7.0</td>\n",
       "      <td>53.5920</td>\n",
       "      <td>50</td>\n",
       "      <td>1</td>\n",
       "      <td>2</td>\n",
       "    </tr>\n",
       "    <tr>\n",
       "      <th>38785</th>\n",
       "      <td>18.0</td>\n",
       "      <td>4.0</td>\n",
       "      <td>173.0500</td>\n",
       "      <td>170</td>\n",
       "      <td>1</td>\n",
       "      <td>2</td>\n",
       "    </tr>\n",
       "    <tr>\n",
       "      <th>38786</th>\n",
       "      <td>23.0</td>\n",
       "      <td>5.0</td>\n",
       "      <td>205.5830</td>\n",
       "      <td>252</td>\n",
       "      <td>7</td>\n",
       "      <td>2</td>\n",
       "    </tr>\n",
       "  </tbody>\n",
       "</table>\n",
       "<p>38778 rows × 6 columns</p>\n",
       "</div>"
      ],
      "text/plain": [
       "       Provincia  Grupo  Ventas 2018 Unidades 2018  Tickets 2018  cluster\n",
       "0           29.0    4.0    1525.7880       2213.28            46        4\n",
       "1           29.0    7.0     115.8179         82.97             1        4\n",
       "2           29.0    4.0   25670.9588      35516.11           236        3\n",
       "3           29.0    4.0   39519.3851       42299.2           358        3\n",
       "4           29.0    4.0    2555.5218       2587.39            20        4\n",
       "...          ...    ...          ...           ...           ...      ...\n",
       "38782        4.0    4.0     971.5203       1479.77            12        2\n",
       "38783        4.0    0.0      52.2100            22             1        6\n",
       "38784        4.0    7.0      53.5920            50             1        2\n",
       "38785       18.0    4.0     173.0500           170             1        2\n",
       "38786       23.0    5.0     205.5830           252             7        2\n",
       "\n",
       "[38778 rows x 6 columns]"
      ]
     },
     "execution_count": 35,
     "metadata": {},
     "output_type": "execute_result"
    }
   ],
   "source": [
    "df2018"
   ]
  },
  {
   "cell_type": "code",
   "execution_count": 36,
   "id": "8ac9faf1",
   "metadata": {},
   "outputs": [],
   "source": [
    "df2018[\"Ventas 2018\"] = df2018[\"Ventas 2018\"].astype(\"float64\")"
   ]
  },
  {
   "cell_type": "code",
   "execution_count": 37,
   "id": "451836fc",
   "metadata": {},
   "outputs": [
    {
     "data": {
      "text/html": [
       "<div>\n",
       "<style scoped>\n",
       "    .dataframe tbody tr th:only-of-type {\n",
       "        vertical-align: middle;\n",
       "    }\n",
       "\n",
       "    .dataframe tbody tr th {\n",
       "        vertical-align: top;\n",
       "    }\n",
       "\n",
       "    .dataframe thead th {\n",
       "        text-align: right;\n",
       "    }\n",
       "</style>\n",
       "<table border=\"1\" class=\"dataframe\">\n",
       "  <thead>\n",
       "    <tr style=\"text-align: right;\">\n",
       "      <th></th>\n",
       "      <th>Provincia</th>\n",
       "      <th>Grupo</th>\n",
       "      <th>Ventas 2018</th>\n",
       "      <th>Unidades 2018</th>\n",
       "      <th>Tickets 2018</th>\n",
       "      <th>cluster</th>\n",
       "    </tr>\n",
       "  </thead>\n",
       "  <tbody>\n",
       "    <tr>\n",
       "      <th>0</th>\n",
       "      <td>29.0</td>\n",
       "      <td>4.0</td>\n",
       "      <td>1525.7880</td>\n",
       "      <td>2213.28</td>\n",
       "      <td>46</td>\n",
       "      <td>4</td>\n",
       "    </tr>\n",
       "    <tr>\n",
       "      <th>1</th>\n",
       "      <td>29.0</td>\n",
       "      <td>7.0</td>\n",
       "      <td>115.8179</td>\n",
       "      <td>82.97</td>\n",
       "      <td>1</td>\n",
       "      <td>4</td>\n",
       "    </tr>\n",
       "    <tr>\n",
       "      <th>2</th>\n",
       "      <td>29.0</td>\n",
       "      <td>4.0</td>\n",
       "      <td>25670.9588</td>\n",
       "      <td>35516.11</td>\n",
       "      <td>236</td>\n",
       "      <td>3</td>\n",
       "    </tr>\n",
       "    <tr>\n",
       "      <th>3</th>\n",
       "      <td>29.0</td>\n",
       "      <td>4.0</td>\n",
       "      <td>39519.3851</td>\n",
       "      <td>42299.2</td>\n",
       "      <td>358</td>\n",
       "      <td>3</td>\n",
       "    </tr>\n",
       "    <tr>\n",
       "      <th>4</th>\n",
       "      <td>29.0</td>\n",
       "      <td>4.0</td>\n",
       "      <td>2555.5218</td>\n",
       "      <td>2587.39</td>\n",
       "      <td>20</td>\n",
       "      <td>4</td>\n",
       "    </tr>\n",
       "    <tr>\n",
       "      <th>...</th>\n",
       "      <td>...</td>\n",
       "      <td>...</td>\n",
       "      <td>...</td>\n",
       "      <td>...</td>\n",
       "      <td>...</td>\n",
       "      <td>...</td>\n",
       "    </tr>\n",
       "    <tr>\n",
       "      <th>38782</th>\n",
       "      <td>4.0</td>\n",
       "      <td>4.0</td>\n",
       "      <td>971.5203</td>\n",
       "      <td>1479.77</td>\n",
       "      <td>12</td>\n",
       "      <td>2</td>\n",
       "    </tr>\n",
       "    <tr>\n",
       "      <th>38783</th>\n",
       "      <td>4.0</td>\n",
       "      <td>0.0</td>\n",
       "      <td>52.2100</td>\n",
       "      <td>22</td>\n",
       "      <td>1</td>\n",
       "      <td>6</td>\n",
       "    </tr>\n",
       "    <tr>\n",
       "      <th>38784</th>\n",
       "      <td>4.0</td>\n",
       "      <td>7.0</td>\n",
       "      <td>53.5920</td>\n",
       "      <td>50</td>\n",
       "      <td>1</td>\n",
       "      <td>2</td>\n",
       "    </tr>\n",
       "    <tr>\n",
       "      <th>38785</th>\n",
       "      <td>18.0</td>\n",
       "      <td>4.0</td>\n",
       "      <td>173.0500</td>\n",
       "      <td>170</td>\n",
       "      <td>1</td>\n",
       "      <td>2</td>\n",
       "    </tr>\n",
       "    <tr>\n",
       "      <th>38786</th>\n",
       "      <td>23.0</td>\n",
       "      <td>5.0</td>\n",
       "      <td>205.5830</td>\n",
       "      <td>252</td>\n",
       "      <td>7</td>\n",
       "      <td>2</td>\n",
       "    </tr>\n",
       "  </tbody>\n",
       "</table>\n",
       "<p>38778 rows × 6 columns</p>\n",
       "</div>"
      ],
      "text/plain": [
       "       Provincia  Grupo  Ventas 2018 Unidades 2018  Tickets 2018  cluster\n",
       "0           29.0    4.0    1525.7880       2213.28            46        4\n",
       "1           29.0    7.0     115.8179         82.97             1        4\n",
       "2           29.0    4.0   25670.9588      35516.11           236        3\n",
       "3           29.0    4.0   39519.3851       42299.2           358        3\n",
       "4           29.0    4.0    2555.5218       2587.39            20        4\n",
       "...          ...    ...          ...           ...           ...      ...\n",
       "38782        4.0    4.0     971.5203       1479.77            12        2\n",
       "38783        4.0    0.0      52.2100            22             1        6\n",
       "38784        4.0    7.0      53.5920            50             1        2\n",
       "38785       18.0    4.0     173.0500           170             1        2\n",
       "38786       23.0    5.0     205.5830           252             7        2\n",
       "\n",
       "[38778 rows x 6 columns]"
      ]
     },
     "execution_count": 37,
     "metadata": {},
     "output_type": "execute_result"
    }
   ],
   "source": [
    "df2018"
   ]
  },
  {
   "cell_type": "code",
   "execution_count": 38,
   "id": "17179a71",
   "metadata": {},
   "outputs": [
    {
     "data": {
      "text/html": [
       "<div>\n",
       "<style scoped>\n",
       "    .dataframe tbody tr th:only-of-type {\n",
       "        vertical-align: middle;\n",
       "    }\n",
       "\n",
       "    .dataframe tbody tr th {\n",
       "        vertical-align: top;\n",
       "    }\n",
       "\n",
       "    .dataframe thead th {\n",
       "        text-align: right;\n",
       "    }\n",
       "</style>\n",
       "<table border=\"1\" class=\"dataframe\">\n",
       "  <thead>\n",
       "    <tr style=\"text-align: right;\">\n",
       "      <th></th>\n",
       "      <th>Provincia</th>\n",
       "      <th>Grupo</th>\n",
       "      <th>Ventas 2018</th>\n",
       "      <th>Tickets 2018</th>\n",
       "      <th>cluster</th>\n",
       "    </tr>\n",
       "  </thead>\n",
       "  <tbody>\n",
       "    <tr>\n",
       "      <th>count</th>\n",
       "      <td>150.000000</td>\n",
       "      <td>150.000000</td>\n",
       "      <td>150.000000</td>\n",
       "      <td>150.000000</td>\n",
       "      <td>150.0</td>\n",
       "    </tr>\n",
       "    <tr>\n",
       "      <th>mean</th>\n",
       "      <td>22.886667</td>\n",
       "      <td>3.400000</td>\n",
       "      <td>102952.402630</td>\n",
       "      <td>436.686667</td>\n",
       "      <td>1.0</td>\n",
       "    </tr>\n",
       "    <tr>\n",
       "      <th>std</th>\n",
       "      <td>8.859482</td>\n",
       "      <td>1.305641</td>\n",
       "      <td>39669.184868</td>\n",
       "      <td>294.182593</td>\n",
       "      <td>0.0</td>\n",
       "    </tr>\n",
       "    <tr>\n",
       "      <th>min</th>\n",
       "      <td>4.000000</td>\n",
       "      <td>0.000000</td>\n",
       "      <td>56685.323500</td>\n",
       "      <td>101.000000</td>\n",
       "      <td>1.0</td>\n",
       "    </tr>\n",
       "    <tr>\n",
       "      <th>25%</th>\n",
       "      <td>18.000000</td>\n",
       "      <td>4.000000</td>\n",
       "      <td>80263.043125</td>\n",
       "      <td>306.750000</td>\n",
       "      <td>1.0</td>\n",
       "    </tr>\n",
       "    <tr>\n",
       "      <th>50%</th>\n",
       "      <td>29.000000</td>\n",
       "      <td>4.000000</td>\n",
       "      <td>90157.966650</td>\n",
       "      <td>394.500000</td>\n",
       "      <td>1.0</td>\n",
       "    </tr>\n",
       "    <tr>\n",
       "      <th>75%</th>\n",
       "      <td>29.000000</td>\n",
       "      <td>4.000000</td>\n",
       "      <td>111916.526925</td>\n",
       "      <td>508.250000</td>\n",
       "      <td>1.0</td>\n",
       "    </tr>\n",
       "    <tr>\n",
       "      <th>max</th>\n",
       "      <td>41.000000</td>\n",
       "      <td>5.000000</td>\n",
       "      <td>286945.168300</td>\n",
       "      <td>2487.000000</td>\n",
       "      <td>1.0</td>\n",
       "    </tr>\n",
       "  </tbody>\n",
       "</table>\n",
       "</div>"
      ],
      "text/plain": [
       "        Provincia       Grupo    Ventas 2018  Tickets 2018  cluster\n",
       "count  150.000000  150.000000     150.000000    150.000000    150.0\n",
       "mean    22.886667    3.400000  102952.402630    436.686667      1.0\n",
       "std      8.859482    1.305641   39669.184868    294.182593      0.0\n",
       "min      4.000000    0.000000   56685.323500    101.000000      1.0\n",
       "25%     18.000000    4.000000   80263.043125    306.750000      1.0\n",
       "50%     29.000000    4.000000   90157.966650    394.500000      1.0\n",
       "75%     29.000000    4.000000  111916.526925    508.250000      1.0\n",
       "max     41.000000    5.000000  286945.168300   2487.000000      1.0"
      ]
     },
     "execution_count": 38,
     "metadata": {},
     "output_type": "execute_result"
    }
   ],
   "source": [
    "df2018[df2018[\"cluster\"] ==1].describe()"
   ]
  },
  {
   "cell_type": "code",
   "execution_count": 39,
   "id": "cfaed9d5",
   "metadata": {},
   "outputs": [
    {
     "data": {
      "text/html": [
       "<div>\n",
       "<style scoped>\n",
       "    .dataframe tbody tr th:only-of-type {\n",
       "        vertical-align: middle;\n",
       "    }\n",
       "\n",
       "    .dataframe tbody tr th {\n",
       "        vertical-align: top;\n",
       "    }\n",
       "\n",
       "    .dataframe thead th {\n",
       "        text-align: right;\n",
       "    }\n",
       "</style>\n",
       "<table border=\"1\" class=\"dataframe\">\n",
       "  <thead>\n",
       "    <tr style=\"text-align: right;\">\n",
       "      <th></th>\n",
       "      <th>Provincia</th>\n",
       "      <th>Grupo</th>\n",
       "      <th>Ventas 2018</th>\n",
       "      <th>Tickets 2018</th>\n",
       "      <th>cluster</th>\n",
       "    </tr>\n",
       "  </thead>\n",
       "  <tbody>\n",
       "    <tr>\n",
       "      <th>count</th>\n",
       "      <td>13211.000000</td>\n",
       "      <td>13211.000000</td>\n",
       "      <td>13211.000000</td>\n",
       "      <td>13211.000000</td>\n",
       "      <td>13211.0</td>\n",
       "    </tr>\n",
       "    <tr>\n",
       "      <th>mean</th>\n",
       "      <td>14.573386</td>\n",
       "      <td>5.739838</td>\n",
       "      <td>1572.972106</td>\n",
       "      <td>16.472258</td>\n",
       "      <td>2.0</td>\n",
       "    </tr>\n",
       "    <tr>\n",
       "      <th>std</th>\n",
       "      <td>4.596164</td>\n",
       "      <td>1.242474</td>\n",
       "      <td>2165.027105</td>\n",
       "      <td>19.596769</td>\n",
       "      <td>0.0</td>\n",
       "    </tr>\n",
       "    <tr>\n",
       "      <th>min</th>\n",
       "      <td>0.000000</td>\n",
       "      <td>3.000000</td>\n",
       "      <td>-184.930200</td>\n",
       "      <td>1.000000</td>\n",
       "      <td>2.0</td>\n",
       "    </tr>\n",
       "    <tr>\n",
       "      <th>25%</th>\n",
       "      <td>11.000000</td>\n",
       "      <td>5.000000</td>\n",
       "      <td>184.475550</td>\n",
       "      <td>3.000000</td>\n",
       "      <td>2.0</td>\n",
       "    </tr>\n",
       "    <tr>\n",
       "      <th>50%</th>\n",
       "      <td>14.000000</td>\n",
       "      <td>6.000000</td>\n",
       "      <td>729.984000</td>\n",
       "      <td>9.000000</td>\n",
       "      <td>2.0</td>\n",
       "    </tr>\n",
       "    <tr>\n",
       "      <th>75%</th>\n",
       "      <td>18.000000</td>\n",
       "      <td>7.000000</td>\n",
       "      <td>2082.455500</td>\n",
       "      <td>23.000000</td>\n",
       "      <td>2.0</td>\n",
       "    </tr>\n",
       "    <tr>\n",
       "      <th>max</th>\n",
       "      <td>24.000000</td>\n",
       "      <td>7.000000</td>\n",
       "      <td>20879.801600</td>\n",
       "      <td>169.000000</td>\n",
       "      <td>2.0</td>\n",
       "    </tr>\n",
       "  </tbody>\n",
       "</table>\n",
       "</div>"
      ],
      "text/plain": [
       "          Provincia         Grupo   Ventas 2018  Tickets 2018  cluster\n",
       "count  13211.000000  13211.000000  13211.000000  13211.000000  13211.0\n",
       "mean      14.573386      5.739838   1572.972106     16.472258      2.0\n",
       "std        4.596164      1.242474   2165.027105     19.596769      0.0\n",
       "min        0.000000      3.000000   -184.930200      1.000000      2.0\n",
       "25%       11.000000      5.000000    184.475550      3.000000      2.0\n",
       "50%       14.000000      6.000000    729.984000      9.000000      2.0\n",
       "75%       18.000000      7.000000   2082.455500     23.000000      2.0\n",
       "max       24.000000      7.000000  20879.801600    169.000000      2.0"
      ]
     },
     "execution_count": 39,
     "metadata": {},
     "output_type": "execute_result"
    }
   ],
   "source": [
    "df2018[df2018[\"cluster\"] ==2].describe()"
   ]
  },
  {
   "cell_type": "code",
   "execution_count": 40,
   "id": "d31e1e15",
   "metadata": {},
   "outputs": [
    {
     "data": {
      "text/html": [
       "<div>\n",
       "<style scoped>\n",
       "    .dataframe tbody tr th:only-of-type {\n",
       "        vertical-align: middle;\n",
       "    }\n",
       "\n",
       "    .dataframe tbody tr th {\n",
       "        vertical-align: top;\n",
       "    }\n",
       "\n",
       "    .dataframe thead th {\n",
       "        text-align: right;\n",
       "    }\n",
       "</style>\n",
       "<table border=\"1\" class=\"dataframe\">\n",
       "  <thead>\n",
       "    <tr style=\"text-align: right;\">\n",
       "      <th></th>\n",
       "      <th>Provincia</th>\n",
       "      <th>Grupo</th>\n",
       "      <th>Ventas 2018</th>\n",
       "      <th>Tickets 2018</th>\n",
       "      <th>cluster</th>\n",
       "    </tr>\n",
       "  </thead>\n",
       "  <tbody>\n",
       "    <tr>\n",
       "      <th>count</th>\n",
       "      <td>934.000000</td>\n",
       "      <td>934.000000</td>\n",
       "      <td>934.000000</td>\n",
       "      <td>934.000000</td>\n",
       "      <td>934.0</td>\n",
       "    </tr>\n",
       "    <tr>\n",
       "      <th>mean</th>\n",
       "      <td>23.786938</td>\n",
       "      <td>3.108137</td>\n",
       "      <td>40078.365288</td>\n",
       "      <td>233.478587</td>\n",
       "      <td>3.0</td>\n",
       "    </tr>\n",
       "    <tr>\n",
       "      <th>std</th>\n",
       "      <td>10.800967</td>\n",
       "      <td>1.659065</td>\n",
       "      <td>13434.150133</td>\n",
       "      <td>103.920785</td>\n",
       "      <td>0.0</td>\n",
       "    </tr>\n",
       "    <tr>\n",
       "      <th>min</th>\n",
       "      <td>0.000000</td>\n",
       "      <td>0.000000</td>\n",
       "      <td>5984.626500</td>\n",
       "      <td>20.000000</td>\n",
       "      <td>3.0</td>\n",
       "    </tr>\n",
       "    <tr>\n",
       "      <th>25%</th>\n",
       "      <td>14.000000</td>\n",
       "      <td>2.000000</td>\n",
       "      <td>30544.969075</td>\n",
       "      <td>158.250000</td>\n",
       "      <td>3.0</td>\n",
       "    </tr>\n",
       "    <tr>\n",
       "      <th>50%</th>\n",
       "      <td>29.000000</td>\n",
       "      <td>4.000000</td>\n",
       "      <td>38129.813800</td>\n",
       "      <td>217.000000</td>\n",
       "      <td>3.0</td>\n",
       "    </tr>\n",
       "    <tr>\n",
       "      <th>75%</th>\n",
       "      <td>29.000000</td>\n",
       "      <td>4.000000</td>\n",
       "      <td>48250.671750</td>\n",
       "      <td>283.750000</td>\n",
       "      <td>3.0</td>\n",
       "    </tr>\n",
       "    <tr>\n",
       "      <th>max</th>\n",
       "      <td>99.000000</td>\n",
       "      <td>6.000000</td>\n",
       "      <td>92693.391200</td>\n",
       "      <td>661.000000</td>\n",
       "      <td>3.0</td>\n",
       "    </tr>\n",
       "  </tbody>\n",
       "</table>\n",
       "</div>"
      ],
      "text/plain": [
       "        Provincia       Grupo   Ventas 2018  Tickets 2018  cluster\n",
       "count  934.000000  934.000000    934.000000    934.000000    934.0\n",
       "mean    23.786938    3.108137  40078.365288    233.478587      3.0\n",
       "std     10.800967    1.659065  13434.150133    103.920785      0.0\n",
       "min      0.000000    0.000000   5984.626500     20.000000      3.0\n",
       "25%     14.000000    2.000000  30544.969075    158.250000      3.0\n",
       "50%     29.000000    4.000000  38129.813800    217.000000      3.0\n",
       "75%     29.000000    4.000000  48250.671750    283.750000      3.0\n",
       "max     99.000000    6.000000  92693.391200    661.000000      3.0"
      ]
     },
     "execution_count": 40,
     "metadata": {},
     "output_type": "execute_result"
    }
   ],
   "source": [
    "df2018[df2018[\"cluster\"] ==3].describe()"
   ]
  },
  {
   "cell_type": "code",
   "execution_count": 41,
   "id": "51409726",
   "metadata": {
    "scrolled": true
   },
   "outputs": [
    {
     "data": {
      "text/html": [
       "<div>\n",
       "<style scoped>\n",
       "    .dataframe tbody tr th:only-of-type {\n",
       "        vertical-align: middle;\n",
       "    }\n",
       "\n",
       "    .dataframe tbody tr th {\n",
       "        vertical-align: top;\n",
       "    }\n",
       "\n",
       "    .dataframe thead th {\n",
       "        text-align: right;\n",
       "    }\n",
       "</style>\n",
       "<table border=\"1\" class=\"dataframe\">\n",
       "  <thead>\n",
       "    <tr style=\"text-align: right;\">\n",
       "      <th></th>\n",
       "      <th>Provincia</th>\n",
       "      <th>Grupo</th>\n",
       "      <th>Ventas 2018</th>\n",
       "      <th>Tickets 2018</th>\n",
       "      <th>cluster</th>\n",
       "    </tr>\n",
       "  </thead>\n",
       "  <tbody>\n",
       "    <tr>\n",
       "      <th>count</th>\n",
       "      <td>10771.000000</td>\n",
       "      <td>10771.000000</td>\n",
       "      <td>10771.000000</td>\n",
       "      <td>10771.000000</td>\n",
       "      <td>10771.0</td>\n",
       "    </tr>\n",
       "    <tr>\n",
       "      <th>mean</th>\n",
       "      <td>33.209173</td>\n",
       "      <td>5.793055</td>\n",
       "      <td>1512.284953</td>\n",
       "      <td>15.276390</td>\n",
       "      <td>4.0</td>\n",
       "    </tr>\n",
       "    <tr>\n",
       "      <th>std</th>\n",
       "      <td>6.890197</td>\n",
       "      <td>1.315705</td>\n",
       "      <td>2230.512321</td>\n",
       "      <td>19.231218</td>\n",
       "      <td>0.0</td>\n",
       "    </tr>\n",
       "    <tr>\n",
       "      <th>min</th>\n",
       "      <td>24.000000</td>\n",
       "      <td>3.000000</td>\n",
       "      <td>-2932.611900</td>\n",
       "      <td>1.000000</td>\n",
       "      <td>4.0</td>\n",
       "    </tr>\n",
       "    <tr>\n",
       "      <th>25%</th>\n",
       "      <td>29.000000</td>\n",
       "      <td>4.000000</td>\n",
       "      <td>158.803000</td>\n",
       "      <td>2.000000</td>\n",
       "      <td>4.0</td>\n",
       "    </tr>\n",
       "    <tr>\n",
       "      <th>50%</th>\n",
       "      <td>29.000000</td>\n",
       "      <td>7.000000</td>\n",
       "      <td>603.968300</td>\n",
       "      <td>7.000000</td>\n",
       "      <td>4.0</td>\n",
       "    </tr>\n",
       "    <tr>\n",
       "      <th>75%</th>\n",
       "      <td>41.000000</td>\n",
       "      <td>7.000000</td>\n",
       "      <td>1895.229900</td>\n",
       "      <td>21.000000</td>\n",
       "      <td>4.0</td>\n",
       "    </tr>\n",
       "    <tr>\n",
       "      <th>max</th>\n",
       "      <td>99.000000</td>\n",
       "      <td>7.000000</td>\n",
       "      <td>36278.869500</td>\n",
       "      <td>144.000000</td>\n",
       "      <td>4.0</td>\n",
       "    </tr>\n",
       "  </tbody>\n",
       "</table>\n",
       "</div>"
      ],
      "text/plain": [
       "          Provincia         Grupo   Ventas 2018  Tickets 2018  cluster\n",
       "count  10771.000000  10771.000000  10771.000000  10771.000000  10771.0\n",
       "mean      33.209173      5.793055   1512.284953     15.276390      4.0\n",
       "std        6.890197      1.315705   2230.512321     19.231218      0.0\n",
       "min       24.000000      3.000000  -2932.611900      1.000000      4.0\n",
       "25%       29.000000      4.000000    158.803000      2.000000      4.0\n",
       "50%       29.000000      7.000000    603.968300      7.000000      4.0\n",
       "75%       41.000000      7.000000   1895.229900     21.000000      4.0\n",
       "max       99.000000      7.000000  36278.869500    144.000000      4.0"
      ]
     },
     "execution_count": 41,
     "metadata": {},
     "output_type": "execute_result"
    }
   ],
   "source": [
    "df2018[df2018[\"cluster\"] ==4].describe()"
   ]
  },
  {
   "cell_type": "code",
   "execution_count": null,
   "id": "d6b40b5d",
   "metadata": {},
   "outputs": [],
   "source": []
  },
  {
   "cell_type": "code",
   "execution_count": 42,
   "id": "40285cd3",
   "metadata": {},
   "outputs": [],
   "source": [
    "####################################################################################\n",
    "####################################################################################\n",
    "####################################################################################\n",
    "####################################################################################\n",
    "####################################################################################\n",
    "####################################################################################\n",
    "####################################################################################\n",
    "####################################################################################\n"
   ]
  },
  {
   "cell_type": "code",
   "execution_count": null,
   "id": "02c01c7f",
   "metadata": {},
   "outputs": [],
   "source": []
  },
  {
   "cell_type": "code",
   "execution_count": null,
   "id": "38db002f",
   "metadata": {},
   "outputs": [],
   "source": []
  },
  {
   "cell_type": "code",
   "execution_count": null,
   "id": "63b996f6",
   "metadata": {},
   "outputs": [],
   "source": []
  },
  {
   "cell_type": "code",
   "execution_count": null,
   "id": "a0987c48",
   "metadata": {},
   "outputs": [],
   "source": []
  },
  {
   "cell_type": "code",
   "execution_count": null,
   "id": "456822c7",
   "metadata": {},
   "outputs": [],
   "source": []
  },
  {
   "cell_type": "code",
   "execution_count": null,
   "id": "bdda15cf",
   "metadata": {},
   "outputs": [],
   "source": []
  },
  {
   "cell_type": "code",
   "execution_count": null,
   "id": "a1a51818",
   "metadata": {},
   "outputs": [],
   "source": []
  },
  {
   "cell_type": "code",
   "execution_count": null,
   "id": "a01e42c1",
   "metadata": {},
   "outputs": [],
   "source": []
  }
 ],
 "metadata": {
  "kernelspec": {
   "display_name": "Python 3 (ipykernel)",
   "language": "python",
   "name": "python3"
  },
  "language_info": {
   "codemirror_mode": {
    "name": "ipython",
    "version": 3
   },
   "file_extension": ".py",
   "mimetype": "text/x-python",
   "name": "python",
   "nbconvert_exporter": "python",
   "pygments_lexer": "ipython3",
   "version": "3.11.4"
  }
 },
 "nbformat": 4,
 "nbformat_minor": 5
}
