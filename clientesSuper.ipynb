{
 "cells": [
  {
   "cell_type": "code",
   "execution_count": 3,
   "id": "c69b2a1a",
   "metadata": {},
   "outputs": [],
   "source": [
    "import pandas as pd\n",
    "import numpy as np\n",
    "from scipy.spatial.distance import cdist\n",
    "from sklearn.cluster import KMeans\n",
    "from sklearn.metrics import confusion_matrix\n",
    "from matplotlib import pyplot as plt\n",
    "from sklearn.preprocessing import scale"
   ]
  },
  {
   "cell_type": "code",
   "execution_count": 7,
   "id": "3297b386",
   "metadata": {},
   "outputs": [
    {
     "name": "stderr",
     "output_type": "stream",
     "text": [
      "/var/folders/37/x57w4bp561x9sj71bs9nmw0w0000gn/T/ipykernel_70102/2422259629.py:1: DtypeWarning: Columns (1) have mixed types. Specify dtype option on import or set low_memory=False.\n",
      "  ventas = pd.read_csv(\"./dataset/resultadosVentas.csv\", decimal=\",\")\n"
     ]
    }
   ],
   "source": [
    "ventas = pd.read_csv(\"./dataset/resultadosVentas.csv\", decimal=\",\")\n",
    "df = ventas.copy()"
   ]
  },
  {
   "cell_type": "code",
   "execution_count": 8,
   "id": "6bbd7dda",
   "metadata": {},
   "outputs": [
    {
     "data": {
      "text/html": [
       "<div>\n",
       "<style scoped>\n",
       "    .dataframe tbody tr th:only-of-type {\n",
       "        vertical-align: middle;\n",
       "    }\n",
       "\n",
       "    .dataframe tbody tr th {\n",
       "        vertical-align: top;\n",
       "    }\n",
       "\n",
       "    .dataframe thead th {\n",
       "        text-align: right;\n",
       "    }\n",
       "</style>\n",
       "<table border=\"1\" class=\"dataframe\">\n",
       "  <thead>\n",
       "    <tr style=\"text-align: right;\">\n",
       "      <th></th>\n",
       "      <th>IdCliente</th>\n",
       "      <th>Provincia</th>\n",
       "      <th>Grupo</th>\n",
       "      <th>Ventas 2018</th>\n",
       "      <th>Unidades 2018</th>\n",
       "      <th>Tickets 2018</th>\n",
       "      <th>Antigüedad</th>\n",
       "      <th>Ventas 2017</th>\n",
       "      <th>Unidades 2017</th>\n",
       "      <th>Tickets 2017</th>\n",
       "      <th>Ventas 2016</th>\n",
       "      <th>Unidades 2016</th>\n",
       "      <th>Tickets 2016</th>\n",
       "      <th>Ventas 2015</th>\n",
       "      <th>Unidades 2015</th>\n",
       "      <th>Tickets 2015</th>\n",
       "      <th>Ventas 2014</th>\n",
       "      <th>Unidades 2014</th>\n",
       "      <th>Tickets 2014</th>\n",
       "    </tr>\n",
       "  </thead>\n",
       "  <tbody>\n",
       "    <tr>\n",
       "      <th>0</th>\n",
       "      <td>Cliente 1</td>\n",
       "      <td>29</td>\n",
       "      <td>Tienda/Supermercado de Alimentacion</td>\n",
       "      <td>1525.788</td>\n",
       "      <td>2213.28</td>\n",
       "      <td>46</td>\n",
       "      <td>2009-01-05 09:45:21.000</td>\n",
       "      <td>3292.9751</td>\n",
       "      <td>2307.37</td>\n",
       "      <td>38.0</td>\n",
       "      <td>3545.6107</td>\n",
       "      <td>4569.7</td>\n",
       "      <td>49.0</td>\n",
       "      <td>6306.3445</td>\n",
       "      <td>8004.09</td>\n",
       "      <td>91.0</td>\n",
       "      <td>6439.1802</td>\n",
       "      <td>8519.13</td>\n",
       "      <td>83.0</td>\n",
       "    </tr>\n",
       "    <tr>\n",
       "      <th>1</th>\n",
       "      <td>Cliente 2</td>\n",
       "      <td>29</td>\n",
       "      <td>NaN</td>\n",
       "      <td>115.8179</td>\n",
       "      <td>82.97</td>\n",
       "      <td>1</td>\n",
       "      <td>2009-01-03 10:48:33.000</td>\n",
       "      <td>286.9034</td>\n",
       "      <td>145.04</td>\n",
       "      <td>3.0</td>\n",
       "      <td>446.0571</td>\n",
       "      <td>321.39</td>\n",
       "      <td>12.0</td>\n",
       "      <td>135.4624</td>\n",
       "      <td>91.62</td>\n",
       "      <td>4.0</td>\n",
       "      <td>190.4443</td>\n",
       "      <td>175.68</td>\n",
       "      <td>7.0</td>\n",
       "    </tr>\n",
       "    <tr>\n",
       "      <th>2</th>\n",
       "      <td>Cliente 3</td>\n",
       "      <td>29</td>\n",
       "      <td>Tienda/Supermercado de Alimentacion</td>\n",
       "      <td>25670.9588</td>\n",
       "      <td>35516.11</td>\n",
       "      <td>236</td>\n",
       "      <td>2009-01-03 09:07:38.000</td>\n",
       "      <td>27947.2056</td>\n",
       "      <td>36381.85</td>\n",
       "      <td>256.0</td>\n",
       "      <td>33964.779</td>\n",
       "      <td>41264.9</td>\n",
       "      <td>257.0</td>\n",
       "      <td>36267.5888</td>\n",
       "      <td>42266.22</td>\n",
       "      <td>338.0</td>\n",
       "      <td>36096.9745</td>\n",
       "      <td>41184.69</td>\n",
       "      <td>348.0</td>\n",
       "    </tr>\n",
       "    <tr>\n",
       "      <th>3</th>\n",
       "      <td>Cliente 4</td>\n",
       "      <td>29</td>\n",
       "      <td>Tienda/Supermercado de Alimentacion</td>\n",
       "      <td>39519.3851</td>\n",
       "      <td>42299.2</td>\n",
       "      <td>358</td>\n",
       "      <td>2009-01-05 05:31:46.000</td>\n",
       "      <td>25968.0955</td>\n",
       "      <td>38376.72</td>\n",
       "      <td>231.0</td>\n",
       "      <td>14953.0722</td>\n",
       "      <td>24823.03</td>\n",
       "      <td>170.0</td>\n",
       "      <td>15524.3915</td>\n",
       "      <td>25823.11</td>\n",
       "      <td>248.0</td>\n",
       "      <td>13159.2442</td>\n",
       "      <td>21074.77</td>\n",
       "      <td>175.0</td>\n",
       "    </tr>\n",
       "    <tr>\n",
       "      <th>4</th>\n",
       "      <td>Cliente 5</td>\n",
       "      <td>29</td>\n",
       "      <td>Tienda/Supermercado de Alimentacion</td>\n",
       "      <td>2555.5218</td>\n",
       "      <td>2587.39</td>\n",
       "      <td>20</td>\n",
       "      <td>2009-01-12 11:39:56.000</td>\n",
       "      <td>3455.6742</td>\n",
       "      <td>2657.39</td>\n",
       "      <td>24.0</td>\n",
       "      <td>3335.1821</td>\n",
       "      <td>2684.27</td>\n",
       "      <td>31.0</td>\n",
       "      <td>1278.0458</td>\n",
       "      <td>950.49</td>\n",
       "      <td>10.0</td>\n",
       "      <td>1095.3949</td>\n",
       "      <td>563.89</td>\n",
       "      <td>7.0</td>\n",
       "    </tr>\n",
       "  </tbody>\n",
       "</table>\n",
       "</div>"
      ],
      "text/plain": [
       "   IdCliente Provincia                                Grupo Ventas 2018  \\\n",
       "0  Cliente 1        29  Tienda/Supermercado de Alimentacion    1525.788   \n",
       "1  Cliente 2        29                                  NaN    115.8179   \n",
       "2  Cliente 3        29  Tienda/Supermercado de Alimentacion  25670.9588   \n",
       "3  Cliente 4        29  Tienda/Supermercado de Alimentacion  39519.3851   \n",
       "4  Cliente 5        29  Tienda/Supermercado de Alimentacion   2555.5218   \n",
       "\n",
       "  Unidades 2018  Tickets 2018               Antigüedad Ventas 2017  \\\n",
       "0       2213.28            46  2009-01-05 09:45:21.000   3292.9751   \n",
       "1         82.97             1  2009-01-03 10:48:33.000    286.9034   \n",
       "2      35516.11           236  2009-01-03 09:07:38.000  27947.2056   \n",
       "3       42299.2           358  2009-01-05 05:31:46.000  25968.0955   \n",
       "4       2587.39            20  2009-01-12 11:39:56.000   3455.6742   \n",
       "\n",
       "  Unidades 2017  Tickets 2017 Ventas 2016 Unidades 2016  Tickets 2016  \\\n",
       "0       2307.37          38.0   3545.6107        4569.7          49.0   \n",
       "1        145.04           3.0    446.0571        321.39          12.0   \n",
       "2      36381.85         256.0   33964.779       41264.9         257.0   \n",
       "3      38376.72         231.0  14953.0722      24823.03         170.0   \n",
       "4       2657.39          24.0   3335.1821       2684.27          31.0   \n",
       "\n",
       "  Ventas 2015 Unidades 2015  Tickets 2015 Ventas 2014 Unidades 2014  \\\n",
       "0   6306.3445       8004.09          91.0   6439.1802       8519.13   \n",
       "1    135.4624         91.62           4.0    190.4443        175.68   \n",
       "2  36267.5888      42266.22         338.0  36096.9745      41184.69   \n",
       "3  15524.3915      25823.11         248.0  13159.2442      21074.77   \n",
       "4   1278.0458        950.49          10.0   1095.3949        563.89   \n",
       "\n",
       "   Tickets 2014  \n",
       "0          83.0  \n",
       "1           7.0  \n",
       "2         348.0  \n",
       "3         175.0  \n",
       "4           7.0  "
      ]
     },
     "execution_count": 8,
     "metadata": {},
     "output_type": "execute_result"
    }
   ],
   "source": [
    "df.head()"
   ]
  },
  {
   "cell_type": "code",
   "execution_count": 9,
   "id": "761728b3",
   "metadata": {},
   "outputs": [
    {
     "data": {
      "text/html": [
       "<div>\n",
       "<style scoped>\n",
       "    .dataframe tbody tr th:only-of-type {\n",
       "        vertical-align: middle;\n",
       "    }\n",
       "\n",
       "    .dataframe tbody tr th {\n",
       "        vertical-align: top;\n",
       "    }\n",
       "\n",
       "    .dataframe thead th {\n",
       "        text-align: right;\n",
       "    }\n",
       "</style>\n",
       "<table border=\"1\" class=\"dataframe\">\n",
       "  <thead>\n",
       "    <tr style=\"text-align: right;\">\n",
       "      <th></th>\n",
       "      <th>IdCliente</th>\n",
       "      <th>Provincia</th>\n",
       "      <th>Grupo</th>\n",
       "      <th>Ventas 2018</th>\n",
       "      <th>Unidades 2018</th>\n",
       "      <th>Tickets 2018</th>\n",
       "      <th>Antigüedad</th>\n",
       "      <th>Ventas 2017</th>\n",
       "      <th>Unidades 2017</th>\n",
       "      <th>Tickets 2017</th>\n",
       "      <th>Ventas 2016</th>\n",
       "      <th>Unidades 2016</th>\n",
       "      <th>Tickets 2016</th>\n",
       "      <th>Ventas 2015</th>\n",
       "      <th>Unidades 2015</th>\n",
       "      <th>Tickets 2015</th>\n",
       "      <th>Ventas 2014</th>\n",
       "      <th>Unidades 2014</th>\n",
       "      <th>Tickets 2014</th>\n",
       "    </tr>\n",
       "  </thead>\n",
       "  <tbody>\n",
       "    <tr>\n",
       "      <th>35435</th>\n",
       "      <td>Cliente 35436</td>\n",
       "      <td>41</td>\n",
       "      <td>Horeca (Bares, Restaurante, Cafet.)</td>\n",
       "      <td>7184.2951</td>\n",
       "      <td>4327.55</td>\n",
       "      <td>46</td>\n",
       "      <td>2012-07-19 08:03:52.000</td>\n",
       "      <td>6218.0933</td>\n",
       "      <td>4261.6</td>\n",
       "      <td>77.0</td>\n",
       "      <td>8253.2677</td>\n",
       "      <td>5640.73</td>\n",
       "      <td>52.0</td>\n",
       "      <td>20521.9785</td>\n",
       "      <td>15758.73</td>\n",
       "      <td>83.0</td>\n",
       "      <td>14895.7</td>\n",
       "      <td>11458.24</td>\n",
       "      <td>49.0</td>\n",
       "    </tr>\n",
       "    <tr>\n",
       "      <th>27616</th>\n",
       "      <td>Cliente 27617</td>\n",
       "      <td>41</td>\n",
       "      <td>Tienda/Supermercado de Alimentacion</td>\n",
       "      <td>469.377</td>\n",
       "      <td>422</td>\n",
       "      <td>9</td>\n",
       "      <td>2018-02-24 06:53:15.000</td>\n",
       "      <td>NaN</td>\n",
       "      <td>NaN</td>\n",
       "      <td>NaN</td>\n",
       "      <td>NaN</td>\n",
       "      <td>NaN</td>\n",
       "      <td>NaN</td>\n",
       "      <td>NaN</td>\n",
       "      <td>NaN</td>\n",
       "      <td>NaN</td>\n",
       "      <td>NaN</td>\n",
       "      <td>NaN</td>\n",
       "      <td>NaN</td>\n",
       "    </tr>\n",
       "    <tr>\n",
       "      <th>17455</th>\n",
       "      <td>Cliente 17456</td>\n",
       "      <td>29</td>\n",
       "      <td>NaN</td>\n",
       "      <td>364.9525</td>\n",
       "      <td>300.52</td>\n",
       "      <td>9</td>\n",
       "      <td>2012-06-01 10:01:37.000</td>\n",
       "      <td>253.9868</td>\n",
       "      <td>139.64</td>\n",
       "      <td>5.0</td>\n",
       "      <td>161.5614</td>\n",
       "      <td>87.22</td>\n",
       "      <td>5.0</td>\n",
       "      <td>NaN</td>\n",
       "      <td>NaN</td>\n",
       "      <td>NaN</td>\n",
       "      <td>NaN</td>\n",
       "      <td>NaN</td>\n",
       "      <td>NaN</td>\n",
       "    </tr>\n",
       "    <tr>\n",
       "      <th>25658</th>\n",
       "      <td>Cliente 25659</td>\n",
       "      <td>29</td>\n",
       "      <td>Horeca (Bares, Restaurante, Cafet.)</td>\n",
       "      <td>2960.7887</td>\n",
       "      <td>3229.98</td>\n",
       "      <td>32</td>\n",
       "      <td>2017-05-23 16:46:01.000</td>\n",
       "      <td>491.188</td>\n",
       "      <td>351.91</td>\n",
       "      <td>11.0</td>\n",
       "      <td>NaN</td>\n",
       "      <td>NaN</td>\n",
       "      <td>NaN</td>\n",
       "      <td>NaN</td>\n",
       "      <td>NaN</td>\n",
       "      <td>NaN</td>\n",
       "      <td>NaN</td>\n",
       "      <td>NaN</td>\n",
       "      <td>NaN</td>\n",
       "    </tr>\n",
       "    <tr>\n",
       "      <th>19227</th>\n",
       "      <td>Cliente 19228</td>\n",
       "      <td>0</td>\n",
       "      <td>Distribuidor</td>\n",
       "      <td>7813.8817</td>\n",
       "      <td>8343.72</td>\n",
       "      <td>86</td>\n",
       "      <td>2014-12-26 10:37:35.000</td>\n",
       "      <td>335.63</td>\n",
       "      <td>193</td>\n",
       "      <td>6.0</td>\n",
       "      <td>1958.1414</td>\n",
       "      <td>1132.18</td>\n",
       "      <td>22.0</td>\n",
       "      <td>1826.9146</td>\n",
       "      <td>1752.93</td>\n",
       "      <td>19.0</td>\n",
       "      <td>287.09</td>\n",
       "      <td>306</td>\n",
       "      <td>1.0</td>\n",
       "    </tr>\n",
       "  </tbody>\n",
       "</table>\n",
       "</div>"
      ],
      "text/plain": [
       "           IdCliente Provincia                                Grupo  \\\n",
       "35435  Cliente 35436        41  Horeca (Bares, Restaurante, Cafet.)   \n",
       "27616  Cliente 27617        41  Tienda/Supermercado de Alimentacion   \n",
       "17455  Cliente 17456        29                                  NaN   \n",
       "25658  Cliente 25659        29  Horeca (Bares, Restaurante, Cafet.)   \n",
       "19227  Cliente 19228         0                         Distribuidor   \n",
       "\n",
       "      Ventas 2018 Unidades 2018  Tickets 2018               Antigüedad  \\\n",
       "35435   7184.2951       4327.55            46  2012-07-19 08:03:52.000   \n",
       "27616     469.377           422             9  2018-02-24 06:53:15.000   \n",
       "17455    364.9525        300.52             9  2012-06-01 10:01:37.000   \n",
       "25658   2960.7887       3229.98            32  2017-05-23 16:46:01.000   \n",
       "19227   7813.8817       8343.72            86  2014-12-26 10:37:35.000   \n",
       "\n",
       "      Ventas 2017 Unidades 2017  Tickets 2017 Ventas 2016 Unidades 2016  \\\n",
       "35435   6218.0933        4261.6          77.0   8253.2677       5640.73   \n",
       "27616         NaN           NaN           NaN         NaN           NaN   \n",
       "17455    253.9868        139.64           5.0    161.5614         87.22   \n",
       "25658     491.188        351.91          11.0         NaN           NaN   \n",
       "19227      335.63           193           6.0   1958.1414       1132.18   \n",
       "\n",
       "       Tickets 2016 Ventas 2015 Unidades 2015  Tickets 2015 Ventas 2014  \\\n",
       "35435          52.0  20521.9785      15758.73          83.0     14895.7   \n",
       "27616           NaN         NaN           NaN           NaN         NaN   \n",
       "17455           5.0         NaN           NaN           NaN         NaN   \n",
       "25658           NaN         NaN           NaN           NaN         NaN   \n",
       "19227          22.0   1826.9146       1752.93          19.0      287.09   \n",
       "\n",
       "      Unidades 2014  Tickets 2014  \n",
       "35435      11458.24          49.0  \n",
       "27616           NaN           NaN  \n",
       "17455           NaN           NaN  \n",
       "25658           NaN           NaN  \n",
       "19227           306           1.0  "
      ]
     },
     "execution_count": 9,
     "metadata": {},
     "output_type": "execute_result"
    }
   ],
   "source": [
    "df.sample(5)"
   ]
  },
  {
   "cell_type": "code",
   "execution_count": 10,
   "id": "e97c6d6b",
   "metadata": {},
   "outputs": [
    {
     "data": {
      "text/plain": [
       "(38787, 19)"
      ]
     },
     "execution_count": 10,
     "metadata": {},
     "output_type": "execute_result"
    }
   ],
   "source": [
    "df.shape"
   ]
  },
  {
   "cell_type": "code",
   "execution_count": 11,
   "id": "59d7db43",
   "metadata": {},
   "outputs": [
    {
     "data": {
      "text/plain": [
       "Index(['IdCliente', 'Provincia', 'Grupo', 'Ventas 2018', 'Unidades 2018',\n",
       "       'Tickets 2018', 'Antigüedad', 'Ventas 2017', 'Unidades 2017',\n",
       "       'Tickets 2017', 'Ventas 2016', 'Unidades 2016', 'Tickets 2016',\n",
       "       'Ventas 2015', 'Unidades 2015', 'Tickets 2015', 'Ventas 2014',\n",
       "       'Unidades 2014', 'Tickets 2014'],\n",
       "      dtype='object')"
      ]
     },
     "execution_count": 11,
     "metadata": {},
     "output_type": "execute_result"
    }
   ],
   "source": [
    "df.columns"
   ]
  },
  {
   "cell_type": "code",
   "execution_count": 29,
   "id": "c790bbec",
   "metadata": {},
   "outputs": [
    {
     "data": {
      "text/plain": [
       "IdCliente         object\n",
       "Provincia         object\n",
       "Grupo             object\n",
       "Ventas 2018       object\n",
       "Unidades 2018     object\n",
       "Tickets 2018       int64\n",
       "Antigüedad        object\n",
       "Ventas 2017       object\n",
       "Unidades 2017     object\n",
       "Tickets 2017     float64\n",
       "Ventas 2016       object\n",
       "Unidades 2016     object\n",
       "Tickets 2016     float64\n",
       "Ventas 2015       object\n",
       "Unidades 2015     object\n",
       "Tickets 2015     float64\n",
       "Ventas 2014       object\n",
       "Unidades 2014     object\n",
       "Tickets 2014     float64\n",
       "dtype: object"
      ]
     },
     "execution_count": 29,
     "metadata": {},
     "output_type": "execute_result"
    }
   ],
   "source": [
    "df.dtypes  #solo se salvan tickets"
   ]
  },
  {
   "cell_type": "code",
   "execution_count": 131,
   "id": "6e3d9bcc",
   "metadata": {},
   "outputs": [],
   "source": [
    "df['Antigüedad'] = pd.to_datetime(df['Antigüedad'])"
   ]
  },
  {
   "cell_type": "code",
   "execution_count": null,
   "id": "4439c6fa",
   "metadata": {},
   "outputs": [],
   "source": []
  },
  {
   "cell_type": "code",
   "execution_count": null,
   "id": "6e83f377",
   "metadata": {},
   "outputs": [],
   "source": []
  },
  {
   "cell_type": "code",
   "execution_count": 14,
   "id": "8642ed61",
   "metadata": {},
   "outputs": [
    {
     "data": {
      "text/plain": [
       "29    10457\n",
       "14     7787\n",
       "41     4668\n",
       "11     3303\n",
       "23     2696\n",
       "      ...  \n",
       "16        1\n",
       "35        1\n",
       "20        1\n",
       "32        1\n",
       "12        1\n",
       "Name: Provincia, Length: 82, dtype: int64"
      ]
     },
     "execution_count": 14,
     "metadata": {},
     "output_type": "execute_result"
    }
   ],
   "source": [
    "#Valores nulos en columnas\n",
    "df.Provincia.value_counts()"
   ]
  },
  {
   "cell_type": "code",
   "execution_count": 16,
   "id": "26ec4d0e",
   "metadata": {},
   "outputs": [
    {
     "data": {
      "text/plain": [
       "Horeca (Bares, Restaurante, Cafet.)    10246\n",
       "Tienda/Supermercado de Alimentacion     8195\n",
       "Otros                                   4802\n",
       "Particulares                            2355\n",
       "Distribuidor                            1189\n",
       "Empleados                                651\n",
       "Drogueria                                245\n",
       "Name: Grupo, dtype: int64"
      ]
     },
     "execution_count": 16,
     "metadata": {},
     "output_type": "execute_result"
    }
   ],
   "source": [
    "df.Grupo.value_counts()"
   ]
  },
  {
   "cell_type": "code",
   "execution_count": 21,
   "id": "485a4675",
   "metadata": {},
   "outputs": [
    {
     "data": {
      "text/plain": [
       "IdCliente            0\n",
       "Provincia            7\n",
       "Grupo            11104\n",
       "Ventas 2018          0\n",
       "Unidades 2018        0\n",
       "Tickets 2018         0\n",
       "Antigüedad           0\n",
       "Ventas 2017       7165\n",
       "Unidades 2017     7165\n",
       "Tickets 2017      7165\n",
       "Ventas 2016      10701\n",
       "Unidades 2016    10701\n",
       "Tickets 2016     10701\n",
       "Ventas 2015      13962\n",
       "Unidades 2015    13962\n",
       "Tickets 2015     13962\n",
       "Ventas 2014      17109\n",
       "Unidades 2014    17109\n",
       "Tickets 2014     17109\n",
       "dtype: int64"
      ]
     },
     "execution_count": 21,
     "metadata": {},
     "output_type": "execute_result"
    }
   ],
   "source": [
    "df.isna().sum()    #Analizar esto, años se ve q va decreciendo\n",
    "#vemos q coinciden entre ventas,unidades,tickets"
   ]
  },
  {
   "cell_type": "code",
   "execution_count": 33,
   "id": "b7b62ae0",
   "metadata": {},
   "outputs": [],
   "source": [
    "#Convierto solo ventas2018\n",
    "df['Ventas 2018']= df['Ventas 2018'].astype(float)"
   ]
  },
  {
   "cell_type": "code",
   "execution_count": 34,
   "id": "cbc52753",
   "metadata": {},
   "outputs": [
    {
     "data": {
      "text/plain": [
       "IdCliente         object\n",
       "Provincia         object\n",
       "Grupo             object\n",
       "Ventas 2018      float64\n",
       "Unidades 2018     object\n",
       "Tickets 2018       int64\n",
       "Antigüedad        object\n",
       "Ventas 2017       object\n",
       "Unidades 2017     object\n",
       "Tickets 2017     float64\n",
       "Ventas 2016       object\n",
       "Unidades 2016     object\n",
       "Tickets 2016     float64\n",
       "Ventas 2015       object\n",
       "Unidades 2015     object\n",
       "Tickets 2015     float64\n",
       "Ventas 2014       object\n",
       "Unidades 2014     object\n",
       "Tickets 2014     float64\n",
       "dtype: object"
      ]
     },
     "execution_count": 34,
     "metadata": {},
     "output_type": "execute_result"
    }
   ],
   "source": [
    "df.dtypes"
   ]
  },
  {
   "cell_type": "code",
   "execution_count": 127,
   "id": "b7364147",
   "metadata": {},
   "outputs": [
    {
     "data": {
      "text/plain": [
       "Grupo\n",
       "Distribuidor                           8528.932163\n",
       "Drogueria                              5026.802040\n",
       "Empleados                              1457.894711\n",
       "Horeca (Bares, Restaurante, Cafet.)    6938.108929\n",
       "Otros                                  3094.912363\n",
       "Particulares                           1533.133810\n",
       "Tienda/Supermercado de Alimentacion    9310.509890\n",
       "Name: Ventas 2018, dtype: float64"
      ]
     },
     "execution_count": 127,
     "metadata": {},
     "output_type": "execute_result"
    }
   ],
   "source": [
    "#Analizar los nan en columna grupo\n",
    "df.groupby('Grupo')['Ventas 2018'].mean()\n",
    "#podemos tener alguna idea a q grupo pertenece a partir de las ventas. \n",
    "#ML supervisado clasificacion multiclase (7Clases)"
   ]
  },
  {
   "cell_type": "code",
   "execution_count": 132,
   "id": "4f0b9c80",
   "metadata": {},
   "outputs": [
    {
     "data": {
      "text/plain": [
       "0       2009-01-05 09:45:21\n",
       "1       2009-01-03 10:48:33\n",
       "2       2009-01-03 09:07:38\n",
       "3       2009-01-05 05:31:46\n",
       "4       2009-01-12 11:39:56\n",
       "                ...        \n",
       "38782   2018-11-21 18:04:14\n",
       "38783   2018-12-13 17:23:42\n",
       "38784   2018-12-20 13:23:19\n",
       "38785   2018-12-28 19:14:02\n",
       "38786   2018-08-02 10:49:56\n",
       "Name: Antigüedad, Length: 38787, dtype: datetime64[ns]"
      ]
     },
     "execution_count": 132,
     "metadata": {},
     "output_type": "execute_result"
    }
   ],
   "source": [
    "df.Antigüedad\n",
    " "
   ]
  },
  {
   "cell_type": "code",
   "execution_count": 138,
   "id": "f7fb5787",
   "metadata": {},
   "outputs": [],
   "source": [
    "#Eliminar hora\n",
    "df[\"Antiguedad_sin_hora\"] = df['Antigüedad'].dt.date"
   ]
  },
  {
   "cell_type": "code",
   "execution_count": 139,
   "id": "6b33cb15",
   "metadata": {},
   "outputs": [
    {
     "data": {
      "text/plain": [
       "2009-01-02    1441\n",
       "2009-01-05     928\n",
       "2009-01-03     926\n",
       "2009-01-07     680\n",
       "2009-01-08     571\n",
       "              ... \n",
       "2009-11-14       1\n",
       "2010-04-24       1\n",
       "2009-09-12       1\n",
       "2013-05-25       1\n",
       "2017-06-10       1\n",
       "Name: Antiguedad_sin_hora, Length: 3007, dtype: int64"
      ]
     },
     "execution_count": 139,
     "metadata": {},
     "output_type": "execute_result"
    }
   ],
   "source": [
    "df.Antiguedad_sin_hora.value_counts()\n",
    "\n",
    "#Analizar h"
   ]
  },
  {
   "cell_type": "code",
   "execution_count": null,
   "id": "98a62ee1",
   "metadata": {},
   "outputs": [],
   "source": []
  },
  {
   "cell_type": "code",
   "execution_count": null,
   "id": "802c5072",
   "metadata": {},
   "outputs": [],
   "source": []
  },
  {
   "cell_type": "code",
   "execution_count": null,
   "id": "653d706d",
   "metadata": {},
   "outputs": [],
   "source": []
  },
  {
   "cell_type": "code",
   "execution_count": null,
   "id": "9d5f4835",
   "metadata": {},
   "outputs": [],
   "source": []
  },
  {
   "cell_type": "code",
   "execution_count": 39,
   "id": "42164f8b",
   "metadata": {},
   "outputs": [],
   "source": [
    "####################################################################################\n",
    "####################################################################################\n",
    "####################################################################################\n",
    "####################################################################################\n",
    "####################################################################################\n",
    "####################################################################################\n",
    "####################################################################################\n",
    "####################################################################################\n"
   ]
  },
  {
   "cell_type": "code",
   "execution_count": 41,
   "id": "bccf90a8",
   "metadata": {},
   "outputs": [],
   "source": [
    "##################### En sucio clase ###############################"
   ]
  },
  {
   "cell_type": "code",
   "execution_count": 103,
   "id": "d934bc63",
   "metadata": {},
   "outputs": [],
   "source": [
    "df2018 = ventas[[\"IdCliente\",\"Provincia\",\"Grupo\",\"Ventas 2018\", \"Unidades 2018\",\"Tickets 2018\"]] "
   ]
  },
  {
   "cell_type": "code",
   "execution_count": 104,
   "id": "a4ac0fcb",
   "metadata": {},
   "outputs": [],
   "source": [
    "copia = df2018"
   ]
  },
  {
   "cell_type": "code",
   "execution_count": null,
   "id": "29051d5a",
   "metadata": {},
   "outputs": [],
   "source": []
  },
  {
   "cell_type": "code",
   "execution_count": 105,
   "id": "6180276d",
   "metadata": {},
   "outputs": [
    {
     "name": "stdout",
     "output_type": "stream",
     "text": [
      "{'Particulares', 'Horeca (Bares, Restaurante, Cafet.)', nan, 'Otros', 'Drogueria', 'Tienda/Supermercado de Alimentacion', 'Empleados ', 'Distribuidor'}\n"
     ]
    }
   ],
   "source": [
    "#df2018[\"Grupo\"]\n",
    "vacio = []\n",
    "for x in df2018[\"Grupo\"]:\n",
    "    vacio.append(x)\n",
    "    \n",
    "aa = set(vacio)\n",
    "print(aa)\n",
    "    \n",
    "\n"
   ]
  },
  {
   "cell_type": "code",
   "execution_count": 106,
   "id": "61101f77",
   "metadata": {},
   "outputs": [
    {
     "name": "stderr",
     "output_type": "stream",
     "text": [
      "/var/folders/37/x57w4bp561x9sj71bs9nmw0w0000gn/T/ipykernel_70102/3985563425.py:3: SettingWithCopyWarning: \n",
      "A value is trying to be set on a copy of a slice from a DataFrame.\n",
      "Try using .loc[row_indexer,col_indexer] = value instead\n",
      "\n",
      "See the caveats in the documentation: https://pandas.pydata.org/pandas-docs/stable/user_guide/indexing.html#returning-a-view-versus-a-copy\n",
      "  df2018[\"Grupo\"] = df2018[\"Grupo\"].replace(\"Horeca (Bares, Restaurante, Cafet.)\",0 ) \\\n"
     ]
    }
   ],
   "source": [
    "import numpy as np\n",
    "\n",
    "df2018[\"Grupo\"] = df2018[\"Grupo\"].replace(\"Horeca (Bares, Restaurante, Cafet.)\",0 ) \\\n",
    "                    .replace(\"Empleados \", 1) \\\n",
    "                    .replace(\"Distribuidor\",2 ) \\\n",
    "                    .replace(\"Drogueria\", 3) \\\n",
    "                    .replace(\"Tienda/Supermercado de Alimentacion\", 4 ) \\\n",
    "                    .replace(\"Otros\",5 ) \\\n",
    "                    .replace(\"Particulares\",6 ) \\\n",
    "                    .replace(np.nan, 7) \n"
   ]
  },
  {
   "cell_type": "code",
   "execution_count": 107,
   "id": "4fb738b0",
   "metadata": {},
   "outputs": [
    {
     "name": "stdout",
     "output_type": "stream",
     "text": [
      "{0.0, 1.0, 2.0, 3.0, 4.0, 5.0, 6.0, 7.0}\n"
     ]
    }
   ],
   "source": [
    "vacio = []\n",
    "for x in df2018[\"Grupo\"]:\n",
    "    vacio.append(x)\n",
    "    \n",
    "aa = set(vacio)\n",
    "print(aa)\n",
    "    "
   ]
  },
  {
   "cell_type": "code",
   "execution_count": 108,
   "id": "eb4d84ca",
   "metadata": {},
   "outputs": [],
   "source": [
    "copia2 = df2018"
   ]
  },
  {
   "cell_type": "code",
   "execution_count": 109,
   "id": "f3fca2b3",
   "metadata": {},
   "outputs": [],
   "source": [
    "df2018 = df2018.drop(\"IdCliente\", axis= 1)"
   ]
  },
  {
   "cell_type": "code",
   "execution_count": 110,
   "id": "30a14231",
   "metadata": {},
   "outputs": [],
   "source": [
    "\n",
    "df2018[\"Provincia\"] = pd.to_numeric(df2018[\"Provincia\"], errors=\"coerce\")\n",
    "\n",
    "df2018 = df2018.dropna(subset=[\"Provincia\"])\n"
   ]
  },
  {
   "cell_type": "code",
   "execution_count": 111,
   "id": "fb31ba58",
   "metadata": {},
   "outputs": [],
   "source": [
    "#df2018[\"Grupo\"]\n",
    "vacio = []\n",
    "for x in df2018[\"Ventas 2018\"]:\n",
    "    vacio.append(x)\n",
    "    \n",
    "a2 = set(vacio)\n",
    "#print(a2)\n",
    "\n",
    "\n",
    "    "
   ]
  },
  {
   "cell_type": "code",
   "execution_count": 112,
   "id": "03c2e1f0",
   "metadata": {},
   "outputs": [],
   "source": [
    "df2018Escalado = scale(df2018)"
   ]
  },
  {
   "cell_type": "code",
   "execution_count": 113,
   "id": "97814722",
   "metadata": {},
   "outputs": [
    {
     "name": "stderr",
     "output_type": "stream",
     "text": [
      "/Users/rushabhpatel/anaconda3/lib/python3.11/site-packages/sklearn/cluster/_kmeans.py:1412: FutureWarning: The default value of `n_init` will change from 10 to 'auto' in 1.4. Set the value of `n_init` explicitly to suppress the warning\n",
      "  super()._check_params_vs_input(X, default_n_init=10)\n",
      "/Users/rushabhpatel/anaconda3/lib/python3.11/site-packages/sklearn/cluster/_kmeans.py:1412: FutureWarning: The default value of `n_init` will change from 10 to 'auto' in 1.4. Set the value of `n_init` explicitly to suppress the warning\n",
      "  super()._check_params_vs_input(X, default_n_init=10)\n",
      "/Users/rushabhpatel/anaconda3/lib/python3.11/site-packages/sklearn/cluster/_kmeans.py:1412: FutureWarning: The default value of `n_init` will change from 10 to 'auto' in 1.4. Set the value of `n_init` explicitly to suppress the warning\n",
      "  super()._check_params_vs_input(X, default_n_init=10)\n",
      "/Users/rushabhpatel/anaconda3/lib/python3.11/site-packages/sklearn/cluster/_kmeans.py:1412: FutureWarning: The default value of `n_init` will change from 10 to 'auto' in 1.4. Set the value of `n_init` explicitly to suppress the warning\n",
      "  super()._check_params_vs_input(X, default_n_init=10)\n",
      "/Users/rushabhpatel/anaconda3/lib/python3.11/site-packages/sklearn/cluster/_kmeans.py:1412: FutureWarning: The default value of `n_init` will change from 10 to 'auto' in 1.4. Set the value of `n_init` explicitly to suppress the warning\n",
      "  super()._check_params_vs_input(X, default_n_init=10)\n",
      "/Users/rushabhpatel/anaconda3/lib/python3.11/site-packages/sklearn/cluster/_kmeans.py:1412: FutureWarning: The default value of `n_init` will change from 10 to 'auto' in 1.4. Set the value of `n_init` explicitly to suppress the warning\n",
      "  super()._check_params_vs_input(X, default_n_init=10)\n",
      "/Users/rushabhpatel/anaconda3/lib/python3.11/site-packages/sklearn/cluster/_kmeans.py:1412: FutureWarning: The default value of `n_init` will change from 10 to 'auto' in 1.4. Set the value of `n_init` explicitly to suppress the warning\n",
      "  super()._check_params_vs_input(X, default_n_init=10)\n",
      "/Users/rushabhpatel/anaconda3/lib/python3.11/site-packages/sklearn/cluster/_kmeans.py:1412: FutureWarning: The default value of `n_init` will change from 10 to 'auto' in 1.4. Set the value of `n_init` explicitly to suppress the warning\n",
      "  super()._check_params_vs_input(X, default_n_init=10)\n",
      "/Users/rushabhpatel/anaconda3/lib/python3.11/site-packages/sklearn/cluster/_kmeans.py:1412: FutureWarning: The default value of `n_init` will change from 10 to 'auto' in 1.4. Set the value of `n_init` explicitly to suppress the warning\n",
      "  super()._check_params_vs_input(X, default_n_init=10)\n",
      "/Users/rushabhpatel/anaconda3/lib/python3.11/site-packages/sklearn/cluster/_kmeans.py:1412: FutureWarning: The default value of `n_init` will change from 10 to 'auto' in 1.4. Set the value of `n_init` explicitly to suppress the warning\n",
      "  super()._check_params_vs_input(X, default_n_init=10)\n",
      "/Users/rushabhpatel/anaconda3/lib/python3.11/site-packages/sklearn/cluster/_kmeans.py:1412: FutureWarning: The default value of `n_init` will change from 10 to 'auto' in 1.4. Set the value of `n_init` explicitly to suppress the warning\n",
      "  super()._check_params_vs_input(X, default_n_init=10)\n",
      "/Users/rushabhpatel/anaconda3/lib/python3.11/site-packages/sklearn/cluster/_kmeans.py:1412: FutureWarning: The default value of `n_init` will change from 10 to 'auto' in 1.4. Set the value of `n_init` explicitly to suppress the warning\n",
      "  super()._check_params_vs_input(X, default_n_init=10)\n",
      "/Users/rushabhpatel/anaconda3/lib/python3.11/site-packages/sklearn/cluster/_kmeans.py:1412: FutureWarning: The default value of `n_init` will change from 10 to 'auto' in 1.4. Set the value of `n_init` explicitly to suppress the warning\n",
      "  super()._check_params_vs_input(X, default_n_init=10)\n",
      "/Users/rushabhpatel/anaconda3/lib/python3.11/site-packages/sklearn/cluster/_kmeans.py:1412: FutureWarning: The default value of `n_init` will change from 10 to 'auto' in 1.4. Set the value of `n_init` explicitly to suppress the warning\n",
      "  super()._check_params_vs_input(X, default_n_init=10)\n"
     ]
    },
    {
     "data": {
      "text/plain": [
       "[<matplotlib.lines.Line2D at 0x133f4c810>]"
      ]
     },
     "execution_count": 113,
     "metadata": {},
     "output_type": "execute_result"
    },
    {
     "data": {
      "image/png": "[encoded data removed]",
      "text/plain": [
       "<Figure size 640x480 with 1 Axes>"
      ]
     },
     "metadata": {},
     "output_type": "display_data"
    }
   ],
   "source": [
    "K = range(1,15)\n",
    "inercia = []\n",
    "for k in K:\n",
    "    kmeanModel = KMeans(n_clusters=k)\n",
    "    kmeanModel.fit(df2018Escalado)\n",
    "    inercia.append(kmeanModel.inertia_)\n",
    "plt.plot(inercia)"
   ]
  },
  {
   "cell_type": "code",
   "execution_count": 114,
   "id": "079c154d",
   "metadata": {},
   "outputs": [
    {
     "name": "stderr",
     "output_type": "stream",
     "text": [
      "/Users/rushabhpatel/anaconda3/lib/python3.11/site-packages/sklearn/cluster/_kmeans.py:1412: FutureWarning: The default value of `n_init` will change from 10 to 'auto' in 1.4. Set the value of `n_init` explicitly to suppress the warning\n",
      "  super()._check_params_vs_input(X, default_n_init=10)\n"
     ]
    },
    {
     "data": {
      "text/html": [
       "<style>#sk-container-id-4 {color: black;}#sk-container-id-4 pre{padding: 0;}#sk-container-id-4 div.sk-toggleable {background-color: white;}#sk-container-id-4 label.sk-toggleable__label {cursor: pointer;display: block;width: 100%;margin-bottom: 0;padding: 0.3em;box-sizing: border-box;text-align: center;}#sk-container-id-4 label.sk-toggleable__label-arrow:before {content: \"▸\";float: left;margin-right: 0.25em;color: #696969;}#sk-container-id-4 label.sk-toggleable__label-arrow:hover:before {color: black;}#sk-container-id-4 div.sk-estimator:hover label.sk-toggleable__label-arrow:before {color: black;}#sk-container-id-4 div.sk-toggleable__content {max-height: 0;max-width: 0;overflow: hidden;text-align: left;background-color: #f0f8ff;}#sk-container-id-4 div.sk-toggleable__content pre {margin: 0.2em;color: black;border-radius: 0.25em;background-color: #f0f8ff;}#sk-container-id-4 input.sk-toggleable__control:checked~div.sk-toggleable__content {max-height: 200px;max-width: 100%;overflow: auto;}#sk-container-id-4 input.sk-toggleable__control:checked~label.sk-toggleable__label-arrow:before {content: \"▾\";}#sk-container-id-4 div.sk-estimator input.sk-toggleable__control:checked~label.sk-toggleable__label {background-color: #d4ebff;}#sk-container-id-4 div.sk-label input.sk-toggleable__control:checked~label.sk-toggleable__label {background-color: #d4ebff;}#sk-container-id-4 input.sk-hidden--visually {border: 0;clip: rect(1px 1px 1px 1px);clip: rect(1px, 1px, 1px, 1px);height: 1px;margin: -1px;overflow: hidden;padding: 0;position: absolute;width: 1px;}#sk-container-id-4 div.sk-estimator {font-family: monospace;background-color: #f0f8ff;border: 1px dotted black;border-radius: 0.25em;box-sizing: border-box;margin-bottom: 0.5em;}#sk-container-id-4 div.sk-estimator:hover {background-color: #d4ebff;}#sk-container-id-4 div.sk-parallel-item::after {content: \"\";width: 100%;border-bottom: 1px solid gray;flex-grow: 1;}#sk-container-id-4 div.sk-label:hover label.sk-toggleable__label {background-color: #d4ebff;}#sk-container-id-4 div.sk-serial::before {content: \"\";position: absolute;border-left: 1px solid gray;box-sizing: border-box;top: 0;bottom: 0;left: 50%;z-index: 0;}#sk-container-id-4 div.sk-serial {display: flex;flex-direction: column;align-items: center;background-color: white;padding-right: 0.2em;padding-left: 0.2em;position: relative;}#sk-container-id-4 div.sk-item {position: relative;z-index: 1;}#sk-container-id-4 div.sk-parallel {display: flex;align-items: stretch;justify-content: center;background-color: white;position: relative;}#sk-container-id-4 div.sk-item::before, #sk-container-id-4 div.sk-parallel-item::before {content: \"\";position: absolute;border-left: 1px solid gray;box-sizing: border-box;top: 0;bottom: 0;left: 50%;z-index: -1;}#sk-container-id-4 div.sk-parallel-item {display: flex;flex-direction: column;z-index: 1;position: relative;background-color: white;}#sk-container-id-4 div.sk-parallel-item:first-child::after {align-self: flex-end;width: 50%;}#sk-container-id-4 div.sk-parallel-item:last-child::after {align-self: flex-start;width: 50%;}#sk-container-id-4 div.sk-parallel-item:only-child::after {width: 0;}#sk-container-id-4 div.sk-dashed-wrapped {border: 1px dashed gray;margin: 0 0.4em 0.5em 0.4em;box-sizing: border-box;padding-bottom: 0.4em;background-color: white;}#sk-container-id-4 div.sk-label label {font-family: monospace;font-weight: bold;display: inline-block;line-height: 1.2em;}#sk-container-id-4 div.sk-label-container {text-align: center;}#sk-container-id-4 div.sk-container {/* jupyter's `normalize.less` sets `[hidden] { display: none; }` but bootstrap.min.css set `[hidden] { display: none !important; }` so we also need the `!important` here to be able to override the default hidden behavior on the sphinx rendered scikit-learn.org. See: https://github.com/scikit-learn/scikit-learn/issues/21755 */display: inline-block !important;position: relative;}#sk-container-id-4 div.sk-text-repr-fallback {display: none;}</style><div id=\"sk-container-id-4\" class=\"sk-top-container\"><div class=\"sk-text-repr-fallback\"><pre>KMeans(n_clusters=7)</pre><b>In a Jupyter environment, please rerun this cell to show the HTML representation or trust the notebook. <br />On GitHub, the HTML representation is unable to render, please try loading this page with nbviewer.org.</b></div><div class=\"sk-container\" hidden><div class=\"sk-item\"><div class=\"sk-estimator sk-toggleable\"><input class=\"sk-toggleable__control sk-hidden--visually\" id=\"sk-estimator-id-4\" type=\"checkbox\" checked><label for=\"sk-estimator-id-4\" class=\"sk-toggleable__label sk-toggleable__label-arrow\">KMeans</label><div class=\"sk-toggleable__content\"><pre>KMeans(n_clusters=7)</pre></div></div></div></div></div>"
      ],
      "text/plain": [
       "KMeans(n_clusters=7)"
      ]
     },
     "execution_count": 114,
     "metadata": {},
     "output_type": "execute_result"
    }
   ],
   "source": [
    "km = KMeans(n_clusters = 7)\n",
    "km.fit(df2018Escalado)"
   ]
  },
  {
   "cell_type": "code",
   "execution_count": 115,
   "id": "43c1412e",
   "metadata": {},
   "outputs": [
    {
     "data": {
      "text/plain": [
       "array([0, 0, 5, ..., 4, 4, 4], dtype=int32)"
      ]
     },
     "execution_count": 115,
     "metadata": {},
     "output_type": "execute_result"
    }
   ],
   "source": [
    "km.labels_"
   ]
  },
  {
   "cell_type": "code",
   "execution_count": null,
   "id": "305ed8ec",
   "metadata": {},
   "outputs": [],
   "source": []
  },
  {
   "cell_type": "code",
   "execution_count": 116,
   "id": "5209a363",
   "metadata": {},
   "outputs": [],
   "source": [
    "df2018[\"Ventas 2018\"] = df2018[\"Ventas 2018\"].astype(\"float64\")"
   ]
  },
  {
   "cell_type": "code",
   "execution_count": 117,
   "id": "cf93924e",
   "metadata": {},
   "outputs": [],
   "source": [
    "df2018[\"cluster\"] = km.labels_"
   ]
  },
  {
   "cell_type": "code",
   "execution_count": null,
   "id": "db0171ee",
   "metadata": {},
   "outputs": [],
   "source": []
  },
  {
   "cell_type": "code",
   "execution_count": 118,
   "id": "ff0faca9",
   "metadata": {},
   "outputs": [
    {
     "data": {
      "text/html": [
       "<div>\n",
       "<style scoped>\n",
       "    .dataframe tbody tr th:only-of-type {\n",
       "        vertical-align: middle;\n",
       "    }\n",
       "\n",
       "    .dataframe tbody tr th {\n",
       "        vertical-align: top;\n",
       "    }\n",
       "\n",
       "    .dataframe thead th {\n",
       "        text-align: right;\n",
       "    }\n",
       "</style>\n",
       "<table border=\"1\" class=\"dataframe\">\n",
       "  <thead>\n",
       "    <tr style=\"text-align: right;\">\n",
       "      <th></th>\n",
       "      <th>Provincia</th>\n",
       "      <th>Grupo</th>\n",
       "      <th>Ventas 2018</th>\n",
       "      <th>Unidades 2018</th>\n",
       "      <th>Tickets 2018</th>\n",
       "      <th>cluster</th>\n",
       "    </tr>\n",
       "  </thead>\n",
       "  <tbody>\n",
       "    <tr>\n",
       "      <th>0</th>\n",
       "      <td>29.0</td>\n",
       "      <td>4.0</td>\n",
       "      <td>1525.7880</td>\n",
       "      <td>2213.28</td>\n",
       "      <td>46</td>\n",
       "      <td>0</td>\n",
       "    </tr>\n",
       "    <tr>\n",
       "      <th>1</th>\n",
       "      <td>29.0</td>\n",
       "      <td>7.0</td>\n",
       "      <td>115.8179</td>\n",
       "      <td>82.97</td>\n",
       "      <td>1</td>\n",
       "      <td>0</td>\n",
       "    </tr>\n",
       "    <tr>\n",
       "      <th>2</th>\n",
       "      <td>29.0</td>\n",
       "      <td>4.0</td>\n",
       "      <td>25670.9588</td>\n",
       "      <td>35516.11</td>\n",
       "      <td>236</td>\n",
       "      <td>5</td>\n",
       "    </tr>\n",
       "    <tr>\n",
       "      <th>3</th>\n",
       "      <td>29.0</td>\n",
       "      <td>4.0</td>\n",
       "      <td>39519.3851</td>\n",
       "      <td>42299.2</td>\n",
       "      <td>358</td>\n",
       "      <td>5</td>\n",
       "    </tr>\n",
       "    <tr>\n",
       "      <th>4</th>\n",
       "      <td>29.0</td>\n",
       "      <td>4.0</td>\n",
       "      <td>2555.5218</td>\n",
       "      <td>2587.39</td>\n",
       "      <td>20</td>\n",
       "      <td>0</td>\n",
       "    </tr>\n",
       "    <tr>\n",
       "      <th>...</th>\n",
       "      <td>...</td>\n",
       "      <td>...</td>\n",
       "      <td>...</td>\n",
       "      <td>...</td>\n",
       "      <td>...</td>\n",
       "      <td>...</td>\n",
       "    </tr>\n",
       "    <tr>\n",
       "      <th>38782</th>\n",
       "      <td>4.0</td>\n",
       "      <td>4.0</td>\n",
       "      <td>971.5203</td>\n",
       "      <td>1479.77</td>\n",
       "      <td>12</td>\n",
       "      <td>4</td>\n",
       "    </tr>\n",
       "    <tr>\n",
       "      <th>38783</th>\n",
       "      <td>4.0</td>\n",
       "      <td>0.0</td>\n",
       "      <td>52.2100</td>\n",
       "      <td>22</td>\n",
       "      <td>1</td>\n",
       "      <td>6</td>\n",
       "    </tr>\n",
       "    <tr>\n",
       "      <th>38784</th>\n",
       "      <td>4.0</td>\n",
       "      <td>7.0</td>\n",
       "      <td>53.5920</td>\n",
       "      <td>50</td>\n",
       "      <td>1</td>\n",
       "      <td>4</td>\n",
       "    </tr>\n",
       "    <tr>\n",
       "      <th>38785</th>\n",
       "      <td>18.0</td>\n",
       "      <td>4.0</td>\n",
       "      <td>173.0500</td>\n",
       "      <td>170</td>\n",
       "      <td>1</td>\n",
       "      <td>4</td>\n",
       "    </tr>\n",
       "    <tr>\n",
       "      <th>38786</th>\n",
       "      <td>23.0</td>\n",
       "      <td>5.0</td>\n",
       "      <td>205.5830</td>\n",
       "      <td>252</td>\n",
       "      <td>7</td>\n",
       "      <td>4</td>\n",
       "    </tr>\n",
       "  </tbody>\n",
       "</table>\n",
       "<p>38778 rows × 6 columns</p>\n",
       "</div>"
      ],
      "text/plain": [
       "       Provincia  Grupo  Ventas 2018 Unidades 2018  Tickets 2018  cluster\n",
       "0           29.0    4.0    1525.7880       2213.28            46        0\n",
       "1           29.0    7.0     115.8179         82.97             1        0\n",
       "2           29.0    4.0   25670.9588      35516.11           236        5\n",
       "3           29.0    4.0   39519.3851       42299.2           358        5\n",
       "4           29.0    4.0    2555.5218       2587.39            20        0\n",
       "...          ...    ...          ...           ...           ...      ...\n",
       "38782        4.0    4.0     971.5203       1479.77            12        4\n",
       "38783        4.0    0.0      52.2100            22             1        6\n",
       "38784        4.0    7.0      53.5920            50             1        4\n",
       "38785       18.0    4.0     173.0500           170             1        4\n",
       "38786       23.0    5.0     205.5830           252             7        4\n",
       "\n",
       "[38778 rows x 6 columns]"
      ]
     },
     "execution_count": 118,
     "metadata": {},
     "output_type": "execute_result"
    }
   ],
   "source": [
    "df2018"
   ]
  },
  {
   "cell_type": "code",
   "execution_count": 119,
   "id": "8ac9faf1",
   "metadata": {},
   "outputs": [],
   "source": [
    "df2018[\"Ventas 2018\"] = df2018[\"Ventas 2018\"].astype(\"float64\")"
   ]
  },
  {
   "cell_type": "code",
   "execution_count": 120,
   "id": "451836fc",
   "metadata": {},
   "outputs": [
    {
     "data": {
      "text/html": [
       "<div>\n",
       "<style scoped>\n",
       "    .dataframe tbody tr th:only-of-type {\n",
       "        vertical-align: middle;\n",
       "    }\n",
       "\n",
       "    .dataframe tbody tr th {\n",
       "        vertical-align: top;\n",
       "    }\n",
       "\n",
       "    .dataframe thead th {\n",
       "        text-align: right;\n",
       "    }\n",
       "</style>\n",
       "<table border=\"1\" class=\"dataframe\">\n",
       "  <thead>\n",
       "    <tr style=\"text-align: right;\">\n",
       "      <th></th>\n",
       "      <th>Provincia</th>\n",
       "      <th>Grupo</th>\n",
       "      <th>Ventas 2018</th>\n",
       "      <th>Unidades 2018</th>\n",
       "      <th>Tickets 2018</th>\n",
       "      <th>cluster</th>\n",
       "    </tr>\n",
       "  </thead>\n",
       "  <tbody>\n",
       "    <tr>\n",
       "      <th>0</th>\n",
       "      <td>29.0</td>\n",
       "      <td>4.0</td>\n",
       "      <td>1525.7880</td>\n",
       "      <td>2213.28</td>\n",
       "      <td>46</td>\n",
       "      <td>0</td>\n",
       "    </tr>\n",
       "    <tr>\n",
       "      <th>1</th>\n",
       "      <td>29.0</td>\n",
       "      <td>7.0</td>\n",
       "      <td>115.8179</td>\n",
       "      <td>82.97</td>\n",
       "      <td>1</td>\n",
       "      <td>0</td>\n",
       "    </tr>\n",
       "    <tr>\n",
       "      <th>2</th>\n",
       "      <td>29.0</td>\n",
       "      <td>4.0</td>\n",
       "      <td>25670.9588</td>\n",
       "      <td>35516.11</td>\n",
       "      <td>236</td>\n",
       "      <td>5</td>\n",
       "    </tr>\n",
       "    <tr>\n",
       "      <th>3</th>\n",
       "      <td>29.0</td>\n",
       "      <td>4.0</td>\n",
       "      <td>39519.3851</td>\n",
       "      <td>42299.2</td>\n",
       "      <td>358</td>\n",
       "      <td>5</td>\n",
       "    </tr>\n",
       "    <tr>\n",
       "      <th>4</th>\n",
       "      <td>29.0</td>\n",
       "      <td>4.0</td>\n",
       "      <td>2555.5218</td>\n",
       "      <td>2587.39</td>\n",
       "      <td>20</td>\n",
       "      <td>0</td>\n",
       "    </tr>\n",
       "    <tr>\n",
       "      <th>...</th>\n",
       "      <td>...</td>\n",
       "      <td>...</td>\n",
       "      <td>...</td>\n",
       "      <td>...</td>\n",
       "      <td>...</td>\n",
       "      <td>...</td>\n",
       "    </tr>\n",
       "    <tr>\n",
       "      <th>38782</th>\n",
       "      <td>4.0</td>\n",
       "      <td>4.0</td>\n",
       "      <td>971.5203</td>\n",
       "      <td>1479.77</td>\n",
       "      <td>12</td>\n",
       "      <td>4</td>\n",
       "    </tr>\n",
       "    <tr>\n",
       "      <th>38783</th>\n",
       "      <td>4.0</td>\n",
       "      <td>0.0</td>\n",
       "      <td>52.2100</td>\n",
       "      <td>22</td>\n",
       "      <td>1</td>\n",
       "      <td>6</td>\n",
       "    </tr>\n",
       "    <tr>\n",
       "      <th>38784</th>\n",
       "      <td>4.0</td>\n",
       "      <td>7.0</td>\n",
       "      <td>53.5920</td>\n",
       "      <td>50</td>\n",
       "      <td>1</td>\n",
       "      <td>4</td>\n",
       "    </tr>\n",
       "    <tr>\n",
       "      <th>38785</th>\n",
       "      <td>18.0</td>\n",
       "      <td>4.0</td>\n",
       "      <td>173.0500</td>\n",
       "      <td>170</td>\n",
       "      <td>1</td>\n",
       "      <td>4</td>\n",
       "    </tr>\n",
       "    <tr>\n",
       "      <th>38786</th>\n",
       "      <td>23.0</td>\n",
       "      <td>5.0</td>\n",
       "      <td>205.5830</td>\n",
       "      <td>252</td>\n",
       "      <td>7</td>\n",
       "      <td>4</td>\n",
       "    </tr>\n",
       "  </tbody>\n",
       "</table>\n",
       "<p>38778 rows × 6 columns</p>\n",
       "</div>"
      ],
      "text/plain": [
       "       Provincia  Grupo  Ventas 2018 Unidades 2018  Tickets 2018  cluster\n",
       "0           29.0    4.0    1525.7880       2213.28            46        0\n",
       "1           29.0    7.0     115.8179         82.97             1        0\n",
       "2           29.0    4.0   25670.9588      35516.11           236        5\n",
       "3           29.0    4.0   39519.3851       42299.2           358        5\n",
       "4           29.0    4.0    2555.5218       2587.39            20        0\n",
       "...          ...    ...          ...           ...           ...      ...\n",
       "38782        4.0    4.0     971.5203       1479.77            12        4\n",
       "38783        4.0    0.0      52.2100            22             1        6\n",
       "38784        4.0    7.0      53.5920            50             1        4\n",
       "38785       18.0    4.0     173.0500           170             1        4\n",
       "38786       23.0    5.0     205.5830           252             7        4\n",
       "\n",
       "[38778 rows x 6 columns]"
      ]
     },
     "execution_count": 120,
     "metadata": {},
     "output_type": "execute_result"
    }
   ],
   "source": [
    "df2018"
   ]
  },
  {
   "cell_type": "code",
   "execution_count": 121,
   "id": "17179a71",
   "metadata": {},
   "outputs": [
    {
     "data": {
      "text/html": [
       "<div>\n",
       "<style scoped>\n",
       "    .dataframe tbody tr th:only-of-type {\n",
       "        vertical-align: middle;\n",
       "    }\n",
       "\n",
       "    .dataframe tbody tr th {\n",
       "        vertical-align: top;\n",
       "    }\n",
       "\n",
       "    .dataframe thead th {\n",
       "        text-align: right;\n",
       "    }\n",
       "</style>\n",
       "<table border=\"1\" class=\"dataframe\">\n",
       "  <thead>\n",
       "    <tr style=\"text-align: right;\">\n",
       "      <th></th>\n",
       "      <th>Provincia</th>\n",
       "      <th>Grupo</th>\n",
       "      <th>Ventas 2018</th>\n",
       "      <th>Tickets 2018</th>\n",
       "      <th>cluster</th>\n",
       "    </tr>\n",
       "  </thead>\n",
       "  <tbody>\n",
       "    <tr>\n",
       "      <th>count</th>\n",
       "      <td>150.000000</td>\n",
       "      <td>150.000000</td>\n",
       "      <td>150.000000</td>\n",
       "      <td>150.000000</td>\n",
       "      <td>150.0</td>\n",
       "    </tr>\n",
       "    <tr>\n",
       "      <th>mean</th>\n",
       "      <td>22.886667</td>\n",
       "      <td>3.400000</td>\n",
       "      <td>102952.402630</td>\n",
       "      <td>436.686667</td>\n",
       "      <td>1.0</td>\n",
       "    </tr>\n",
       "    <tr>\n",
       "      <th>std</th>\n",
       "      <td>8.859482</td>\n",
       "      <td>1.305641</td>\n",
       "      <td>39669.184868</td>\n",
       "      <td>294.182593</td>\n",
       "      <td>0.0</td>\n",
       "    </tr>\n",
       "    <tr>\n",
       "      <th>min</th>\n",
       "      <td>4.000000</td>\n",
       "      <td>0.000000</td>\n",
       "      <td>56685.323500</td>\n",
       "      <td>101.000000</td>\n",
       "      <td>1.0</td>\n",
       "    </tr>\n",
       "    <tr>\n",
       "      <th>25%</th>\n",
       "      <td>18.000000</td>\n",
       "      <td>4.000000</td>\n",
       "      <td>80263.043125</td>\n",
       "      <td>306.750000</td>\n",
       "      <td>1.0</td>\n",
       "    </tr>\n",
       "    <tr>\n",
       "      <th>50%</th>\n",
       "      <td>29.000000</td>\n",
       "      <td>4.000000</td>\n",
       "      <td>90157.966650</td>\n",
       "      <td>394.500000</td>\n",
       "      <td>1.0</td>\n",
       "    </tr>\n",
       "    <tr>\n",
       "      <th>75%</th>\n",
       "      <td>29.000000</td>\n",
       "      <td>4.000000</td>\n",
       "      <td>111916.526925</td>\n",
       "      <td>508.250000</td>\n",
       "      <td>1.0</td>\n",
       "    </tr>\n",
       "    <tr>\n",
       "      <th>max</th>\n",
       "      <td>41.000000</td>\n",
       "      <td>5.000000</td>\n",
       "      <td>286945.168300</td>\n",
       "      <td>2487.000000</td>\n",
       "      <td>1.0</td>\n",
       "    </tr>\n",
       "  </tbody>\n",
       "</table>\n",
       "</div>"
      ],
      "text/plain": [
       "        Provincia       Grupo    Ventas 2018  Tickets 2018  cluster\n",
       "count  150.000000  150.000000     150.000000    150.000000    150.0\n",
       "mean    22.886667    3.400000  102952.402630    436.686667      1.0\n",
       "std      8.859482    1.305641   39669.184868    294.182593      0.0\n",
       "min      4.000000    0.000000   56685.323500    101.000000      1.0\n",
       "25%     18.000000    4.000000   80263.043125    306.750000      1.0\n",
       "50%     29.000000    4.000000   90157.966650    394.500000      1.0\n",
       "75%     29.000000    4.000000  111916.526925    508.250000      1.0\n",
       "max     41.000000    5.000000  286945.168300   2487.000000      1.0"
      ]
     },
     "execution_count": 121,
     "metadata": {},
     "output_type": "execute_result"
    }
   ],
   "source": [
    "df2018[df2018[\"cluster\"] ==1].describe()"
   ]
  },
  {
   "cell_type": "code",
   "execution_count": 122,
   "id": "cfaed9d5",
   "metadata": {},
   "outputs": [
    {
     "data": {
      "text/html": [
       "<div>\n",
       "<style scoped>\n",
       "    .dataframe tbody tr th:only-of-type {\n",
       "        vertical-align: middle;\n",
       "    }\n",
       "\n",
       "    .dataframe tbody tr th {\n",
       "        vertical-align: top;\n",
       "    }\n",
       "\n",
       "    .dataframe thead th {\n",
       "        text-align: right;\n",
       "    }\n",
       "</style>\n",
       "<table border=\"1\" class=\"dataframe\">\n",
       "  <thead>\n",
       "    <tr style=\"text-align: right;\">\n",
       "      <th></th>\n",
       "      <th>Provincia</th>\n",
       "      <th>Grupo</th>\n",
       "      <th>Ventas 2018</th>\n",
       "      <th>Tickets 2018</th>\n",
       "      <th>cluster</th>\n",
       "    </tr>\n",
       "  </thead>\n",
       "  <tbody>\n",
       "    <tr>\n",
       "      <th>count</th>\n",
       "      <td>3532.000000</td>\n",
       "      <td>3532.000000</td>\n",
       "      <td>3532.000000</td>\n",
       "      <td>3532.000000</td>\n",
       "      <td>3532.0</td>\n",
       "    </tr>\n",
       "    <tr>\n",
       "      <th>mean</th>\n",
       "      <td>23.247169</td>\n",
       "      <td>2.277463</td>\n",
       "      <td>16373.435203</td>\n",
       "      <td>126.553511</td>\n",
       "      <td>2.0</td>\n",
       "    </tr>\n",
       "    <tr>\n",
       "      <th>std</th>\n",
       "      <td>9.706267</td>\n",
       "      <td>2.027570</td>\n",
       "      <td>7396.975173</td>\n",
       "      <td>60.435629</td>\n",
       "      <td>0.0</td>\n",
       "    </tr>\n",
       "    <tr>\n",
       "      <th>min</th>\n",
       "      <td>0.000000</td>\n",
       "      <td>0.000000</td>\n",
       "      <td>355.821300</td>\n",
       "      <td>22.000000</td>\n",
       "      <td>2.0</td>\n",
       "    </tr>\n",
       "    <tr>\n",
       "      <th>25%</th>\n",
       "      <td>14.000000</td>\n",
       "      <td>0.000000</td>\n",
       "      <td>11367.170575</td>\n",
       "      <td>83.000000</td>\n",
       "      <td>2.0</td>\n",
       "    </tr>\n",
       "    <tr>\n",
       "      <th>50%</th>\n",
       "      <td>23.000000</td>\n",
       "      <td>4.000000</td>\n",
       "      <td>15709.199500</td>\n",
       "      <td>114.000000</td>\n",
       "      <td>2.0</td>\n",
       "    </tr>\n",
       "    <tr>\n",
       "      <th>75%</th>\n",
       "      <td>29.000000</td>\n",
       "      <td>4.000000</td>\n",
       "      <td>20933.560225</td>\n",
       "      <td>154.000000</td>\n",
       "      <td>2.0</td>\n",
       "    </tr>\n",
       "    <tr>\n",
       "      <th>max</th>\n",
       "      <td>41.000000</td>\n",
       "      <td>7.000000</td>\n",
       "      <td>44723.230200</td>\n",
       "      <td>526.000000</td>\n",
       "      <td>2.0</td>\n",
       "    </tr>\n",
       "  </tbody>\n",
       "</table>\n",
       "</div>"
      ],
      "text/plain": [
       "         Provincia        Grupo   Ventas 2018  Tickets 2018  cluster\n",
       "count  3532.000000  3532.000000   3532.000000   3532.000000   3532.0\n",
       "mean     23.247169     2.277463  16373.435203    126.553511      2.0\n",
       "std       9.706267     2.027570   7396.975173     60.435629      0.0\n",
       "min       0.000000     0.000000    355.821300     22.000000      2.0\n",
       "25%      14.000000     0.000000  11367.170575     83.000000      2.0\n",
       "50%      23.000000     4.000000  15709.199500    114.000000      2.0\n",
       "75%      29.000000     4.000000  20933.560225    154.000000      2.0\n",
       "max      41.000000     7.000000  44723.230200    526.000000      2.0"
      ]
     },
     "execution_count": 122,
     "metadata": {},
     "output_type": "execute_result"
    }
   ],
   "source": [
    "df2018[df2018[\"cluster\"] ==2].describe()"
   ]
  },
  {
   "cell_type": "code",
   "execution_count": 123,
   "id": "d31e1e15",
   "metadata": {},
   "outputs": [
    {
     "data": {
      "text/html": [
       "<div>\n",
       "<style scoped>\n",
       "    .dataframe tbody tr th:only-of-type {\n",
       "        vertical-align: middle;\n",
       "    }\n",
       "\n",
       "    .dataframe tbody tr th {\n",
       "        vertical-align: top;\n",
       "    }\n",
       "\n",
       "    .dataframe thead th {\n",
       "        text-align: right;\n",
       "    }\n",
       "</style>\n",
       "<table border=\"1\" class=\"dataframe\">\n",
       "  <thead>\n",
       "    <tr style=\"text-align: right;\">\n",
       "      <th></th>\n",
       "      <th>Provincia</th>\n",
       "      <th>Grupo</th>\n",
       "      <th>Ventas 2018</th>\n",
       "      <th>Tickets 2018</th>\n",
       "      <th>cluster</th>\n",
       "    </tr>\n",
       "  </thead>\n",
       "  <tbody>\n",
       "    <tr>\n",
       "      <th>count</th>\n",
       "      <td>5758.000000</td>\n",
       "      <td>5758.000000</td>\n",
       "      <td>5758.000000</td>\n",
       "      <td>5758.000000</td>\n",
       "      <td>5758.0</td>\n",
       "    </tr>\n",
       "    <tr>\n",
       "      <th>mean</th>\n",
       "      <td>31.191560</td>\n",
       "      <td>0.258423</td>\n",
       "      <td>4038.229914</td>\n",
       "      <td>33.544807</td>\n",
       "      <td>3.0</td>\n",
       "    </tr>\n",
       "    <tr>\n",
       "      <th>std</th>\n",
       "      <td>6.580453</td>\n",
       "      <td>0.666771</td>\n",
       "      <td>3987.904488</td>\n",
       "      <td>27.266057</td>\n",
       "      <td>0.0</td>\n",
       "    </tr>\n",
       "    <tr>\n",
       "      <th>min</th>\n",
       "      <td>23.000000</td>\n",
       "      <td>0.000000</td>\n",
       "      <td>0.000000</td>\n",
       "      <td>1.000000</td>\n",
       "      <td>3.0</td>\n",
       "    </tr>\n",
       "    <tr>\n",
       "      <th>25%</th>\n",
       "      <td>29.000000</td>\n",
       "      <td>0.000000</td>\n",
       "      <td>975.845075</td>\n",
       "      <td>12.000000</td>\n",
       "      <td>3.0</td>\n",
       "    </tr>\n",
       "    <tr>\n",
       "      <th>50%</th>\n",
       "      <td>29.000000</td>\n",
       "      <td>0.000000</td>\n",
       "      <td>2617.677450</td>\n",
       "      <td>27.000000</td>\n",
       "      <td>3.0</td>\n",
       "    </tr>\n",
       "    <tr>\n",
       "      <th>75%</th>\n",
       "      <td>41.000000</td>\n",
       "      <td>0.000000</td>\n",
       "      <td>6078.982150</td>\n",
       "      <td>50.000000</td>\n",
       "      <td>3.0</td>\n",
       "    </tr>\n",
       "    <tr>\n",
       "      <th>max</th>\n",
       "      <td>99.000000</td>\n",
       "      <td>3.000000</td>\n",
       "      <td>25077.225700</td>\n",
       "      <td>178.000000</td>\n",
       "      <td>3.0</td>\n",
       "    </tr>\n",
       "  </tbody>\n",
       "</table>\n",
       "</div>"
      ],
      "text/plain": [
       "         Provincia        Grupo   Ventas 2018  Tickets 2018  cluster\n",
       "count  5758.000000  5758.000000   5758.000000   5758.000000   5758.0\n",
       "mean     31.191560     0.258423   4038.229914     33.544807      3.0\n",
       "std       6.580453     0.666771   3987.904488     27.266057      0.0\n",
       "min      23.000000     0.000000      0.000000      1.000000      3.0\n",
       "25%      29.000000     0.000000    975.845075     12.000000      3.0\n",
       "50%      29.000000     0.000000   2617.677450     27.000000      3.0\n",
       "75%      41.000000     0.000000   6078.982150     50.000000      3.0\n",
       "max      99.000000     3.000000  25077.225700    178.000000      3.0"
      ]
     },
     "execution_count": 123,
     "metadata": {},
     "output_type": "execute_result"
    }
   ],
   "source": [
    "df2018[df2018[\"cluster\"] ==3].describe()"
   ]
  },
  {
   "cell_type": "code",
   "execution_count": 124,
   "id": "51409726",
   "metadata": {
    "scrolled": true
   },
   "outputs": [
    {
     "data": {
      "text/html": [
       "<div>\n",
       "<style scoped>\n",
       "    .dataframe tbody tr th:only-of-type {\n",
       "        vertical-align: middle;\n",
       "    }\n",
       "\n",
       "    .dataframe tbody tr th {\n",
       "        vertical-align: top;\n",
       "    }\n",
       "\n",
       "    .dataframe thead th {\n",
       "        text-align: right;\n",
       "    }\n",
       "</style>\n",
       "<table border=\"1\" class=\"dataframe\">\n",
       "  <thead>\n",
       "    <tr style=\"text-align: right;\">\n",
       "      <th></th>\n",
       "      <th>Provincia</th>\n",
       "      <th>Grupo</th>\n",
       "      <th>Ventas 2018</th>\n",
       "      <th>Tickets 2018</th>\n",
       "      <th>cluster</th>\n",
       "    </tr>\n",
       "  </thead>\n",
       "  <tbody>\n",
       "    <tr>\n",
       "      <th>count</th>\n",
       "      <td>13210.000000</td>\n",
       "      <td>13210.000000</td>\n",
       "      <td>13210.000000</td>\n",
       "      <td>13210.000000</td>\n",
       "      <td>13210.0</td>\n",
       "    </tr>\n",
       "    <tr>\n",
       "      <th>mean</th>\n",
       "      <td>14.573429</td>\n",
       "      <td>5.739970</td>\n",
       "      <td>1572.478955</td>\n",
       "      <td>16.466919</td>\n",
       "      <td>4.0</td>\n",
       "    </tr>\n",
       "    <tr>\n",
       "      <th>std</th>\n",
       "      <td>4.596335</td>\n",
       "      <td>1.242429</td>\n",
       "      <td>2164.366905</td>\n",
       "      <td>19.587900</td>\n",
       "      <td>0.0</td>\n",
       "    </tr>\n",
       "    <tr>\n",
       "      <th>min</th>\n",
       "      <td>0.000000</td>\n",
       "      <td>3.000000</td>\n",
       "      <td>-184.930200</td>\n",
       "      <td>1.000000</td>\n",
       "      <td>4.0</td>\n",
       "    </tr>\n",
       "    <tr>\n",
       "      <th>25%</th>\n",
       "      <td>11.000000</td>\n",
       "      <td>5.000000</td>\n",
       "      <td>184.465425</td>\n",
       "      <td>3.000000</td>\n",
       "      <td>4.0</td>\n",
       "    </tr>\n",
       "    <tr>\n",
       "      <th>50%</th>\n",
       "      <td>14.000000</td>\n",
       "      <td>6.000000</td>\n",
       "      <td>729.919650</td>\n",
       "      <td>9.000000</td>\n",
       "      <td>4.0</td>\n",
       "    </tr>\n",
       "    <tr>\n",
       "      <th>75%</th>\n",
       "      <td>18.000000</td>\n",
       "      <td>7.000000</td>\n",
       "      <td>2081.756050</td>\n",
       "      <td>23.000000</td>\n",
       "      <td>4.0</td>\n",
       "    </tr>\n",
       "    <tr>\n",
       "      <th>max</th>\n",
       "      <td>24.000000</td>\n",
       "      <td>7.000000</td>\n",
       "      <td>20879.801600</td>\n",
       "      <td>169.000000</td>\n",
       "      <td>4.0</td>\n",
       "    </tr>\n",
       "  </tbody>\n",
       "</table>\n",
       "</div>"
      ],
      "text/plain": [
       "          Provincia         Grupo   Ventas 2018  Tickets 2018  cluster\n",
       "count  13210.000000  13210.000000  13210.000000  13210.000000  13210.0\n",
       "mean      14.573429      5.739970   1572.478955     16.466919      4.0\n",
       "std        4.596335      1.242429   2164.366905     19.587900      0.0\n",
       "min        0.000000      3.000000   -184.930200      1.000000      4.0\n",
       "25%       11.000000      5.000000    184.465425      3.000000      4.0\n",
       "50%       14.000000      6.000000    729.919650      9.000000      4.0\n",
       "75%       18.000000      7.000000   2081.756050     23.000000      4.0\n",
       "max       24.000000      7.000000  20879.801600    169.000000      4.0"
      ]
     },
     "execution_count": 124,
     "metadata": {},
     "output_type": "execute_result"
    }
   ],
   "source": [
    "df2018[df2018[\"cluster\"] ==4].describe()"
   ]
  },
  {
   "cell_type": "code",
   "execution_count": null,
   "id": "d6b40b5d",
   "metadata": {},
   "outputs": [],
   "source": []
  },
  {
   "cell_type": "code",
   "execution_count": 125,
   "id": "40285cd3",
   "metadata": {},
   "outputs": [],
   "source": [
    "####################################################################################\n",
    "####################################################################################\n",
    "####################################################################################\n",
    "####################################################################################\n",
    "####################################################################################\n",
    "####################################################################################\n",
    "####################################################################################\n",
    "####################################################################################\n"
   ]
  },
  {
   "cell_type": "code",
   "execution_count": null,
   "id": "02c01c7f",
   "metadata": {},
   "outputs": [],
   "source": []
  },
  {
   "cell_type": "code",
   "execution_count": null,
   "id": "38db002f",
   "metadata": {},
   "outputs": [],
   "source": []
  },
  {
   "cell_type": "code",
   "execution_count": null,
   "id": "63b996f6",
   "metadata": {},
   "outputs": [],
   "source": []
  },
  {
   "cell_type": "code",
   "execution_count": null,
   "id": "a0987c48",
   "metadata": {},
   "outputs": [],
   "source": []
  },
  {
   "cell_type": "code",
   "execution_count": null,
   "id": "456822c7",
   "metadata": {},
   "outputs": [],
   "source": []
  }
 ],
 "metadata": {
  "kernelspec": {
   "display_name": "Python 3 (ipykernel)",
   "language": "python",
   "name": "python3"
  },
  "language_info": {
   "codemirror_mode": {
    "name": "ipython",
    "version": 3
   },
   "file_extension": ".py",
   "mimetype": "text/x-python",
   "name": "python",
   "nbconvert_exporter": "python",
   "pygments_lexer": "ipython3",
   "version": "3.11.4"
  }
 },
 "nbformat": 4,
 "nbformat_minor": 5
}
